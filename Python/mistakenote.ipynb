{
 "cells": [
  {
   "cell_type": "markdown",
   "id": "f79e875b",
   "metadata": {},
   "source": [
    "# 오답노트"
   ]
  },
  {
   "cell_type": "markdown",
   "id": "a42d6464",
   "metadata": {},
   "source": [
    "### 13번. 딕셔너리에서 가장 비싼 과일 찾기\n",
    "\n",
    "다음 딕셔너리에서 가격이 가장 높은 과일과 그 가격을 출력하세요:\n",
    "```python\n",
    "fruits = {'apple': 1000, 'banana': 500, 'orange': 800}\n",
    "```"
   ]
  },
  {
   "cell_type": "markdown",
   "id": "71438970",
   "metadata": {},
   "source": [
    "### 17번. 회문(Palindrome) 검사\n",
    "\n",
    "입력받은 단어가 앞에서 읽든 뒤에서 읽든 같은 단어인지 확인하는 프로그램을 작성하세요.\n",
    "\n",
    "📌 예시: `level` → 회문 / `hello` → 회문 아님"
   ]
  },
  {
   "cell_type": "markdown",
   "id": "5d0d66c4",
   "metadata": {},
   "source": [
    "### 22번 문제\n",
    "학생들의 성적 딕셔너리를 만들고, 평균 점수를 계산하여 평균 이상인 학생들만 출력하세요."
   ]
  },
  {
   "cell_type": "markdown",
   "id": "99a0dacc",
   "metadata": {},
   "source": [
    "### 25번 문제\n",
    "영어 문장을 입력받아 단어 개수, 문자 개수(공백 제외), 모음 개수를 세는 프로그램을 작성하세요."
   ]
  },
  {
   "cell_type": "markdown",
   "id": "e16eb951",
   "metadata": {},
   "source": [
    "### 27번 문제\n",
    "문자열 리스트에서 가장 긴 문자열과 가장 짧은 문자열을 찾아 출력하세요."
   ]
  },
  {
   "cell_type": "markdown",
   "id": "1f87397a",
   "metadata": {},
   "source": [
    "### 30번 문제\n",
    "주어진 문자열에서 가장 많이 나타나는 문자와 그 개수를 찾아 출력하세요."
   ]
  },
  {
   "cell_type": "markdown",
   "id": "c02f73f3",
   "metadata": {},
   "source": [
    "### 윤년 판별하기\n",
    "\n",
    "윤년이란, 2월 29일이 존재하는 연도를 의미하며 4년에 한 번씩 돌아옵니다.\n",
    "특정 연도 year가 주어질 때, 해당 연도가 윤년인지 판별하는 solution 함수를 작성하시오.\n",
    "\n",
    "윤년을 판별하는 방법은 아래와 같습니다.\n",
    "\n",
    "4로 나누어떨어지는 해는 윤년입니다.\n",
    "단, 100으로 나누어떨어지는 해는 윤년이 아닙니다.\n",
    "하지만 400으로 나누어떨어지는 해는 윤년입니다."
   ]
  },
  {
   "cell_type": "code",
   "execution_count": null,
   "id": "fe7a904f",
   "metadata": {},
   "outputs": [],
   "source": [
    "def solution(year):\n",
    "    \n",
    "    return answer"
   ]
  },
  {
   "cell_type": "code",
   "execution_count": 3,
   "id": "81d44410",
   "metadata": {},
   "outputs": [
    {
     "data": {
      "text/plain": [
       "('NO', 'NO', 'NO')"
      ]
     },
     "execution_count": 3,
     "metadata": {},
     "output_type": "execute_result"
    }
   ],
   "source": [
    "solution(2000), solution(1900), solution(2024)"
   ]
  },
  {
   "cell_type": "code",
   "execution_count": 27,
   "id": "2ea17cea",
   "metadata": {},
   "outputs": [
    {
     "data": {
      "text/plain": [
       "1"
      ]
     },
     "execution_count": 27,
     "metadata": {},
     "output_type": "execute_result"
    }
   ],
   "source": [
    "def solution(wallet, bill):\n",
    "    answer = 0\n",
    "\n",
    "    while min(bill) > min(wallet) or max(bill) > max(wallet):\n",
    "        if bill[0] > bill[1]:\n",
    "            bill[0] = bill[0] // 2\n",
    "        else:\n",
    "            bill[1] = bill[1] // 2\n",
    "        answer += 1\n",
    "\n",
    "    return answer\n",
    "\n",
    "solution([30, 15], [26, 17])  # 1"
   ]
  },
  {
   "cell_type": "code",
   "execution_count": null,
   "id": "df984408",
   "metadata": {},
   "outputs": [],
   "source": [
    "a=[1, 2, 3, 4, 5]\n",
    "a.append() a[]\n",
    "()"
   ]
  }
 ],
 "metadata": {
  "kernelspec": {
   "display_name": "Python 3",
   "language": "python",
   "name": "python3"
  },
  "language_info": {
   "codemirror_mode": {
    "name": "ipython",
    "version": 3
   },
   "file_extension": ".py",
   "mimetype": "text/x-python",
   "name": "python",
   "nbconvert_exporter": "python",
   "pygments_lexer": "ipython3",
   "version": "3.13.2"
  }
 },
 "nbformat": 4,
 "nbformat_minor": 5
}
