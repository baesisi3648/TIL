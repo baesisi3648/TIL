{
 "cells": [
  {
   "cell_type": "code",
   "execution_count": 32,
   "id": "c14fd56d",
   "metadata": {},
   "outputs": [],
   "source": [
    "# URL -> 요청을 보낸다 -> 응답\n",
    "\n",
    "import random\n",
    "\n",
    "my_numbers = random.sample(range(1, 46), 6)"
   ]
  },
  {
   "cell_type": "code",
   "execution_count": 5,
   "id": "60877116",
   "metadata": {},
   "outputs": [],
   "source": [
    "import requests\n",
    "\n",
    "URL = 'https://www.dhlottery.co.kr/common.do?method=getLottoNumber&drwNo=1181'\n",
    "res = requests.get(URL)"
   ]
  },
  {
   "cell_type": "code",
   "execution_count": null,
   "id": "1c3025b3",
   "metadata": {},
   "outputs": [],
   "source": [
    "{\"totSellamnt\":3681782000, # total sell amount -> 총 판매액\n",
    " \"returnValue\":\"success\",\n",
    " \"drwNoDate\":\"2002-12-07\", # 추첨한 날\n",
    " \"firstWinamnt\":0, # 당첨자수\n",
    " \"drwtNo6\":40,\n",
    " \"drwtNo4\":33,\n",
    " \"firstPrzwnerCo\":0,\n",
    " \"drwtNo5\":37,\n",
    " \"bnusNo\":16,\n",
    " \"firstAccumamnt\":863604600,\n",
    " \"drwNo\":1, # 회차\n",
    " \"drwtNo2\":23,\n",
    " \"drwtNo3\":29,\n",
    " \"drwtNo1\":10}\n",
    "\n",
    "{\"totSellamnt\":113802682000,\n",
    " \"returnValue\":\"success\",\n",
    " \"drwNoDate\":\"2025-07-19\",\n",
    " \"firstWinamnt\":1593643500,\n",
    " \"firstPrzwnerCo\":17,\n",
    " \"firstAccumamnt\":27091939500,\n",
    " \"drwNo\":1181,\n",
    " \"drwtNo1\":8,\n",
    " \"drwtNo2\":10,\n",
    " \"drwtNo3\":14,\n",
    " \"drwtNo4\":20,\n",
    " \"drwtNo5\":33,\n",
    " \"drwtNo6\":41,\n",
    " \"bnusNo\":28}"
   ]
  },
  {
   "cell_type": "code",
   "execution_count": null,
   "id": "2bf67085",
   "metadata": {},
   "outputs": [],
   "source": [
    "data = res.json()  # 딕셔너리 형태로 바꿔줌"
   ]
  },
  {
   "cell_type": "code",
   "execution_count": 6,
   "id": "fa39baae",
   "metadata": {},
   "outputs": [
    {
     "data": {
      "text/plain": [
       "{'totSellamnt': 113802682000,\n",
       " 'returnValue': 'success',\n",
       " 'drwNoDate': '2025-07-19',\n",
       " 'firstWinamnt': 1593643500,\n",
       " 'drwtNo6': 41,\n",
       " 'drwtNo4': 20,\n",
       " 'firstPrzwnerCo': 17,\n",
       " 'drwtNo5': 33,\n",
       " 'bnusNo': 28,\n",
       " 'firstAccumamnt': 27091939500,\n",
       " 'drwNo': 1181,\n",
       " 'drwtNo2': 10,\n",
       " 'drwtNo3': 14,\n",
       " 'drwtNo1': 8}"
      ]
     },
     "execution_count": 6,
     "metadata": {},
     "output_type": "execute_result"
    }
   ],
   "source": [
    "data"
   ]
  },
  {
   "cell_type": "code",
   "execution_count": null,
   "id": "92237f4f",
   "metadata": {},
   "outputs": [
    {
     "name": "stdout",
     "output_type": "stream",
     "text": [
      "[8, 10, 14, 20, 33, 41] 28\n",
      "[8, 41, 37, 11, 33, 14]\n",
      "4등\n"
     ]
    }
   ],
   "source": [
    "import random\n",
    "\n",
    "my_numbers = random.sample(range(1, 46), 6)\n",
    "\n",
    "# 1. data에서 real_numbers를 뽑는다.\n",
    "real_numbers = [\n",
    "    data['drwtNo1'],\n",
    "    data['drwtNo2'],\n",
    "    data['drwtNo3'],\n",
    "    data['drwtNo4'],\n",
    "    data['drwtNo5'],\n",
    "    data['drwtNo6'],\n",
    "]\n",
    "bonus = data['bnusNo']\n",
    "\n",
    "print(real_numbers, bonus)\n",
    "print(my_numbers)\n",
    "\n",
    "# 2. real_numbers + 보너스 와 my_numbers 를 비교해서 등수 확인\n",
    "lotto = []\n",
    "for num in my_numbers:\n",
    "    if num in real_numbers:\n",
    "        lotto.append(num)\n",
    "\n",
    "counting = len(lotto)\n",
    "\n",
    "if counting < 3:\n",
    "    print('꽝')\n",
    "elif counting == 3:\n",
    "    print('5등')\n",
    "elif counting == 4:\n",
    "    print('4등')\n",
    "elif counting == 5 and bonus in my_numbers:\n",
    "    print('2등')\n",
    "elif counting == 5:\n",
    "    print('3등')\n",
    "elif counting == 6:\n",
    "    print('1등!!!!!!!!!')    \n",
    "\n",
    "    \n",
    "\n",
    "# 1등 6개 같음\n",
    "# 2등 5개 같고, 나머지 한개가 보너스 번호\n",
    "# 3등 5개 같음\n",
    "# 4등 4개 같음\n",
    "# 5등 3개 같음\n",
    "# 꽝\n",
    "\n"
   ]
  },
  {
   "cell_type": "code",
   "execution_count": 545,
   "id": "f2bf728d",
   "metadata": {},
   "outputs": [
    {
     "data": {
      "text/plain": [
       "'꽝'"
      ]
     },
     "execution_count": 545,
     "metadata": {},
     "output_type": "execute_result"
    }
   ],
   "source": [
    "import random\n",
    "\n",
    "my_numbers = random.sample(range(1, 46), 6)\n",
    "\n",
    "\n",
    "# 3. 등수를 뽑아주는 함수를 만들어보자\n",
    "\n",
    "def lucky(my_numbers):\n",
    "    real_numbers = [\n",
    "    data['drwtNo1'],\n",
    "    data['drwtNo2'],\n",
    "    data['drwtNo3'],\n",
    "    data['drwtNo4'],\n",
    "    data['drwtNo5'],\n",
    "    data['drwtNo6'],\n",
    "]\n",
    "    bonus = data['bnusNo']\n",
    "\n",
    "    lotto = []\n",
    "    for num in my_numbers:\n",
    "        if num in real_numbers:\n",
    "            lotto.append(num)\n",
    "\n",
    "    counting = len(lotto)\n",
    "\n",
    "    if counting < 3:\n",
    "        return '꽝'\n",
    "    elif counting == 3:\n",
    "        return '5등'\n",
    "    elif counting == 4:\n",
    "        return '4등'\n",
    "    elif counting == 5 and bonus in my_numbers:\n",
    "        return '2등'\n",
    "    elif counting == 5:\n",
    "        return '3등'\n",
    "    elif counting == 6:\n",
    "        return '1등!!!!!'    \n",
    "\n",
    "lucky(my_numbers)"
   ]
  },
  {
   "cell_type": "code",
   "execution_count": null,
   "id": "e1cd7b56",
   "metadata": {},
   "outputs": [],
   "source": [
    "# 1. data 에서 real_numbers 를 뽑느다.\n",
    "real_numbers = [data[f'drwtNo{i}'] for i in range(1, 7)]\n",
    "# 필요하면 real_numbers.sort() 진행\n",
    "bonus = data['bnusNo']\n",
    "print(real_numbers, bonus)"
   ]
  },
  {
   "cell_type": "code",
   "execution_count": null,
   "id": "414601d3",
   "metadata": {},
   "outputs": [],
   "source": [
    "# 2. real_numbers + 보너스 와 my_numbers 를 비교해서 등수 확인\n",
    "'''\n",
    "1등 6개 같음\n",
    "2등 5개가 같고, 나머지 한개가 보너스번호\n",
    "3등 5개 같음\n",
    "4등 4개 같음\n",
    "5등 3개 같음\n",
    "꽝\n",
    "'''\n",
    "# 맞는 숫자의 개수\n",
    "match_cnt = len(set(real_numbers) & set(my_numbers))\n",
    "if match_cnt == 6:\n",
    "    print(1)\n",
    "elif match_cnt == 5 and bonus in my_numbers:\n",
    "    print(2)\n",
    "elif match_cnt == 5:\n",
    "    print(3)\n",
    "elif match_cnt == 4:\n",
    "    print(4)\n",
    "elif match_cnt == 3:\n",
    "    print(5)\n",
    "else:\n",
    "    print(False)"
   ]
  },
  {
   "cell_type": "code",
   "execution_count": null,
   "id": "8f8a031d",
   "metadata": {},
   "outputs": [],
   "source": [
    "# 3. 등수를 뽑아주는 함수를 만들어 보자.\n",
    "def check_luck(my_numbers, real_numbers, bonus):\n",
    "    match_cnt = len(set(real_numbers) & set(my_numbers))\n",
    "    if match_cnt == 6:\n",
    "        result = 1\n",
    "    elif match_cnt == 5 and bonus in my_numbers:\n",
    "        result = 2\n",
    "    elif match_cnt == 5:\n",
    "        result = 3\n",
    "    elif match_cnt == 4:\n",
    "        result = 4\n",
    "    elif match_cnt == 3:\n",
    "        result = 5\n",
    "    else:\n",
    "        result = False\n",
    "\n",
    "    return result\n",
    "\n",
    "check_luck([1,2,3,4,5,6], [1,2,3,4,5,7], 6)"
   ]
  },
  {
   "cell_type": "code",
   "execution_count": null,
   "id": "768879be",
   "metadata": {},
   "outputs": [],
   "source": [
    "# 얼마를 써야 1등이 나오는가\n",
    "\n",
    "cnt = 1\n",
    "real_numbers = [data[f'drwtNo{i}'] for i in range(1, 7)]\n",
    "bonus = data['bnusNo']\n",
    "\n",
    "while True:\n",
    "    cnt += 1\n",
    "    result = check_luck(random.sample(range(1, 46), 6), real_numbers, bonus)\n",
    "    \n",
    "    if result:\n",
    "        print(result)\n",
    "\n",
    "    if result == 1:\n",
    "        break\n",
    "\n",
    "print(cnt * 1000)  # 13,270,013,000  1,593,643,500"
   ]
  }
 ],
 "metadata": {
  "kernelspec": {
   "display_name": "Python 3",
   "language": "python",
   "name": "python3"
  },
  "language_info": {
   "codemirror_mode": {
    "name": "ipython",
    "version": 3
   },
   "file_extension": ".py",
   "mimetype": "text/x-python",
   "name": "python",
   "nbconvert_exporter": "python",
   "pygments_lexer": "ipython3",
   "version": "3.13.2"
  }
 },
 "nbformat": 4,
 "nbformat_minor": 5
}
