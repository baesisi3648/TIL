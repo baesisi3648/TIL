{
 "cells": [
  {
   "cell_type": "code",
   "execution_count": 5,
   "id": "7c9d461e",
   "metadata": {},
   "outputs": [
    {
     "name": "stdout",
     "output_type": "stream",
     "text": [
      "[1, 2, 3, 29, {1, 2}, (3, 4), [5, 6]]\n"
     ]
    },
    {
     "data": {
      "text/plain": [
       "4"
      ]
     },
     "execution_count": 5,
     "metadata": {},
     "output_type": "execute_result"
    }
   ],
   "source": [
    "l = [1, 2, 3, 4, {1, 2}, (3, 4), [5, 6]]\n",
    "l[3] = 29\n",
    "print(l)\n",
    "l[5][1]"
   ]
  },
  {
   "cell_type": "code",
   "execution_count": 8,
   "id": "838ff1de",
   "metadata": {},
   "outputs": [
    {
     "name": "stdout",
     "output_type": "stream",
     "text": [
      "안녕하세요안녕하세요\n"
     ]
    }
   ],
   "source": [
    "# 사용자로부터 입력받은 문자열을 두 번 출력하라. 아래는 사용자가 \"안녕하세요\"를 입력한 경우의 출력 결과이다. 안녕하세요\n",
    "\n",
    "a = input()\n",
    "\n",
    "print(a * 2)\n",
    "\n"
   ]
  },
  {
   "cell_type": "code",
   "execution_count": 14,
   "id": "2b49d184",
   "metadata": {},
   "outputs": [
    {
     "name": "stdout",
     "output_type": "stream",
     "text": [
      "40\n"
     ]
    }
   ],
   "source": [
    "# 사용자로부터 하나의 숫자를 입력받고, 입력 받은 숫자에 10을 더해 출력하라. 30\n",
    "\n",
    "b = input()\n",
    "\n",
    "print(int(b) + 10)"
   ]
  },
  {
   "cell_type": "code",
   "execution_count": 20,
   "id": "49350fdc",
   "metadata": {},
   "outputs": [
    {
     "name": "stdout",
     "output_type": "stream",
     "text": [
      "짝수\n"
     ]
    }
   ],
   "source": [
    "# 사용자로부터 하나의 숫자를 입력 받고 짝수/홀수를 판별하라. 30\n",
    "\n",
    "c = input()\n",
    "\n",
    "if int(c) % 2 == 1:\n",
    "    print('홀수')\n",
    "else:\n",
    "    print('짝수')"
   ]
  },
  {
   "cell_type": "code",
   "execution_count": 22,
   "id": "6a602dc8",
   "metadata": {},
   "outputs": [
    {
     "name": "stdout",
     "output_type": "stream",
     "text": [
      "255\n"
     ]
    }
   ],
   "source": [
    "# 사용자로부터 값을 입력받은 후 해당 값에 20을 더한 값을 출력하라. 단 사용자가 입력한 값과 20을 더한 계산 값이 255를 초과하는 경우 255를 출력해야 한다.\n",
    "\n",
    "d = input()\n",
    "\n",
    "if int(d) + 20 <= 255:\n",
    "    print(int(d) + 20)\n",
    "else:\n",
    "    print(255)"
   ]
  },
  {
   "cell_type": "code",
   "execution_count": 26,
   "id": "122cff1c",
   "metadata": {},
   "outputs": [
    {
     "name": "stdout",
     "output_type": "stream",
     "text": [
      "0\n"
     ]
    }
   ],
   "source": [
    "# 사용자로부터 하나의 값을 입력받은 후 해당 값에 20을 뺀 값을 출력하라. 단 출력 값의 범위는 0~255이다. \n",
    "# 예를 들어 결괏값이 0보다 작은 값이되는 경우 0을 출력하고 255보다 큰 값이 되는 경우 255를 출력해야 한다.\n",
    "\n",
    "e = input()\n",
    "\n",
    "if int(e) - 20 < 0:\n",
    "    print(0)\n",
    "elif int(e) - 20 > 255:\n",
    "    print(255) \n",
    "else:\n",
    "    print(int(e) - 20)"
   ]
  },
  {
   "cell_type": "code",
   "execution_count": 28,
   "id": "69932dd9",
   "metadata": {},
   "outputs": [
    {
     "name": "stdout",
     "output_type": "stream",
     "text": [
      "정각입니다 :)\n"
     ]
    }
   ],
   "source": [
    "# 사용자로부터 입력 받은 시간이 정각인지 판별하라.\n",
    "\n",
    "f = input()\n",
    "type(f)\n",
    "\n",
    "if f[-2:] == '00':\n",
    "    print('정각입니다 :)')\n",
    "else:\n",
    "    print('정각이 아닙니다 :(')"
   ]
  },
  {
   "cell_type": "code",
   "execution_count": 29,
   "id": "f470e3f8",
   "metadata": {},
   "outputs": [
    {
     "name": "stdout",
     "output_type": "stream",
     "text": [
      "정답입니다\n"
     ]
    }
   ],
   "source": [
    "# 사용자로 입력받은 단어가 아래 fruit 리스트에 포함되어 있는지를 확인하라. 포함되었다면 \"정답입니다\"를 아닐 경우 \"오답입니다\" 출력하라.\n",
    "\n",
    "fruit = [\"사과\", \"포도\", \"홍시\"]\n",
    "\n",
    "g = input()\n",
    "\n",
    "if g in fruit:\n",
    "    print('정답입니다')\n",
    "else:\n",
    "    print('오답입니다')"
   ]
  },
  {
   "cell_type": "code",
   "execution_count": 30,
   "id": "209a51de",
   "metadata": {},
   "outputs": [
    {
     "name": "stdout",
     "output_type": "stream",
     "text": [
      "투자 경고 종목입니다\n"
     ]
    }
   ],
   "source": [
    "# 투자 경고 종목 리스트가 있을 때 사용자로부터 종목명을 입력 받은 후 \n",
    "# 해당 종목이 투자 경고 종목이라면 '투자 경고 종목입니다'를 아니면 \"투자 경고 종목이 아닙니다.\"를 출력하는 프로그램을 작성하라.\n",
    "\n",
    "warn_investment_list = [\"Microsoft\", \"Google\", \"Naver\", \"Kakao\", \"SAMSUNG\", \"LG\"]\n",
    "\n",
    "h = input()\n",
    "\n",
    "if h in warn_investment_list:\n",
    "    print('투자 경고 종목입니다')\n",
    "else:\n",
    "    print('투자 경고 종목이 아닙니다')"
   ]
  },
  {
   "cell_type": "code",
   "execution_count": 34,
   "id": "a89efec5",
   "metadata": {},
   "outputs": [
    {
     "name": "stdout",
     "output_type": "stream",
     "text": [
      "정답입니다\n"
     ]
    }
   ],
   "source": [
    "# 아래와 같이 fruit 딕셔너리가 정의되어 있다. 사용자가 입력한 값이 딕셔너리 키 (key) 값에 포함되었다면 \"정답입니다\"를 아닐 경우 \"오답입니다\" 출력하라.\n",
    "\n",
    "fruit = {\"봄\" : \"딸기\", \"여름\" : \"토마토\", \"가을\" : \"사과\"}\n",
    "\n",
    "i = input()\n",
    "\n",
    "if i in fruit:\n",
    "    print('정답입니다')\n",
    "else:\n",
    "    print('오답입니다')\n"
   ]
  },
  {
   "cell_type": "code",
   "execution_count": 41,
   "id": "768cd475",
   "metadata": {},
   "outputs": [
    {
     "name": "stdout",
     "output_type": "stream",
     "text": [
      "정답입니다\n"
     ]
    }
   ],
   "source": [
    "# 아래와 같이 fruit 딕셔너리가 정의되어 있다. 사용자가 입력한 값이 딕셔너리 값 (value)에 포함되었다면 \"정답입니다\"를 아닐 경우 \"오답입니다\" 출력하라.\n",
    "\n",
    "fruit = {\"봄\" : \"딸기\", \"여름\" : \"토마토\", \"가을\" : \"사과\"}\n",
    "\n",
    "j = input()\n",
    "\n",
    "if j in fruit.values():\n",
    "    print('정답입니다')\n",
    "else:\n",
    "    print('오답입니다')"
   ]
  },
  {
   "cell_type": "code",
   "execution_count": 42,
   "id": "a9d9f72a",
   "metadata": {},
   "outputs": [
    {
     "name": "stdout",
     "output_type": "stream",
     "text": [
      "사과\n",
      "귤\n",
      "수박\n"
     ]
    }
   ],
   "source": [
    "과일 = [\"사과\", \"귤\", \"수박\"]\n",
    "for 변수 in 과일:\n",
    "    print(변수)"
   ]
  },
  {
   "cell_type": "code",
   "execution_count": 43,
   "id": "2623714c",
   "metadata": {},
   "outputs": [
    {
     "name": "stdout",
     "output_type": "stream",
     "text": [
      "#####\n",
      "#####\n",
      "#####\n"
     ]
    }
   ],
   "source": [
    "과일 = [\"사과\", \"귤\", \"수박\"]\n",
    "for 변수 in 과일:\n",
    "  print(\"#####\")"
   ]
  },
  {
   "cell_type": "code",
   "execution_count": 44,
   "id": "d2aec60a",
   "metadata": {},
   "outputs": [
    {
     "name": "stdout",
     "output_type": "stream",
     "text": [
      "A\n",
      "B\n",
      "C\n",
      "A\n",
      "B\n",
      "C\n"
     ]
    }
   ],
   "source": [
    "for 변수 in [\"A\", \"B\", \"C\"]:\n",
    "  print(변수)\n",
    "\n",
    "\n",
    "변수 = \"A\"\n",
    "print(변수)\n",
    "\n",
    "변수 = \"B\"\n",
    "print(변수)\n",
    "\n",
    "변수 = \"C\"\n",
    "print(변수)"
   ]
  },
  {
   "cell_type": "code",
   "execution_count": 49,
   "id": "3d63e9b8",
   "metadata": {},
   "outputs": [
    {
     "name": "stdout",
     "output_type": "stream",
     "text": [
      "출력: A\n",
      "출력: B\n",
      "출력: C\n",
      "출력: A\n",
      "출력: B\n",
      "출력: C\n"
     ]
    }
   ],
   "source": [
    "for 변수 in [\"A\", \"B\", \"C\"]:\n",
    "  print(\"출력:\", 변수)\n",
    "\n",
    "변수 = \"A\"\n",
    "print('출력: '+ str(변수))\n",
    "변수 = \"B\"\n",
    "print('출력: '+ str(변수))\n",
    "변수 = \"C\"\n",
    "print('출력: '+ str(변수))"
   ]
  },
  {
   "cell_type": "code",
   "execution_count": 54,
   "id": "fcb63e95",
   "metadata": {},
   "outputs": [
    {
     "name": "stdout",
     "output_type": "stream",
     "text": [
      "변환: a\n",
      "변환: b\n",
      "변환: c\n",
      "변환: a\n",
      "변환: b\n",
      "변환: c\n"
     ]
    }
   ],
   "source": [
    "for 변수 in [\"A\", \"B\", \"C\"]:\n",
    "  b = 변수.lower()\n",
    "  print(\"변환:\", b)\n",
    "\n",
    "변수 = \"A\"\n",
    "print(\"변환: \"+ 변수.lower())\n",
    "변수 = \"B\"\n",
    "print(\"변환: \"+ 변수.lower())\n",
    "변수 = \"C\"\n",
    "print(\"변환: \"+ 변수.lower())"
   ]
  },
  {
   "cell_type": "code",
   "execution_count": 56,
   "id": "ffc86631",
   "metadata": {},
   "outputs": [
    {
     "name": "stdout",
     "output_type": "stream",
     "text": [
      "10\n",
      "20\n",
      "30\n",
      "10\n",
      "20\n",
      "30\n"
     ]
    }
   ],
   "source": [
    "변수 = 10\n",
    "print(변수)\n",
    "변수 = 20\n",
    "print(변수)\n",
    "변수 = 30\n",
    "print(변수)\n",
    "\n",
    "\n",
    "for 변수 in [10, 20, 30]:\n",
    "    print(변수)\n"
   ]
  },
  {
   "cell_type": "code",
   "execution_count": 57,
   "id": "66708f6c",
   "metadata": {},
   "outputs": [
    {
     "name": "stdout",
     "output_type": "stream",
     "text": [
      "10\n",
      "20\n",
      "30\n",
      "10\n",
      "20\n",
      "30\n"
     ]
    }
   ],
   "source": [
    "print(10)\n",
    "print(20)\n",
    "print(30)\n",
    "\n",
    "for num in [10, 20, 30]:\n",
    "    print(num)"
   ]
  }
 ],
 "metadata": {
  "kernelspec": {
   "display_name": "Python 3",
   "language": "python",
   "name": "python3"
  },
  "language_info": {
   "codemirror_mode": {
    "name": "ipython",
    "version": 3
   },
   "file_extension": ".py",
   "mimetype": "text/x-python",
   "name": "python",
   "nbconvert_exporter": "python",
   "pygments_lexer": "ipython3",
   "version": "3.13.2"
  }
 },
 "nbformat": 4,
 "nbformat_minor": 5
}
