{
 "cells": [
  {
   "cell_type": "markdown",
   "id": "ee72ade9",
   "metadata": {},
   "source": [
    "# 파이썬 300제 풀어보기"
   ]
  },
  {
   "cell_type": "code",
   "execution_count": 8,
   "id": "838ff1de",
   "metadata": {},
   "outputs": [
    {
     "name": "stdout",
     "output_type": "stream",
     "text": [
      "안녕하세요안녕하세요\n"
     ]
    }
   ],
   "source": [
    "# 사용자로부터 입력받은 문자열을 두 번 출력하라. 아래는 사용자가 \"안녕하세요\"를 입력한 경우의 출력 결과이다. 안녕하세요\n",
    "\n",
    "a = input()\n",
    "\n",
    "print(a * 2)\n",
    "\n"
   ]
  },
  {
   "cell_type": "code",
   "execution_count": 14,
   "id": "2b49d184",
   "metadata": {},
   "outputs": [
    {
     "name": "stdout",
     "output_type": "stream",
     "text": [
      "40\n"
     ]
    }
   ],
   "source": [
    "# 사용자로부터 하나의 숫자를 입력받고, 입력 받은 숫자에 10을 더해 출력하라. 30\n",
    "\n",
    "b = input()\n",
    "\n",
    "print(int(b) + 10)"
   ]
  },
  {
   "cell_type": "code",
   "execution_count": 20,
   "id": "49350fdc",
   "metadata": {},
   "outputs": [
    {
     "name": "stdout",
     "output_type": "stream",
     "text": [
      "짝수\n"
     ]
    }
   ],
   "source": [
    "# 사용자로부터 하나의 숫자를 입력 받고 짝수/홀수를 판별하라. 30\n",
    "\n",
    "c = input()\n",
    "\n",
    "if int(c) % 2 == 1:\n",
    "    print('홀수')\n",
    "else:\n",
    "    print('짝수')"
   ]
  },
  {
   "cell_type": "code",
   "execution_count": 22,
   "id": "6a602dc8",
   "metadata": {},
   "outputs": [
    {
     "name": "stdout",
     "output_type": "stream",
     "text": [
      "255\n"
     ]
    }
   ],
   "source": [
    "# 사용자로부터 값을 입력받은 후 해당 값에 20을 더한 값을 출력하라. 단 사용자가 입력한 값과 20을 더한 계산 값이 255를 초과하는 경우 255를 출력해야 한다.\n",
    "\n",
    "d = input()\n",
    "\n",
    "if int(d) + 20 <= 255:\n",
    "    print(int(d) + 20)\n",
    "else:\n",
    "    print(255)"
   ]
  },
  {
   "cell_type": "code",
   "execution_count": 26,
   "id": "122cff1c",
   "metadata": {},
   "outputs": [
    {
     "name": "stdout",
     "output_type": "stream",
     "text": [
      "0\n"
     ]
    }
   ],
   "source": [
    "# 사용자로부터 하나의 값을 입력받은 후 해당 값에 20을 뺀 값을 출력하라. 단 출력 값의 범위는 0~255이다. \n",
    "# 예를 들어 결괏값이 0보다 작은 값이되는 경우 0을 출력하고 255보다 큰 값이 되는 경우 255를 출력해야 한다.\n",
    "\n",
    "e = input()\n",
    "\n",
    "if int(e) - 20 < 0:\n",
    "    print(0)\n",
    "elif int(e) - 20 > 255:\n",
    "    print(255) \n",
    "else:\n",
    "    print(int(e) - 20)"
   ]
  },
  {
   "cell_type": "code",
   "execution_count": 28,
   "id": "69932dd9",
   "metadata": {},
   "outputs": [
    {
     "name": "stdout",
     "output_type": "stream",
     "text": [
      "정각입니다 :)\n"
     ]
    }
   ],
   "source": [
    "# 사용자로부터 입력 받은 시간이 정각인지 판별하라.\n",
    "\n",
    "f = input()\n",
    "type(f)\n",
    "\n",
    "if f[-2:] == '00':\n",
    "    print('정각입니다 :)')\n",
    "else:\n",
    "    print('정각이 아닙니다 :(')"
   ]
  },
  {
   "cell_type": "code",
   "execution_count": 29,
   "id": "f470e3f8",
   "metadata": {},
   "outputs": [
    {
     "name": "stdout",
     "output_type": "stream",
     "text": [
      "정답입니다\n"
     ]
    }
   ],
   "source": [
    "# 사용자로 입력받은 단어가 아래 fruit 리스트에 포함되어 있는지를 확인하라. 포함되었다면 \"정답입니다\"를 아닐 경우 \"오답입니다\" 출력하라.\n",
    "\n",
    "fruit = [\"사과\", \"포도\", \"홍시\"]\n",
    "\n",
    "g = input()\n",
    "\n",
    "if g in fruit:\n",
    "    print('정답입니다')\n",
    "else:\n",
    "    print('오답입니다')"
   ]
  },
  {
   "cell_type": "code",
   "execution_count": 30,
   "id": "209a51de",
   "metadata": {},
   "outputs": [
    {
     "name": "stdout",
     "output_type": "stream",
     "text": [
      "투자 경고 종목입니다\n"
     ]
    }
   ],
   "source": [
    "# 투자 경고 종목 리스트가 있을 때 사용자로부터 종목명을 입력 받은 후 \n",
    "# 해당 종목이 투자 경고 종목이라면 '투자 경고 종목입니다'를 아니면 \"투자 경고 종목이 아닙니다.\"를 출력하는 프로그램을 작성하라.\n",
    "\n",
    "warn_investment_list = [\"Microsoft\", \"Google\", \"Naver\", \"Kakao\", \"SAMSUNG\", \"LG\"]\n",
    "\n",
    "h = input()\n",
    "\n",
    "if h in warn_investment_list:\n",
    "    print('투자 경고 종목입니다')\n",
    "else:\n",
    "    print('투자 경고 종목이 아닙니다')"
   ]
  },
  {
   "cell_type": "code",
   "execution_count": 34,
   "id": "a89efec5",
   "metadata": {},
   "outputs": [
    {
     "name": "stdout",
     "output_type": "stream",
     "text": [
      "정답입니다\n"
     ]
    }
   ],
   "source": [
    "# 아래와 같이 fruit 딕셔너리가 정의되어 있다. 사용자가 입력한 값이 딕셔너리 키 (key) 값에 포함되었다면 \"정답입니다\"를 아닐 경우 \"오답입니다\" 출력하라.\n",
    "\n",
    "fruit = {\"봄\" : \"딸기\", \"여름\" : \"토마토\", \"가을\" : \"사과\"}\n",
    "\n",
    "i = input()\n",
    "\n",
    "if i in fruit:\n",
    "    print('정답입니다')\n",
    "else:\n",
    "    print('오답입니다')\n"
   ]
  },
  {
   "cell_type": "code",
   "execution_count": 41,
   "id": "768cd475",
   "metadata": {},
   "outputs": [
    {
     "name": "stdout",
     "output_type": "stream",
     "text": [
      "정답입니다\n"
     ]
    }
   ],
   "source": [
    "# 아래와 같이 fruit 딕셔너리가 정의되어 있다. 사용자가 입력한 값이 딕셔너리 값 (value)에 포함되었다면 \"정답입니다\"를 아닐 경우 \"오답입니다\" 출력하라.\n",
    "\n",
    "fruit = {\"봄\" : \"딸기\", \"여름\" : \"토마토\", \"가을\" : \"사과\"}\n",
    "\n",
    "j = input()\n",
    "\n",
    "if j in fruit.values():\n",
    "    print('정답입니다')\n",
    "else:\n",
    "    print('오답입니다')"
   ]
  },
  {
   "cell_type": "code",
   "execution_count": 42,
   "id": "a9d9f72a",
   "metadata": {},
   "outputs": [
    {
     "name": "stdout",
     "output_type": "stream",
     "text": [
      "사과\n",
      "귤\n",
      "수박\n"
     ]
    }
   ],
   "source": [
    "과일 = [\"사과\", \"귤\", \"수박\"]\n",
    "for 변수 in 과일:\n",
    "    print(변수)"
   ]
  },
  {
   "cell_type": "code",
   "execution_count": 43,
   "id": "2623714c",
   "metadata": {},
   "outputs": [
    {
     "name": "stdout",
     "output_type": "stream",
     "text": [
      "#####\n",
      "#####\n",
      "#####\n"
     ]
    }
   ],
   "source": [
    "과일 = [\"사과\", \"귤\", \"수박\"]\n",
    "for 변수 in 과일:\n",
    "  print(\"#####\")"
   ]
  },
  {
   "cell_type": "code",
   "execution_count": 44,
   "id": "d2aec60a",
   "metadata": {},
   "outputs": [
    {
     "name": "stdout",
     "output_type": "stream",
     "text": [
      "A\n",
      "B\n",
      "C\n",
      "A\n",
      "B\n",
      "C\n"
     ]
    }
   ],
   "source": [
    "for 변수 in [\"A\", \"B\", \"C\"]:\n",
    "  print(변수)\n",
    "\n",
    "\n",
    "변수 = \"A\"\n",
    "print(변수)\n",
    "\n",
    "변수 = \"B\"\n",
    "print(변수)\n",
    "\n",
    "변수 = \"C\"\n",
    "print(변수)"
   ]
  },
  {
   "cell_type": "code",
   "execution_count": 49,
   "id": "3d63e9b8",
   "metadata": {},
   "outputs": [
    {
     "name": "stdout",
     "output_type": "stream",
     "text": [
      "출력: A\n",
      "출력: B\n",
      "출력: C\n",
      "출력: A\n",
      "출력: B\n",
      "출력: C\n"
     ]
    }
   ],
   "source": [
    "for 변수 in [\"A\", \"B\", \"C\"]:\n",
    "  print(\"출력:\", 변수)\n",
    "\n",
    "변수 = \"A\"\n",
    "print('출력: '+ str(변수))\n",
    "변수 = \"B\"\n",
    "print('출력: '+ str(변수))\n",
    "변수 = \"C\"\n",
    "print('출력: '+ str(변수))"
   ]
  },
  {
   "cell_type": "code",
   "execution_count": 54,
   "id": "fcb63e95",
   "metadata": {},
   "outputs": [
    {
     "name": "stdout",
     "output_type": "stream",
     "text": [
      "변환: a\n",
      "변환: b\n",
      "변환: c\n",
      "변환: a\n",
      "변환: b\n",
      "변환: c\n"
     ]
    }
   ],
   "source": [
    "for 변수 in [\"A\", \"B\", \"C\"]:\n",
    "  b = 변수.lower()\n",
    "  print(\"변환:\", b)\n",
    "\n",
    "변수 = \"A\"\n",
    "print(\"변환: \"+ 변수.lower())\n",
    "변수 = \"B\"\n",
    "print(\"변환: \"+ 변수.lower())\n",
    "변수 = \"C\"\n",
    "print(\"변환: \"+ 변수.lower())"
   ]
  },
  {
   "cell_type": "code",
   "execution_count": 56,
   "id": "ffc86631",
   "metadata": {},
   "outputs": [
    {
     "name": "stdout",
     "output_type": "stream",
     "text": [
      "10\n",
      "20\n",
      "30\n",
      "10\n",
      "20\n",
      "30\n"
     ]
    }
   ],
   "source": [
    "변수 = 10\n",
    "print(변수)\n",
    "변수 = 20\n",
    "print(변수)\n",
    "변수 = 30\n",
    "print(변수)\n",
    "\n",
    "\n",
    "for 변수 in [10, 20, 30]:\n",
    "    print(변수)\n"
   ]
  },
  {
   "cell_type": "code",
   "execution_count": 57,
   "id": "66708f6c",
   "metadata": {},
   "outputs": [
    {
     "name": "stdout",
     "output_type": "stream",
     "text": [
      "10\n",
      "20\n",
      "30\n",
      "10\n",
      "20\n",
      "30\n"
     ]
    }
   ],
   "source": [
    "print(10)\n",
    "print(20)\n",
    "print(30)\n",
    "\n",
    "for num in [10, 20, 30]:\n",
    "    print(num)"
   ]
  },
  {
   "cell_type": "code",
   "execution_count": null,
   "id": "d8bcb501",
   "metadata": {},
   "outputs": [
    {
     "name": "stdout",
     "output_type": "stream",
     "text": [
      "['addLast', '4']\n",
      "['4'] []\n",
      "['addFirst', '10']\n",
      "['10', '4'] []\n",
      "['addLast', '7']\n",
      "['10', '4', '7'] []\n",
      "['removeFirst']\n",
      "['4', '7'] ['10']\n",
      "['removeLast']\n",
      "['4'] ['10', '7']\n",
      "['addFirst', '5']\n",
      "['5', '4'] ['10', '7']\n",
      "['removeLast']\n",
      "['5'] ['10', '7', '4']\n",
      "['addFirst', '15']\n",
      "['15', '5'] ['10', '7', '4']\n",
      "['removeFirst']\n",
      "['5'] ['10', '7', '4', '15']\n"
     ]
    },
    {
     "data": {
      "text/plain": [
       "[10, 7, 4, 15]"
      ]
     },
     "execution_count": 54,
     "metadata": {},
     "output_type": "execute_result"
    }
   ],
   "source": [
    "answer = []\n",
    "result = []\n",
    "\n",
    "def addFirst(list_input, result):\n",
    "    return result.insert(0, list_input[1])\n",
    "def addLast(list_input, result):\n",
    "    return result.append(list_input[1])\n",
    "def removeFirst(list_input, result):\n",
    "    if len(result) == 0:\n",
    "        return answer.append(0)\n",
    "    else:\n",
    "        return answer.append(result.pop(0))\n",
    "def removeLast(list_input, result):\n",
    "    if len(result) == 0:\n",
    "        return answer.append(0)\n",
    "    else :\n",
    "        return answer.append(result.pop(-1))\n",
    "\n",
    "dict_main = {\"addFirst\": addFirst,\n",
    "             \"addLast\": addLast,\n",
    "             \"removeFirst\": removeFirst,\n",
    "             \"removeLast\": removeLast}\n",
    "\n",
    "def solution(queries):\n",
    "    for querie in queries:\n",
    "        list_input = querie.split()\n",
    "        # print(list_input)\n",
    "        dict_main[list_input[0]](list_input, result)\n",
    "        # print(result,answer)\n",
    "        \n",
    "    return list(map(int, answer))\n",
    "    \n",
    "solution([\"addLast 4\",\"addFirst 10\",\"addLast 7\",\"removeFirst\",\"removeLast\",\"addFirst 5\",\"removeLast\",\"addFirst 15\",\"removeFirst\"])"
   ]
  },
  {
   "cell_type": "code",
   "execution_count": 8,
   "id": "d8d6d66e",
   "metadata": {},
   "outputs": [
    {
     "data": {
      "text/plain": [
       "-1"
      ]
     },
     "execution_count": 8,
     "metadata": {},
     "output_type": "execute_result"
    }
   ],
   "source": [
    "def fn_tmp(a,b):\n",
    "    return a+b\n",
    "\n",
    "def fn_tmp_2(a,b):\n",
    "    return a-b\n",
    "\n",
    "dict_main = {\"fn_tmp\":fn_tmp,\n",
    "             \"fn_tmp_2\":fn_tmp_2}\n",
    "\n",
    "dict_main[\"fn_tmp\"](1,2)\n",
    "dict_main[\"fn_tmp_2\"](1,2)"
   ]
  },
  {
   "cell_type": "code",
   "execution_count": 11,
   "id": "d9d76b7c",
   "metadata": {},
   "outputs": [
    {
     "data": {
      "text/plain": [
       "['addLast', '4']"
      ]
     },
     "execution_count": 11,
     "metadata": {},
     "output_type": "execute_result"
    }
   ],
   "source": [
    "a = \"addLast 4\"\n",
    "a.split()"
   ]
  },
  {
   "cell_type": "code",
   "execution_count": null,
   "id": "758a14fa",
   "metadata": {},
   "outputs": [
    {
     "ename": "NameError",
     "evalue": "name 'score_max_key' is not defined",
     "output_type": "error",
     "traceback": [
      "\u001b[31m---------------------------------------------------------------------------\u001b[39m",
      "\u001b[31mNameError\u001b[39m                                 Traceback (most recent call last)",
      "\u001b[36mCell\u001b[39m\u001b[36m \u001b[39m\u001b[32mIn[60]\u001b[39m\u001b[32m, line 16\u001b[39m\n\u001b[32m     14\u001b[39m     \u001b[38;5;28;01mif\u001b[39;00m test_dict[score_key] >= score_count:\n\u001b[32m     15\u001b[39m         score_count = test_dict[score_key]\n\u001b[32m---> \u001b[39m\u001b[32m16\u001b[39m         \u001b[38;5;28;01mif\u001b[39;00m score_key > \u001b[43mscore_max_key\u001b[49m:\n\u001b[32m     17\u001b[39m             score_max_key = score_key\n\u001b[32m     19\u001b[39m \u001b[38;5;28mprint\u001b[39m(\u001b[33mf\u001b[39m\u001b[33m'\u001b[39m\u001b[33m#\u001b[39m\u001b[38;5;132;01m{\u001b[39;00mtest_num\u001b[38;5;132;01m}\u001b[39;00m\u001b[33m'\u001b[39m, score_max_key)\n",
      "\u001b[31mNameError\u001b[39m: name 'score_max_key' is not defined"
     ]
    }
   ],
   "source": [
    "\n",
    "T = int(input())\n",
    "# 여러개의 테스트 케이스가 주어지므로, 각각을 처리합니다.\n",
    "for test_case in range(T):\n",
    "    test_num = input() \n",
    "    test_list = list(map(int, (input().split())))\n",
    "    test_dict = {}\n",
    "    for score in test_list:\n",
    "        if score not in test_dict:\n",
    "            test_dict[score] = 0\n",
    "        test_dict[score] += 1\n",
    "\n",
    "    score_count = 0\n",
    "    for score_key in test_dict:\n",
    "        if test_dict[score_key] > score_count:\n",
    "            score_count = test_dict[score_key]\n",
    "            score_max_key = score_key\n",
    "        elif test_dict[score_key] == score_count:\n",
    "            if score_key > score_max_key:\n",
    "                score_max_key = score_key\n",
    "                    \n",
    "    print(f'#{test_num}', score_max_key)\n",
    "\n"
   ]
  },
  {
   "cell_type": "code",
   "execution_count": 20,
   "id": "7c0adf01",
   "metadata": {},
   "outputs": [
    {
     "name": "stdout",
     "output_type": "stream",
     "text": [
      "0 1\n",
      "2 4\n"
     ]
    },
    {
     "data": {
      "text/plain": [
       "[3, 12]"
      ]
     },
     "execution_count": 20,
     "metadata": {},
     "output_type": "execute_result"
    }
   ],
   "source": [
    "def solution(numbers, sections):\n",
    "    answer = []\n",
    "    for start, end in sections:\n",
    "        print(start, end)\n",
    "        total = sum(numbers[start:end+1])\n",
    "        answer.append(total)\n",
    "    return answer\n",
    "\n",
    "\n",
    "solution([1,2,3,4,5], [[0,1],[2,4]])"
   ]
  },
  {
   "cell_type": "code",
   "execution_count": 25,
   "id": "abec09a9",
   "metadata": {},
   "outputs": [
    {
     "data": {
      "text/plain": [
       "[7, 10, 5, 15]"
      ]
     },
     "execution_count": 25,
     "metadata": {},
     "output_type": "execute_result"
    }
   ],
   "source": [
    "answer = []\n",
    "result = []\n",
    "\n",
    "def push(list_input, result):\n",
    "    return result.append(list_input[1])\n",
    "def pop(list_input, result):\n",
    "    if len(result) == 0:\n",
    "        return answer.append(0)\n",
    "    else:\n",
    "        return answer.append(result.pop(-1))\n",
    "\n",
    "dict_main = {\n",
    "    'push': push,\n",
    "    'pop': pop\n",
    "}\n",
    "\n",
    "def solution(queries):\n",
    "    for queries in queries:\n",
    "        list_input = queries.split()\n",
    "        dict_main[list_input[0]](list_input, result)\n",
    "\n",
    "    return list(map(int, answer))\n",
    "\n",
    "solution([\"push 4\",\"push 10\",\"push 7\",\"pop\",\"pop\",\"push 5\",\"pop\",\"push 15\",\"pop\"])"
   ]
  },
  {
   "cell_type": "code",
   "execution_count": 20,
   "id": "bff92ff9",
   "metadata": {},
   "outputs": [
    {
     "name": "stdout",
     "output_type": "stream",
     "text": [
      "push 4\n",
      "push 10\n",
      "push 7\n",
      "pop\n",
      "pop\n",
      "push 5\n",
      "pop\n",
      "push 15\n",
      "pop\n"
     ]
    },
    {
     "data": {
      "text/plain": [
       "[4, 10, 7, 5]"
      ]
     },
     "execution_count": 20,
     "metadata": {},
     "output_type": "execute_result"
    }
   ],
   "source": [
    "def solution(queries):\n",
    "    stack = []\n",
    "    answer = []\n",
    "\n",
    "    for querie in queries:\n",
    "        print(querie)\n",
    "        if querie.startswith(\"push\"):\n",
    "            _, num = querie.split()\n",
    "            stack.append(int(num))\n",
    "        elif querie.startswith(\"pop\"):\n",
    "            if len(stack) == 0:\n",
    "                answer.append(0)\n",
    "            else:\n",
    "                answer.append(stack.pop(0))\n",
    "    \n",
    "    return answer\n",
    "\n",
    "solution([\"push 4\",\"push 10\",\"push 7\",\"pop\",\"pop\",\"push 5\",\"pop\",\"push 15\",\"pop\"])"
   ]
  },
  {
   "cell_type": "code",
   "execution_count": 1,
   "id": "8195f6b2",
   "metadata": {},
   "outputs": [
    {
     "data": {
      "text/plain": [
       "[0, -4, 4, -5, 5]"
      ]
     },
     "execution_count": 1,
     "metadata": {},
     "output_type": "execute_result"
    }
   ],
   "source": [
    "def solution(numbers):\n",
    "    answer = []\n",
    "    for num in numbers:\n",
    "        if len(answer) == 0:\n",
    "            answer.append(num)\n",
    "        elif abs(num) >= abs(answer[-1]):\n",
    "            answer.append(num)\n",
    "        elif abs(num) < abs(answer[-1]):\n",
    "            if abs(num) > abs(answer[0]):\n",
    "                answer.insert(-2, num)\n",
    "            else:\n",
    "                answer.insert(0, num) \n",
    "    return answer\n",
    "\n",
    "solution([-5,4,0,-4,5])"
   ]
  }
 ],
 "metadata": {
  "kernelspec": {
   "display_name": "Python 3",
   "language": "python",
   "name": "python3"
  },
  "language_info": {
   "codemirror_mode": {
    "name": "ipython",
    "version": 3
   },
   "file_extension": ".py",
   "mimetype": "text/x-python",
   "name": "python",
   "nbconvert_exporter": "python",
   "pygments_lexer": "ipython3",
   "version": "3.13.2"
  }
 },
 "nbformat": 4,
 "nbformat_minor": 5
}
