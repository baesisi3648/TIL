{
 "cells": [
  {
   "cell_type": "code",
   "execution_count": 25,
   "id": "c90418e1",
   "metadata": {},
   "outputs": [],
   "source": [
    "# Bot 의 주민번호. 이게 있어야 어떤 봇을 컨트롤 하는지 알 수 있다.\n",
    "bot_token = '8201997744:AAETH7OMGynmxP-klSDw_BWAVyyMSlGRIdg'"
   ]
  },
  {
   "cell_type": "code",
   "execution_count": 26,
   "id": "526ec1d6",
   "metadata": {},
   "outputs": [],
   "source": [
    "# 고정된 URL. 뒤에 붙는 말에 따라 다른 요청이 됨.\n",
    "URL = f'https://api.telegram.org/bot{bot_token}'"
   ]
  },
  {
   "cell_type": "code",
   "execution_count": 27,
   "id": "de5ef652",
   "metadata": {},
   "outputs": [
    {
     "name": "stdout",
     "output_type": "stream",
     "text": [
      "https://api.telegram.org/bot8201997744:AAETH7OMGynmxP-klSDw_BWAVyyMSlGRIdg/getMe\n"
     ]
    }
   ],
   "source": [
    "# Bot 에 대한 정보\n",
    "print(URL + '/getMe')"
   ]
  },
  {
   "cell_type": "code",
   "execution_count": 28,
   "id": "71d65547",
   "metadata": {},
   "outputs": [
    {
     "name": "stdout",
     "output_type": "stream",
     "text": [
      "https://api.telegram.org/bot8201997744:AAETH7OMGynmxP-klSDw_BWAVyyMSlGRIdg/getUpdates\n"
     ]
    }
   ],
   "source": [
    "# Bot의 모든 업데이트\n",
    "print(URL + '/getUpdates')"
   ]
  },
  {
   "cell_type": "code",
   "execution_count": 14,
   "id": "5f7b0ed5",
   "metadata": {},
   "outputs": [
    {
     "name": "stdout",
     "output_type": "stream",
     "text": [
      "https://api.telegram.org/bot8201997744:AAETH7OMGynmxP-klSDw_BWAVyyMSlGRIdg/sendMessage\n"
     ]
    }
   ],
   "source": [
    "# 답장을 위한 상대방 id\n",
    "\n",
    "my_id = '7481281400'\n",
    "\n",
    "# 메세지\n",
    "message = '좋은하루'\n",
    "\n",
    "print(URL + '/sendMessage')"
   ]
  },
  {
   "cell_type": "code",
   "execution_count": 16,
   "id": "fa0cc3fa",
   "metadata": {},
   "outputs": [],
   "source": [
    "data = {\n",
    "    \"ok\": True,\n",
    "    \"result\": [\n",
    "        {\n",
    "            \"update_id\": 438729878,\n",
    "            \"message\": {\n",
    "                \"message_id\": 1,\n",
    "                \"from\": {\n",
    "                    \"id\": 7481281400,\n",
    "                    \"is_bot\": False,\n",
    "                    \"first_name\": \"배\",\n",
    "                    \"last_name\": \"성우\",\n",
    "                    \"language_code\": \"ko\"\n",
    "                },\n",
    "                \"chat\": {\n",
    "                    \"id\": 7481281400,\n",
    "                    \"first_name\": \"배\",\n",
    "                    \"last_name\": \"성우\",\n",
    "                    \"type\": \"private\"\n",
    "                },\n",
    "                \"date\": 1753323398,\n",
    "                \"text\": \"/start\",\n",
    "                \"entities\": [\n",
    "                    {\n",
    "                        \"offset\": 0,\n",
    "                        \"length\": 6,\n",
    "                        \"type\": \"bot_command\"\n",
    "                    }\n",
    "                ]\n",
    "            }\n",
    "        },\n",
    "        {\n",
    "            \"update_id\": 438729879,\n",
    "            \"message\": {\n",
    "                \"message_id\": 2,\n",
    "                \"from\": {\n",
    "                    \"id\": 7481281400,\n",
    "                    \"is_bot\": False,\n",
    "                    \"first_name\": \"배\",\n",
    "                    \"last_name\": \"성우\",\n",
    "                    \"language_code\": \"ko\"\n",
    "                },\n",
    "                \"chat\": {\n",
    "                    \"id\": 7481281400,\n",
    "                    \"first_name\": \"배\",\n",
    "                    \"last_name\": \"성우\",\n",
    "                    \"type\": \"private\"\n",
    "                },\n",
    "                \"date\": 1753323693,\n",
    "                \"text\": \"메세지 확인해봄?\"\n",
    "            }\n",
    "        }\n",
    "    ]\n",
    "}"
   ]
  },
  {
   "cell_type": "code",
   "execution_count": 55,
   "id": "3f4c9c26",
   "metadata": {},
   "outputs": [
    {
     "name": "stdout",
     "output_type": "stream",
     "text": [
      "로또\n",
      "7481281400\n"
     ]
    }
   ],
   "source": [
    "# 봇 업데이트 받아서, 마지막 메세지 & 유저 받아오기\n",
    "\n",
    "import requests\n",
    "\n",
    "# /getUpdates 로 요청 보내고 -> 응답 JSON(딕셔너리 형태로)받아서 저장(실행할때마다 갱신)\n",
    "data = requests.get(URL + '/getUpdates').json()\n",
    "\n",
    "# 데이트 안에 있는 마지막 메세지의 text(내용)을 뽑아라.\n",
    "\n",
    "last_text = data[\"result\"][-1][\"message\"][\"text\"]\n",
    "print(last_text)\n",
    "\n",
    "# 마지막 메시지의 보낸사람 id 뽑기\n",
    "\n",
    "last_chat_id = data[\"result\"][-1][\"message\"][\"from\"][\"id\"]\n",
    "print(last_chat_id)\n",
    "\n"
   ]
  },
  {
   "cell_type": "code",
   "execution_count": null,
   "id": "764c8b50",
   "metadata": {},
   "outputs": [],
   "source": [
    "import random\n",
    "# 메세지가 로또면, 로또번호 6개 만들어서 보내기\n",
    "\n",
    "if last_text in ('로또', 'lotto', '가즈아'):\n",
    "    text = str(random.sample(range(1, 46), 6))\n",
    "elif last_text == '안녕':\n",
    "    text = '오냐'\n",
    "else:\n",
    "    text = '아직은 그런건 몰루'\n"
   ]
  },
  {
   "cell_type": "code",
   "execution_count": 57,
   "id": "eaa40fea",
   "metadata": {},
   "outputs": [
    {
     "data": {
      "text/plain": [
       "{'ok': True,\n",
       " 'result': {'message_id': 14,\n",
       "  'from': {'id': 8201997744,\n",
       "   'is_bot': True,\n",
       "   'first_name': 'baesisi',\n",
       "   'username': 'baesisi_bot'},\n",
       "  'chat': {'id': 7481281400,\n",
       "   'first_name': '배',\n",
       "   'last_name': '성우',\n",
       "   'type': 'private'},\n",
       "  'date': 1753336093,\n",
       "  'text': '따라해봐'}}"
      ]
     },
     "execution_count": 57,
     "metadata": {},
     "output_type": "execute_result"
    }
   ],
   "source": [
    "# 메세지 만들어서 전송\n",
    "\n",
    "body = {\n",
    "    'chat_id': last_chat_id,\n",
    "    'text': last_test,\n",
    "}\n",
    "requests.get(URL + '/sendMessage', body).json()\n"
   ]
  }
 ],
 "metadata": {
  "kernelspec": {
   "display_name": "Python 3",
   "language": "python",
   "name": "python3"
  },
  "language_info": {
   "codemirror_mode": {
    "name": "ipython",
    "version": 3
   },
   "file_extension": ".py",
   "mimetype": "text/x-python",
   "name": "python",
   "nbconvert_exporter": "python",
   "pygments_lexer": "ipython3",
   "version": "3.13.2"
  }
 },
 "nbformat": 4,
 "nbformat_minor": 5
}
