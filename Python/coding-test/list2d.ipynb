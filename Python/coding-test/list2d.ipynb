{
 "cells": [
  {
   "cell_type": "markdown",
   "id": "46d95f8a",
   "metadata": {},
   "source": [
    "# 2d list"
   ]
  },
  {
   "cell_type": "code",
   "execution_count": null,
   "id": "47e5d0de",
   "metadata": {},
   "outputs": [
    {
     "ename": "NameError",
     "evalue": "name 'n' is not defined",
     "output_type": "error",
     "traceback": [
      "\u001b[31m---------------------------------------------------------------------------\u001b[39m",
      "\u001b[31mNameError\u001b[39m                                 Traceback (most recent call last)",
      "\u001b[36mCell\u001b[39m\u001b[36m \u001b[39m\u001b[32mIn[4]\u001b[39m\u001b[32m, line 13\u001b[39m\n\u001b[32m      3\u001b[39m \u001b[38;5;66;03m# 5 * 5 판에서 2 * 2 부분 사각형의 요소 총합 최대값을 구하시오.\u001b[39;00m\n\u001b[32m      5\u001b[39m board = [\n\u001b[32m      6\u001b[39m     [\u001b[32m1\u001b[39m, \u001b[32m3\u001b[39m, \u001b[32m3\u001b[39m, \u001b[32m6\u001b[39m, \u001b[32m7\u001b[39m],\n\u001b[32m      7\u001b[39m     [\u001b[32m8\u001b[39m, \u001b[32m13\u001b[39m, \u001b[32m9\u001b[39m, \u001b[32m12\u001b[39m, \u001b[32m8\u001b[39m],\n\u001b[32m   (...)\u001b[39m\u001b[32m     10\u001b[39m     [\u001b[32m9\u001b[39m, \u001b[32m13\u001b[39m, \u001b[32m4\u001b[39m, \u001b[32m7\u001b[39m, \u001b[32m3\u001b[39m]\n\u001b[32m     11\u001b[39m ]\n\u001b[32m---> \u001b[39m\u001b[32m13\u001b[39m x = board[\u001b[43mn\u001b[49m][m]\n\u001b[32m     14\u001b[39m y = board[n][m+\u001b[32m1\u001b[39m]\n\u001b[32m     15\u001b[39m z = board[n+\u001b[32m1\u001b[39m][m]\n",
      "\u001b[31mNameError\u001b[39m: name 'n' is not defined"
     ]
    }
   ],
   "source": [
    "\n",
    "\n",
    "board = [\n",
    "    [1, 3, 3, 6, 7],\n",
    "    [8, 13, 9, 12, 8],\n",
    "    [4, 16, 11, 12, 6],\n",
    "    [2, 4, 1, 23, 2],\n",
    "    [9, 13, 4, 7, 3]\n",
    "]\n",
    "\n",
    "x = board[n][m]\n",
    "y = board[n][m+1]\n",
    "z = board[n+1][m]\n",
    "r = board[n+1][m+1]\n",
    "my_max = []\n",
    "\n",
    "while 0 <= a < 4 and 0 <= b < 4:\n",
    "    sum = x+y+z+r\n",
    "    my_max.append(sum)\n",
    "\n",
    "print(max(my_max))"
   ]
  },
  {
   "cell_type": "code",
   "execution_count": 6,
   "id": "77d42e0a",
   "metadata": {},
   "outputs": [
    {
     "name": "stdout",
     "output_type": "stream",
     "text": [
      "49\n"
     ]
    }
   ],
   "source": [
    "N, M = 5, 2\n",
    "\n",
    "# 5 * 5 판에서 2 * 2 부분 사각형의 요소 총합 최대값을 구하시오.\n",
    "\n",
    "board = [\n",
    "    [1, 3, 3, 6, 7],\n",
    "    [8, 13, 9, 12, 8],\n",
    "    [4, 16, 11, 12, 6],\n",
    "    [2, 4, 1, 23, 2],\n",
    "    [9, 13, 4, 7, 3]\n",
    "]\n",
    "\n",
    "my_max = 0  \n",
    "\n",
    "for n in range(N-M+1):        \n",
    "    for m in range(N-M+1):    \n",
    "        total = (\n",
    "            board[n][m] +\n",
    "            board[n][m+1] +\n",
    "            board[n+1][m] +\n",
    "            board[n+1][m+1]\n",
    "        )\n",
    "        if total > my_max:\n",
    "            my_max = total\n",
    "\n",
    "print(my_max)\n"
   ]
  }
 ],
 "metadata": {
  "kernelspec": {
   "display_name": "Python 3",
   "language": "python",
   "name": "python3"
  },
  "language_info": {
   "codemirror_mode": {
    "name": "ipython",
    "version": 3
   },
   "file_extension": ".py",
   "mimetype": "text/x-python",
   "name": "python",
   "nbconvert_exporter": "python",
   "pygments_lexer": "ipython3",
   "version": "3.13.2"
  }
 },
 "nbformat": 4,
 "nbformat_minor": 5
}
