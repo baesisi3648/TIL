{
 "cells": [
  {
   "cell_type": "markdown",
   "id": "e1997c65",
   "metadata": {},
   "source": [
    "### 21번 문제\n",
    "문자열 \"hello world python programming\"에서 각 단어의 첫 글자를 대문자로 바꾸어 출력하세요."
   ]
  },
  {
   "cell_type": "code",
   "execution_count": null,
   "id": "f8eaad17",
   "metadata": {},
   "outputs": [
    {
     "data": {
      "text/plain": [
       "'Hello World Python Programming'"
      ]
     },
     "execution_count": 1,
     "metadata": {},
     "output_type": "execute_result"
    }
   ],
   "source": [
    "sentence = \"hello world python programming\"\n",
    "\n",
    "sentence.title()"
   ]
  },
  {
   "cell_type": "markdown",
   "id": "015c665a",
   "metadata": {},
   "source": [
    "### 22번 문제\n",
    "학생들의 성적 딕셔너리를 만들고, 평균 점수를 계산하여 평균 이상인 학생들만 출력하세요."
   ]
  },
  {
   "cell_type": "code",
   "execution_count": null,
   "id": "3e3ee36e",
   "metadata": {},
   "outputs": [
    {
     "name": "stdout",
     "output_type": "stream",
     "text": [
      "Alice 85\n",
      "Charlie 90\n"
     ]
    }
   ],
   "source": [
    "scores = {'Alice': 85, 'Bob': 72, 'Charlie': 90, 'David': 60}\n",
    "\n",
    "avg = sum(scores.values())/len(scores)\n",
    "\n",
    "for student, score in scores.items():\n",
    "    if score >= avg:\n",
    "        print(student, score)\n",
    "\n",
    "\n"
   ]
  },
  {
   "cell_type": "markdown",
   "id": "cf788c80",
   "metadata": {},
   "source": [
    "### 23번 문제\n",
    "주어진 문자열에서 숫자만 추출하여 합계를 구하는 프로그램을 작성하세요."
   ]
  },
  {
   "cell_type": "code",
   "execution_count": 17,
   "id": "7ea517c6",
   "metadata": {},
   "outputs": [
    {
     "name": "stdout",
     "output_type": "stream",
     "text": [
      "10\n"
     ]
    }
   ],
   "source": [
    "text = \"a1b2c3d4\"\n",
    "\n",
    "list(text)\n",
    "sum = 0\n",
    "for el in text:\n",
    "    if el.isdigit() == True:\n",
    "        sum += int(el)\n",
    "\n",
    "print(sum)"
   ]
  },
  {
   "cell_type": "markdown",
   "id": "8a14b3de",
   "metadata": {},
   "source": [
    "### 24번 문제\n",
    "피보나치 수열의 첫 10개 항을 리스트에 저장하여 출력하세요."
   ]
  },
  {
   "cell_type": "code",
   "execution_count": 13,
   "id": "cc8b02fd",
   "metadata": {},
   "outputs": [
    {
     "name": "stdout",
     "output_type": "stream",
     "text": [
      "[0, 1, 1, 2, 3, 5, 8, 13, 21, 34, 55]\n"
     ]
    }
   ],
   "source": [
    "fibonacci = [0, 1]\n",
    "\n",
    "while len(fibonacci) < 11:\n",
    "    num = fibonacci[-1] + fibonacci[-2]\n",
    "    fibonacci.append(num)    \n",
    "\n",
    "print(fibonacci)\n"
   ]
  },
  {
   "cell_type": "markdown",
   "id": "cf47b1ae",
   "metadata": {},
   "source": [
    "### 25번 문제\n",
    "영어 문장을 입력받아 단어 개수, 문자 개수(공백 제외), 모음 개수를 세는 프로그램을 작성하세요."
   ]
  },
  {
   "cell_type": "code",
   "execution_count": 24,
   "id": "92747767",
   "metadata": {},
   "outputs": [
    {
     "name": "stdout",
     "output_type": "stream",
     "text": [
      "단어개수: 8\n",
      "문자개수: 20\n",
      "모음개수: 10\n"
     ]
    }
   ],
   "source": [
    "sentence = input(\"문장을 입력하세요: \")\n",
    "\n",
    "word = sentence.split()\n",
    "print('단어개수:', len(word))\n",
    "\n",
    "char = sentence.replace(' ','')\n",
    "print('문자개수:', len(char))\n",
    "\n",
    "word2 = sentence.lower()\n",
    "count_vowel = []\n",
    "\n",
    "for c in word2:\n",
    "    if c in 'aeiou':\n",
    "        count_vowel.append(c)\n",
    "\n",
    "print('모음개수:', len(count_vowel))\n"
   ]
  },
  {
   "cell_type": "markdown",
   "id": "65dcf00d",
   "metadata": {},
   "source": [
    "### 26번 문제\n",
    "2차원 리스트 [[1, 2, 3], [4, 5, 6], [7, 8, 9]]의 모든 원소의 합을 구하세요."
   ]
  },
  {
   "cell_type": "code",
   "execution_count": 22,
   "id": "26a8319e",
   "metadata": {},
   "outputs": [
    {
     "name": "stdout",
     "output_type": "stream",
     "text": [
      "45\n"
     ]
    }
   ],
   "source": [
    "matrix = [[1, 2, 3], [4, 5, 6], [7, 8, 9]]\n",
    "nums = []\n",
    "sum = 0\n",
    "\n",
    "for list1 in matrix:\n",
    "    nums += list1\n",
    "\n",
    "for num in nums:\n",
    "    sum += num\n",
    "\n",
    "print(sum)"
   ]
  },
  {
   "cell_type": "markdown",
   "id": "dea32b37",
   "metadata": {},
   "source": [
    "### 27번 문제\n",
    "문자열 리스트에서 가장 긴 문자열과 가장 짧은 문자열을 찾아 출력하세요."
   ]
  },
  {
   "cell_type": "code",
   "execution_count": 28,
   "id": "28d8b0c0",
   "metadata": {},
   "outputs": [
    {
     "name": "stdout",
     "output_type": "stream",
     "text": [
      "strawberry kiwi\n"
     ]
    }
   ],
   "source": [
    "words = [\"apple\", \"banana\", \"kiwi\", \"strawberry\"]\n",
    "\n",
    "long_word = max(words, key=len)\n",
    "short_word = min(words, key=len)\n",
    "\n",
    "print(long_word, short_word)\n"
   ]
  },
  {
   "cell_type": "markdown",
   "id": "88c6ac5b",
   "metadata": {},
   "source": [
    "### 28번 문제\n",
    "로또 번호 생성기를 만드세요. (1~45 중 중복 없는 6개 숫자)"
   ]
  },
  {
   "cell_type": "code",
   "execution_count": 59,
   "id": "5c9030f3",
   "metadata": {},
   "outputs": [
    {
     "data": {
      "text/plain": [
       "[10, 35, 8, 37, 19, 15]"
      ]
     },
     "execution_count": 59,
     "metadata": {},
     "output_type": "execute_result"
    }
   ],
   "source": [
    "import random\n",
    "\n",
    "random.sample(range(1,46), 6)\n"
   ]
  },
  {
   "cell_type": "markdown",
   "id": "4cdf20f0",
   "metadata": {},
   "source": [
    "### 29번 문제\n",
    "문자열을 입력받아 각 문자의 ASCII 값을 딕셔너리로 저장하여 출력하세요."
   ]
  },
  {
   "cell_type": "code",
   "execution_count": null,
   "id": "4ff89e6f",
   "metadata": {},
   "outputs": [
    {
     "name": "stdout",
     "output_type": "stream",
     "text": [
      "{'r': 114, 't': 116, 'e': 101, 'w': 119, 'q': 113, 'f': 102, 's': 115}\n"
     ]
    }
   ],
   "source": [
    "text = input(\"문자열을 입력하세요: \")\n",
    "\n",
    "dict1 = {}\n",
    "\n",
    "for el in text:\n",
    "    dict1[el] = ord(el)\n",
    "\n",
    "print(dict1)\n"
   ]
  },
  {
   "cell_type": "markdown",
   "id": "d458db98",
   "metadata": {},
   "source": [
    "### 30번 문제\n",
    "주어진 문자열에서 가장 많이 나타나는 문자와 그 개수를 찾아 출력하세요."
   ]
  },
  {
   "cell_type": "code",
   "execution_count": 36,
   "id": "edbc2d19",
   "metadata": {},
   "outputs": [
    {
     "name": "stdout",
     "output_type": "stream",
     "text": [
      "가장 많이 나타나는 문자: i\n",
      "개수: 4\n"
     ]
    }
   ],
   "source": [
    "from collections import Counter\n",
    "\n",
    "text = \"mississippi\"\n",
    "counter = Counter(text)\n",
    "counter\n",
    "most_common = counter.most_common(1)[0] # 1번째 인덱스를 사용해야 튜플로 나옴.\n",
    "print(\"가장 많이 나타나는 문자:\", most_common[0])\n",
    "\n",
    "print(\"개수:\", most_common[1])\n",
    "\n"
   ]
  }
 ],
 "metadata": {
  "kernelspec": {
   "display_name": "Python 3",
   "language": "python",
   "name": "python3"
  },
  "language_info": {
   "codemirror_mode": {
    "name": "ipython",
    "version": 3
   },
   "file_extension": ".py",
   "mimetype": "text/x-python",
   "name": "python",
   "nbconvert_exporter": "python",
   "pygments_lexer": "ipython3",
   "version": "3.13.2"
  }
 },
 "nbformat": 4,
 "nbformat_minor": 5
}
