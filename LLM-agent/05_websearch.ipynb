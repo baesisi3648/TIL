{
 "cells": [
  {
   "cell_type": "markdown",
   "id": "46763606",
   "metadata": {},
   "source": [
    "# Tavily Web Search\n",
    "- LLM에게 웹검색을 쥐어주자"
   ]
  },
  {
   "cell_type": "code",
   "execution_count": 1,
   "id": "be838e66",
   "metadata": {},
   "outputs": [
    {
     "name": "stdout",
     "output_type": "stream",
     "text": [
      "Note: you may need to restart the kernel to use updated packages.\n"
     ]
    },
    {
     "name": "stderr",
     "output_type": "stream",
     "text": [
      "\n",
      "[notice] A new release of pip is available: 24.3.1 -> 25.2\n",
      "[notice] To update, run: python.exe -m pip install --upgrade pip\n"
     ]
    }
   ],
   "source": [
    "%pip install -q langchain-tavily"
   ]
  },
  {
   "cell_type": "code",
   "execution_count": 2,
   "id": "4ad82b0d",
   "metadata": {},
   "outputs": [
    {
     "data": {
      "text/plain": [
       "True"
      ]
     },
     "execution_count": 2,
     "metadata": {},
     "output_type": "execute_result"
    }
   ],
   "source": [
    "from dotenv import load_dotenv\n",
    "from pprint import pprint\n",
    "\n",
    "load_dotenv()"
   ]
  },
  {
   "cell_type": "code",
   "execution_count": 3,
   "id": "0eeda313",
   "metadata": {},
   "outputs": [],
   "source": [
    "from langchain_tavily import TavilySearch   \n",
    "\n",
    "search_tool = TavilySearch(\n",
    "    max_results=5,\n",
    "    topic=\"general\",\n",
    "    search_depth=\"basic\",\n",
    "    # time_range=\"day\",\n",
    "    # include_domains=None,\n",
    "    # exclude_domains=None\n",
    ")"
   ]
  },
  {
   "cell_type": "code",
   "execution_count": 4,
   "id": "88c5da7b",
   "metadata": {},
   "outputs": [
    {
     "name": "stdout",
     "output_type": "stream",
     "text": [
      "{'answer': None,\n",
      " 'follow_up_questions': None,\n",
      " 'images': [],\n",
      " 'query': '강남 신세계에서 밥먹을만한 곳 알려줘',\n",
      " 'request_id': 'fa117fd8-7496-479a-872a-40a1433aa1cc',\n",
      " 'response_time': 0.87,\n",
      " 'results': [{'content': '강남신세계 혼밥맛집 (106곳) · 1. 소녀방앗간 서울고속터미널점 · 2. 타코벨 '\n",
      "                         '서울고속버스터미널점 · 3. 소이연남 파미에스테이션점 · 4. 갓덴스시 센트럴시티점 · 5. '\n",
      "                         '101번지',\n",
      "              'raw_content': None,\n",
      "              'score': 0.72231215,\n",
      "              'title': \"'강남신세계 혼밥' 맛집 빅데이터 추천순위 Top100 - 다이닝코드\",\n",
      "              'url': 'https://www.diningcode.com/list.dc?query=%EA%B0%95%EB%82%A8%EC%8B%A0%EC%84%B8%EA%B3%84%20%ED%98%BC%EB%B0%A5'},\n",
      "             {'content': 'Missing: 밥 알려줘',\n",
      "              'raw_content': None,\n",
      "              'score': 0.71948266,\n",
      "              'title': '강남 신세계 푸드코트 하우스오브 신세계,스위트파크(Eng CC)/ Seoul ...',\n",
      "              'url': 'https://www.youtube.com/watch?v=wRvUnu8OwWI'},\n",
      "             {'content': 'Missing: 밥 알려줘',\n",
      "              'raw_content': None,\n",
      "              'score': 0.694241,\n",
      "              'title': '가족들과 집에서 딱 먹기 좋은! 신세계백화점 강남점&본점 easy-pick ...',\n",
      "              'url': 'https://blog.naver.com/greenclover120/223605678888?viewType=pc'},\n",
      "             {'content': '1. 더 마고 그릴 신세계강남 · 2. 모던눌랑 강남고속터미널 · 3. 에토레 파미에스테이션 '\n",
      "                         '· 4. 자주테이블 신세계강남 · 5. 쓰리버즈 센트럴시티점 · 6. 더 키친 일뽀르노 신세계',\n",
      "              'raw_content': None,\n",
      "              'score': 0.6907474,\n",
      "              'title': \"'강남신세계백화점 레스토랑' 맛집 빅데이터 추천순위 Top10\",\n",
      "              'url': 'https://www.diningcode.com/list.dc?query=%EA%B0%95%EB%82%A8%EC%8B%A0%EC%84%B8%EA%B3%84%EB%B0%B1%ED%99%94%EC%A0%90%20%EB%A0%88%EC%8A%A4%ED%86%A0%EB%9E%91'},\n",
      "             {'content': '신세계 팩토리스토어 신세계 스타일마켓 신세계 푸드마켓 * 신세계 브랜드 신세계 아카데미;) '\n",
      "                         '신세계 온 아카데미 신세계 문화홀 신세계 VIP 클럽 + 혜택 안내 + 신세계 카드 * 신세계 '\n",
      "                         '아카데미 * 신세계 아카데미 * 신세계 문화홀 * 신세계 VIP 클럽 MY 신세계 MY 신세계 '\n",
      "                         '정상영업 10:30~20:00 연장영업 10:30~20:30 식당가영업 11:00~21:30 '\n",
      "                         '식당가 주문 마감 폐점 30분 전(단, 재료 소진 시 조기 마감 가능)  [하우스 오브 '\n",
      "                         '신세계] 주중/주말 10:30~22:00 \\\\* 주문 마감 1시간 전(단, 재료 소진 시 조기 '\n",
      "                         '마감 가능)  [B1 까사빠보/렌위치/브라우터/파이브가이즈] 10:30-21:00 (연장 영업 '\n",
      "                         '10:30-21:30), [B1 %아라비카] 10:30-21:00 [신세계 팩토리스토어 '\n",
      "                         '강남점] 주중/주말 11:00~21:00  [신세계 푸드마켓 도곡점] 주중/주말 '\n",
      "                         '10:30~22:00 (둘째, 넷째 주 일요일 정기휴점) \\\\* 서울 강남구 언주로30길 '\n",
      "                         '57  [파미에스테이션] 연중무휴 \\\\* 병원, 약국, 미용실, 비식음매장 등 일부 매장은 '\n",
      "                         '휴점 (매장별 휴점일 상이)',\n",
      "              'raw_content': None,\n",
      "              'score': 0.6664756,\n",
      "              'title': '레스토랑 | 강남점 - 신세계백화점',\n",
      "              'url': 'https://www.shinsegae.com/store/restaurant.do'}]}\n"
     ]
    }
   ],
   "source": [
    "pprint(search_tool.invoke({'query': '강남 신세계에서 밥먹을만한 곳 알려줘'}))"
   ]
  },
  {
   "cell_type": "code",
   "execution_count": 5,
   "id": "c7393e88",
   "metadata": {},
   "outputs": [
    {
     "data": {
      "text/plain": [
       "'강남 신세계백화점 내에서 점심 식사를 찾으신다면, 하우스 오브 신세계의 타치바나 일본라멘이 추천됩니다. 평일 저녁 5시 30분 전에 가면 웨이팅이 적어 편리하며, 점심 시간에도 맛있는 일본 라멘을 즐기실 수 있습니다. 또한 신세계백화점의 푸드코트에서 다양한 맛집을 경험하실 수 있습니다.'"
      ]
     },
     "execution_count": 5,
     "metadata": {},
     "output_type": "execute_result"
    }
   ],
   "source": [
    "from langchain.prompts import PromptTemplate\n",
    "from langchain_openai import ChatOpenAI\n",
    "from langchain_core.output_parsers import StrOutputParser\n",
    "from langchain_core.runnables import RunnableLambda, RunnablePassthrough\n",
    "\n",
    "llm = ChatOpenAI(model='gpt-4.1-nano')\n",
    "\n",
    "prompt = PromptTemplate(\n",
    "    input_variables=['query', 'search_results'],\n",
    "    template=\"\"\"넌 웹 검색결과를 요약해서 사용자의 질문에 맞게 좋은 답을 해주는 챗봇이야.\n",
    "\n",
    "    질문: {query}\n",
    "    검색결과: {search_results}\n",
    "    질문에 맞는 답을 검색결과 바탕으로 간단하게 알려줘\n",
    "    \"\"\"\n",
    ")\n",
    "\n",
    "chain = (\n",
    "    {\n",
    "        'query': RunnablePassthrough(),  # 사용자 입력 그대로 이 자리에 들어옴\n",
    "        'search_results': search_tool | RunnableLambda(\n",
    "            lambda x: '\\n'.join(\n",
    "                [f'-{r['title']} ({r['content']})' for r in x['results']]\n",
    "            )\n",
    "        )\n",
    "    }\n",
    "    | prompt\n",
    "    | llm\n",
    "    | StrOutputParser()\n",
    ")\n",
    "\n",
    "chain.invoke('강남 신세계에서 점심 먹기 좋은곳')"
   ]
  },
  {
   "cell_type": "code",
   "execution_count": 6,
   "id": "7e87cee3",
   "metadata": {},
   "outputs": [
    {
     "data": {
      "text/plain": [
       "'강남 신세계에서 점심을 먹기 좋은 곳으로는 다양한 레스토랑과 카페가 있습니다. 특히, 신세계백화점 내에는 일식, 양식, 한식 등 다양한 맛집이 있어 선택하기 좋아요. 참고로, 신세계 내에 위치한 한식당이나 뷔페도 인기입니다. 추가로 원하는 메뉴나 분위기를 알려주시면 더 구체적인 추천을 드릴 수 있어요.'"
      ]
     },
     "execution_count": 6,
     "metadata": {},
     "output_type": "execute_result"
    }
   ],
   "source": [
    "dumb_chain = prompt | llm | StrOutputParser()\n",
    "\n",
    "dumb_chain.invoke({'query': '강남 신세계에서 점심먹기 좋은곳', 'search_results': ''})"
   ]
  },
  {
   "cell_type": "code",
   "execution_count": 7,
   "id": "ff275351",
   "metadata": {},
   "outputs": [
    {
     "name": "stdout",
     "output_type": "stream",
     "text": [
      "\n",
      "\n",
      "\u001b[1m> Entering new AgentExecutor chain...\u001b[0m\n",
      "\u001b[32;1m\u001b[1;3m\n",
      "Invoking: `tavily_search` with `{'query': '09/03/25 오늘 날씨'}`\n",
      "\n",
      "\n",
      "\u001b[0m\u001b[36;1m\u001b[1;3m{'query': '09/03/25 오늘 날씨', 'follow_up_questions': None, 'answer': None, 'images': [], 'results': [{'url': 'https://news.nate.com/view/20250903n17432', 'title': '오늘의 날씨 (25. 09. 03. 10시)', 'content': '낮 최고기온은 서울과 전주 33도, 대전과 대구는 32도까지 오르겠고요. 동풍이 부는 동해안 지역은 강릉 31도, 포항은 29도에 그치겠습니다. 남은 한 주간 평년기온을 웃', 'score': 0.90039873, 'raw_content': None}, {'url': 'http://www.signalnews.co.kr/1987013', 'title': \"'오늘의 날씨' 25년 9월 3일\", 'content': '남부지방을 중심으로 소나기가 내리는 곳이 있겠다. <기온> 오늘(3일) 낮 기온은 27~33℃로 어제(2일, 28.1~33.4℃)와 비슷하겠다.', 'score': 0.88799405, 'raw_content': None}, {'url': 'https://news.nate.com/view/20250903n01877', 'title': '오늘의 날씨 - 오전 (2025년 09월 03일)', 'content': '9월 3일 수요일, 아침 날씨입니다. 아침 최저기온은 서울 23.0도, 인천 22.0도, 수원 21.0도, 춘천 21.0도, 강릉 22.0도, 청주 22.0도, 대전 21.0도,', 'score': 0.8708723, 'raw_content': None}, {'url': 'https://www.chosun.com/national/transport-environment/2025/09/02/FZYFV7E3JBAYLG2DQ66FQNYWZY/', 'title': '[오늘의 날씨] 2025년 9월 3일', 'content': '[오늘의 날씨] 2025년 9월 3일  2025년 9월 3일(수) 신문구독|中文|English|日本語 [오늘의 날씨] 2025년 9월 3일 조선일보 Image 2: 조선일보 이벤트Image 3: 조선일보 이벤트 많이 본 뉴스 서울시가 지난 6월 자동차 전용도로인 서부간선도로를 신호가 있는 일반 도로로 만드는 공사를 시작하면서 시민들의 원성이 치솟고 있다. 쎈 이슈]](https://www.chosun.com/entertainments/broadcast/2025/09/02/O5CHIBKT2UUJMV7NMTSJXUKTS4/ \"아들 초딩됐는데..원빈은 15년째 쉬고, ♥이나영은 변호사로 컴백 [Oh! ADThe Surprising Blockchain Pivot of an Ordinary-Looking Company bullseyealerts ADThe Clever Attachment Every Trimmer Owner Should See UltraCut 많이 본 뉴스 *   칼럼 *   정치 일반 *   국제 일반 *   사회 일반 *   경제 일반 *   스포츠 일반 건강 조선몰 문화·연예  *   연예 일반 *   영화 소식 | 음악 *   문화 일반 *   조선일보 구독신청 등록(발행)일자: 2011년 07월 26일 로그인 휴대폰 로그인 이메일 로그인  로그인 소셜 로그인', 'score': 0.82425016, 'raw_content': None}, {'url': 'https://www.kookje.co.kr/news2011/asp/newsbody.asp?code=00&key=20250903.22016000598', 'title': '오늘의 날씨- 2025년 9월 3일', 'content': \"오늘의 날씨- 2025년 9월 3일 : 국제신문 Image 1: 국제신문 Image 2 Image 3: 부산메디클럽 Image 6) Image 7: 국제신문 뉴스레터 Image 8: 국제신문 네이버 뉴스스탠드 구독하기 *   ■ HJ중공업株 한 달 새 138% 급등…코스피서 상승률 1위 Image 9버스·도시철 이어 부산 택시승차장도 '금연' 입니다Image 10시진핑 ‘反트럼프 슈퍼위크’…北·인도 참여가 관건Image 11‘귀멸의 칼날’ 관객 300만 명 돌파…‘좀비딸’은 누적 534만 명Image 12지역별 영화산업 현황·격차 한 눈에 알아보도록 수치화 Image 25: 국제신문 네이버 구독하기 종합 정치 경제 사회 스포츠 3.   3[[단독] 부산, ‘핵심분야’ AI사업 국비 줄탈락](https://www.kookje.co.kr/news2011/asp/newsbody.asp? 2.   2[[단독] 부산, ‘핵심분야’ AI사업 국비 줄탈락](https://www.kookje.co.kr/news2011/asp/newsbody.asp? 8.   8[[눈높이 사설] 유튜브 가짜뉴스, 제도적 장치 마련 시급](https://www.kookje.co.kr/news2011/asp/newsbody.asp? *   산행안내 | 산행후기 | 산행사진 *   Image 28: 부산 반려동물 걷기 축제 *   Image 31: 제27회 국제신문 부산마라톤대회 *   Image 32: 유콘서트 Image 33 Image 34: 걷고 싶은 부산 그린워킹 홈페이지Image 35: 국제신문 대관안내\", 'score': 0.7823471, 'raw_content': None}], 'response_time': 0.91, 'request_id': 'fedfec20-94d4-4788-bb80-28206dc00d20'}\u001b[0m\u001b[32;1m\u001b[1;3m오늘(09/03/25)의 날씨는 대체로 맑거나 구름이 끼는 가운데, 낮 최고 기온이 서울과 전주에서는 33도, 대전과 대구는 32도까지 오르고, 강릉은 31도, 포항은 29도로 매우 더운 편입니다. 아침 기온은 서울 23도, 인천 22도, 춘천 21도 등으로 쾌적한 시작을 할 수 있겠습니다.\n",
      "\n",
      "이런 따뜻하고 화창한 날씨에는 상쾌하고 활기찬 음악을 추천드릴게요.\n",
      "\n",
      "### 오늘 날씨에 어울리는 음악 추천\n",
      "1. **여름 느낌의 팝곡**: 태양과 따뜻한 분위기를 떠오르게 하는 곡들  \n",
      "   - \"Good as Hell\" - Lizzo  \n",
      "   - \"Uptown Funk\" - Mark Ronson ft. Bruno Mars  \n",
      "\n",
      "2. **경쾌하고 활기찬 곡**: 산책이나 야외 활동에 적합한 곡들  \n",
      "   - \"Walking on Sunshine\" - Katrina & The Waves  \n",
      "   - \"Happy\" - Pharrell Williams  \n",
      "\n",
      "3. **여름과 자연을 연상시키는 음악**: 자연의 소리나 편안한 멜로디  \n",
      "   - \"Island in the Sun\" - Weezer  \n",
      "   - \"Send Me On My Way\" - Rusted Root  \n",
      "\n",
      "이 음악들로 오늘의 활기찬 하루를 더욱 즐겁게 보내보세요!\u001b[0m\n",
      "\n",
      "\u001b[1m> Finished chain.\u001b[0m\n"
     ]
    },
    {
     "data": {
      "text/plain": [
       "{'messages': [{'role': 'human', 'content': '오늘 날씨에 맞는 음악 추천해줘'}],\n",
       " 'output': '오늘(09/03/25)의 날씨는 대체로 맑거나 구름이 끼는 가운데, 낮 최고 기온이 서울과 전주에서는 33도, 대전과 대구는 32도까지 오르고, 강릉은 31도, 포항은 29도로 매우 더운 편입니다. 아침 기온은 서울 23도, 인천 22도, 춘천 21도 등으로 쾌적한 시작을 할 수 있겠습니다.\\n\\n이런 따뜻하고 화창한 날씨에는 상쾌하고 활기찬 음악을 추천드릴게요.\\n\\n### 오늘 날씨에 어울리는 음악 추천\\n1. **여름 느낌의 팝곡**: 태양과 따뜻한 분위기를 떠오르게 하는 곡들  \\n   - \"Good as Hell\" - Lizzo  \\n   - \"Uptown Funk\" - Mark Ronson ft. Bruno Mars  \\n\\n2. **경쾌하고 활기찬 곡**: 산책이나 야외 활동에 적합한 곡들  \\n   - \"Walking on Sunshine\" - Katrina & The Waves  \\n   - \"Happy\" - Pharrell Williams  \\n\\n3. **여름과 자연을 연상시키는 음악**: 자연의 소리나 편안한 멜로디  \\n   - \"Island in the Sun\" - Weezer  \\n   - \"Send Me On My Way\" - Rusted Root  \\n\\n이 음악들로 오늘의 활기찬 하루를 더욱 즐겁게 보내보세요!'}"
      ]
     },
     "execution_count": 7,
     "metadata": {},
     "output_type": "execute_result"
    }
   ],
   "source": [
    "from langchain.agents import create_openai_tools_agent, AgentExecutor\n",
    "from langchain_core.prompts import ChatPromptTemplate, MessagesPlaceholder\n",
    "from datetime import datetime\n",
    "\n",
    "today = datetime.today().strftime('%D')\n",
    "\n",
    "search_tool = TavilySearch(\n",
    "    max_results=5,\n",
    "    topic='general'\n",
    ")\n",
    "\n",
    "prompt = ChatPromptTemplate.from_messages([\n",
    "    ('system', f'너는 훌륭한 어시스턴트야. 반드시 웹 검색도구를 사용해서 정보를 얻어. 최대한 답을 잘 해보자. 오늘은 {today}야.'),\n",
    "    MessagesPlaceholder(variable_name='messages'),\n",
    "    MessagesPlaceholder(variable_name='agent_scratchpad')  # 도구(검색) 호출때 필요함\n",
    "])\n",
    "\n",
    "agent = create_openai_tools_agent(\n",
    "    llm=llm,\n",
    "    tools=[search_tool],\n",
    "    prompt=prompt\n",
    ")\n",
    "\n",
    "agent_executor = AgentExecutor(agent=agent, tools=[search_tool], verbose=True)\n",
    "\n",
    "agent_executor.invoke({'messages': [{'role': 'human', 'content': '오늘 날씨에 맞는 음악 추천해줘'}]})"
   ]
  }
 ],
 "metadata": {
  "kernelspec": {
   "display_name": "Python 3",
   "language": "python",
   "name": "python3"
  },
  "language_info": {
   "codemirror_mode": {
    "name": "ipython",
    "version": 3
   },
   "file_extension": ".py",
   "mimetype": "text/x-python",
   "name": "python",
   "nbconvert_exporter": "python",
   "pygments_lexer": "ipython3",
   "version": "3.13.2"
  }
 },
 "nbformat": 4,
 "nbformat_minor": 5
}
