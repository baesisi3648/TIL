{
 "cells": [
  {
   "cell_type": "markdown",
   "id": "1a114fae",
   "metadata": {},
   "source": [
    "# 요약 (Summarization)\n",
    "\n",
    "매우 많은 양의 컨텍스트가 있을 경우, 어떻게 요약을 해야할까?\n",
    "1. 프롬프트에 다 때려 박기\n",
    "1. Map-Reduce: 각 문서를 요약하고, 이것들을 다 합쳐서 최종 요약본을 만든다.\n"
   ]
  },
  {
   "cell_type": "code",
   "execution_count": 1,
   "id": "3b0de1b9",
   "metadata": {},
   "outputs": [
    {
     "data": {
      "text/plain": [
       "True"
      ]
     },
     "execution_count": 1,
     "metadata": {},
     "output_type": "execute_result"
    }
   ],
   "source": [
    "from dotenv import load_dotenv\n",
    "load_dotenv()"
   ]
  },
  {
   "cell_type": "code",
   "execution_count": 2,
   "id": "c2efe21d",
   "metadata": {},
   "outputs": [
    {
     "name": "stdout",
     "output_type": "stream",
     "text": [
      "Note: you may need to restart the kernel to use updated packages.\n"
     ]
    },
    {
     "name": "stderr",
     "output_type": "stream",
     "text": [
      "\n",
      "[notice] A new release of pip is available: 24.3.1 -> 25.2\n",
      "[notice] To update, run: python.exe -m pip install --upgrade pip\n"
     ]
    }
   ],
   "source": [
    "%pip install -q arxiv"
   ]
  },
  {
   "cell_type": "code",
   "execution_count": 19,
   "id": "b21f149e",
   "metadata": {},
   "outputs": [],
   "source": [
    "from langchain_community.document_loaders import WebBaseLoader, ArxivLoader\n",
    "\n",
    "loader = ArxivLoader(\n",
    "    query='reasoning',\n",
    "    load_max_docs=2,\n",
    ")\n",
    "\n",
    "docs = loader.load()\n",
    "docs = docs[:2]"
   ]
  },
  {
   "cell_type": "code",
   "execution_count": 9,
   "id": "804fe6fb",
   "metadata": {},
   "outputs": [],
   "source": [
    "from langchain_openai import ChatOpenAI\n",
    "llm = ChatOpenAI(model='gpt-4.1', temperature=0)\n",
    "\n",
    "# from langchain.chat_models import init_chat_model\n",
    "# llm = init_chat_model(model='gpt-4o', model_provider='openai', temperature=0) # 위와 같은 코드"
   ]
  },
  {
   "cell_type": "markdown",
   "id": "cdacbc04",
   "metadata": {},
   "source": [
    "## 문서 때려 박기 (Stuff Docs)"
   ]
  },
  {
   "cell_type": "code",
   "execution_count": 12,
   "id": "3884c556",
   "metadata": {},
   "outputs": [],
   "source": [
    "from langchain.chains.combine_documents import create_stuff_documents_chain\n",
    "from langchain_core.prompts import ChatPromptTemplate\n",
    "\n",
    "prompt = ChatPromptTemplate.from_messages([\n",
    "    ('system', '아래 내용을 정확하게 요약해: \\n\\n{context}')\n",
    "])\n",
    "\n",
    "chain = create_stuff_documents_chain(llm, prompt)\n",
    "\n",
    "res = chain.invoke({'context':docs})\n"
   ]
  },
  {
   "cell_type": "code",
   "execution_count": 14,
   "id": "dae7032a",
   "metadata": {},
   "outputs": [
    {
     "name": "stdout",
     "output_type": "stream",
     "text": [
      "아래 두 논문의 핵심 내용을 각각 정확하게 요약합니다.\n",
      "\n",
      "---\n",
      "\n",
      "### 1. **Process or Result? Manipulated Ending Tokens Can Mislead Reasoning LLMs to Ignore the Correct Reasoning Steps**\n",
      "\n",
      "#### **핵심 요약**\n",
      "\n",
      "- **배경**: 최근 대형 언어모델(LLM)은 Chain-of-Thought(CoT) 방식으로 수학적 추론 능력이 크게 향상되었으나, 입력 추론 과정에 미세한 오류가 포함될 경우의 취약성은 충분히 연구되지 않았다.\n",
      "- **주요 발견**: \n",
      "  - **Compromising Thought (CPT)**라는 새로운 취약점을 제시. 이는 LLM이 입력된 추론 과정(Reasoning Tokens)의 마지막 계산 결과(ending tokens)가 조작되었을 때, 올바른 추론 과정을 무시하고 잘못된 결과를 답으로 채택하는 현상이다.\n",
      "  - 여러 LLM(DeepSeek-R1, OpenAI-o1, o3-mini1 등)에서 실험한 결과, 대부분의 모델이 조작된 ending tokens에 쉽게 속아 넘어가며, 자기 검증 및 오류 수정 능력이 크게 저하됨을 확인.\n",
      "  - 기존 연구는 구조적(Structural) 변경이 내용(Content) 변경보다 모델 성능에 더 큰 영향을 준다고 했으나, 본 연구는 **마지막 결과 토큰(ending tokens)의 미세한 조작이 구조적 변경보다 더 큰 영향을 미친다**는 점을 발견.\n",
      "  - DeepSeek-R1의 경우, 조작된 reasoning tokens가 입력되면 아예 추론을 중단(“thinking stopped”)하고 답을 내지 않는 보안 취약점도 발견.\n",
      "- **실험 방법**: \n",
      "  - ending tokens의 일부 숫자만 바꾸는 방식으로 reasoning tokens를 조작.\n",
      "  - 모델이 이를 얼마나 잘 감지하고 저항(resist)하는지 세 가지 프롬프트(불확실성 유도, 명시적 오류 지시, 출력 prefix 강제)를 통해 평가.\n",
      "- **결론 및 시사점**: \n",
      "  - 현재의 추론 LLM은 미세한 입력 오류에 매우 취약하며, 자기 검증 능력이 제한적임을 보여줌.\n",
      "  - 수학적 문제 해결 등 reasoning-intensive 응용에서 신뢰성과 보안에 각별한 주의가 필요함.\n",
      "\n",
      "---\n",
      "\n",
      "### 2. **Hypothesis Testing Prompting Improves Deductive Reasoning in Large Language Models**\n",
      "\n",
      "#### **핵심 요약**\n",
      "\n",
      "- **배경**: Chain-of-Thought(CoT) 등 다양한 프롬프트 기법이 LLM의 추론 능력을 높였으나, 복잡한 논리 추론에서는 여전히 비합리적이거나 허구적인 추론 경로가 생성되는 문제가 있다.\n",
      "- **주요 제안**: \n",
      "  - **Hypothesis Testing Prompting**이라는 새로운 프롬프트 방식을 제안. \n",
      "  - 이 방식은 결론에 대한 가정(assumption)을 세우고, 역방향 추론(backward reasoning)과 사실 검증(fact verification)을 통해 결론의 타당성을 단계별로 확인한다.\n",
      "  - 즉, 결론이 참(True)일 경우와 거짓(False)일 경우를 각각 가정하고, 주어진 사실과 규칙을 바탕으로 논리적으로 검증하는 과정을 프롬프트에 포함시킴.\n",
      "- **실험 결과**: \n",
      "  - 두 개의 복잡한 논리 추론 데이터셋(ProofWriter, RuleTaker)에서 실험한 결과, 기존의 표준 프롬프트나 CoT 프롬프트보다 **정확도와 추론 과정의 합리성**이 크게 향상됨.\n",
      "  - 특히, \"Unknown\"과 같은 불확실한 답변을 요구하는 경우에도 기존 방식보다 훨씬 더 신뢰성 있는 결과를 도출함.\n",
      "- **의의**: \n",
      "  - Hypothesis Testing Prompting은 LLM이 더 체계적이고 표준화된 논리 추론 과정을 생성하도록 유도함.\n",
      "  - 복잡한 논리 문제에서 LLM의 추론 신뢰성과 설명 가능성을 높이는 효과적인 프롬프트 설계 전략임을 입증.\n",
      "\n",
      "---\n",
      "\n",
      "**요약 비교**  \n",
      "- 첫 논문은 LLM이 입력 추론 과정의 마지막 결과가 조작될 때 쉽게 속아 넘어가는 취약점(CPT)을 발견하고, 그 영향과 보안상 문제를 실증적으로 분석함.\n",
      "- 두 번째 논문은 LLM의 논리 추론 능력을 높이기 위해 결론 가정과 역방향 검증을 포함한 Hypothesis Testing Prompting을 제안, 실제로 추론 정확도와 과정의 합리성을 크게 개선함을 보임.\n"
     ]
    }
   ],
   "source": [
    "from pprint import pprint\n",
    "print(res)"
   ]
  },
  {
   "cell_type": "markdown",
   "id": "b11e4def",
   "metadata": {},
   "source": [
    "## Map - Reduce\n",
    "- 각각 나눠서 요약하기\n",
    "\n",
    "- list(int, '12345')\n",
    "- map(요약, [문서1, 문서2, 문서3]) -> reduce(요약1 요약2 요약3) -> 전체 요약"
   ]
  },
  {
   "cell_type": "code",
   "execution_count": 15,
   "id": "8408b03f",
   "metadata": {},
   "outputs": [],
   "source": [
    "from langchain_core.prompts import ChatPromptTemplate\n",
    "\n",
    "prompt = ChatPromptTemplate.from_messages([\n",
    "    ('system', '아래 내용을 정확하게 요약해: \\n\\n{context}')\n",
    "])"
   ]
  },
  {
   "cell_type": "code",
   "execution_count": 17,
   "id": "bcbfcd6e",
   "metadata": {},
   "outputs": [],
   "source": [
    "reduce_template = \"\"\"\n",
    "아래에 요약된 문서들이야.\n",
    "{docs}\n",
    "---\n",
    "이것들을 가지고 정제해서 최종 통합본을 잘 만들어줘.\n",
    "\"\"\"\n",
    "\n",
    "reduce_prompt = ChatPromptTemplate([\n",
    "    ('human', reduce_template)\n",
    "])"
   ]
  },
  {
   "cell_type": "code",
   "execution_count": 21,
   "id": "550bb065",
   "metadata": {},
   "outputs": [],
   "source": [
    "from langchain_community.document_loaders import WebBaseLoader\n",
    "\n",
    "loader = WebBaseLoader(\"https://lilianweng.github.io/posts/2023-06-23-agent/\")\n",
    "docs = loader.load()"
   ]
  },
  {
   "cell_type": "markdown",
   "id": "9270187f",
   "metadata": {},
   "source": [
    "## Langgraph로 문서별 요약 작업 조율"
   ]
  },
  {
   "cell_type": "code",
   "execution_count": 23,
   "id": "78aa742b",
   "metadata": {},
   "outputs": [
    {
     "name": "stderr",
     "output_type": "stream",
     "text": [
      "Created a chunk of size 1003, which is longer than the specified 1000\n"
     ]
    },
    {
     "data": {
      "text/plain": [
       "13"
      ]
     },
     "execution_count": 23,
     "metadata": {},
     "output_type": "execute_result"
    }
   ],
   "source": [
    "# 문서를 더 작은 문서로 쪼개기\n",
    "from langchain_text_splitters import CharacterTextSplitter\n",
    "\n",
    "text_splitter = CharacterTextSplitter.from_tiktoken_encoder(\n",
    "    chunk_size=1000,  # tiktoken 인코더라 토큰 기준 1000개\n",
    "    chunk_overlap=0,\n",
    ")\n",
    "\n",
    "split_docs = text_splitter.split_documents(docs)\n",
    "len(split_docs)"
   ]
  },
  {
   "cell_type": "code",
   "execution_count": 56,
   "id": "ee76cd01",
   "metadata": {},
   "outputs": [],
   "source": [
    "import operator\n",
    "from typing_extensions import Annotated, List, Literal, TypedDict\n",
    "\n",
    "from langchain.chains.combine_documents.reduce import acollapse_docs, split_list_of_docs\n",
    "from langchain_core.documents import Document\n",
    "from langgraph.types import Send\n",
    "from langgraph.graph import START, END, StateGraph\n",
    "\n",
    "# 전체적으로 사용할 State (Reduce)\n",
    "class OverallState(TypedDict):\n",
    "    contents: List[str]                         # 입력 문서 조각의 내용들\n",
    "    summaries: Annotated[list, operator.add]    # 각 contents의 요약본(노드들이 여러개의 요약을 반환하면, 자동으로 리스트에 합쳐짐)\n",
    "    collapsed_summaries: List[Document]         # summaries를 Document로 포장한 것들\n",
    "    final_summary: str                          # 최종 요약본\n",
    "\n",
    "# 개별 문서를 처리할 State (Map)\n",
    "class SummaryState(TypedDict):\n",
    "    content: str       # 각 문서를 요약할 때 사용할 문서의 내용\n"
   ]
  },
  {
   "cell_type": "code",
   "execution_count": 57,
   "id": "3256973d",
   "metadata": {},
   "outputs": [],
   "source": [
    "from langchain_core.prompts import ChatPromptTemplate\n",
    "\n",
    "TOKEN_MAX = 2000\n",
    "\n",
    "map_prompt = ChatPromptTemplate.from_messages([\n",
    "    (\"system\", \"Write a concise summary of the following:\\\\n\\\\n{context}\")\n",
    "])\n",
    "\n",
    "reduce_template = \"\"\"\n",
    "The following is a set of summaries:\n",
    "{docs}\n",
    "Take these and distill it into a final, consolidated summary\n",
    "of the main themes. \n",
    "Answer in Korean.\n",
    "\"\"\"\n",
    "\n",
    "reduce_prompt = ChatPromptTemplate([\n",
    "    ('human', reduce_template)\n",
    "])"
   ]
  },
  {
   "cell_type": "code",
   "execution_count": 49,
   "id": "d3037c98",
   "metadata": {},
   "outputs": [],
   "source": [
    "# Node, Router 아닌 실제 사용할 함수들\n",
    "\n",
    "async def _reduce(input: dict) -> str:\n",
    "    prompt = reduce_prompt.invoke(input)\n",
    "    res = await llm.ainvoke(prompt)\n",
    "    return res.content\n",
    "\n",
    "# documents 인자 내부의 모든 내용의 토큰 총 합\n",
    "def sum_docs_tokens(documents: List[Document]) -> int:\n",
    "    return sum(llm.get_num_tokens(doc.page_content) for doc in documents)"
   ]
  },
  {
   "cell_type": "code",
   "execution_count": 52,
   "id": "d37e3d47",
   "metadata": {},
   "outputs": [],
   "source": [
    "# Edge (router) -> 각 원본조각을 요약할수 있게 generate_summary 로 보냄 (문서 조각 개수만큼)\n",
    "def map_summaries(state: OverallState):\n",
    "    result = []\n",
    "    for content in state['contents']:\n",
    "        result.append(Send('generate_summary', {'content': content}))\n",
    "    return result  # List Comprehension 으로 교체 가능\n",
    "\n",
    "\n",
    "# Edge (router) -> 재귀적으로 계속 collapse_suammries 를 할지, 끝낼지 결정하는 라우터\n",
    "def should_collapse(\n",
    "    state: OverallState,\n",
    ") -> Literal[\"collapse_summaries\", \"generate_final_summary\"]:\n",
    "    num_tokens = sum_docs_tokens(state[\"collapsed_summaries\"])\n",
    "    if num_tokens > TOKEN_MAX:\n",
    "        return \"collapse_summaries\"\n",
    "    else:\n",
    "        return \"generate_final_summary\"\n",
    "\n",
    "\n",
    "# Node: 주어진 내용을 요약함. (비동기적 실행)\n",
    "async def generate_summary(state: SummaryState):\n",
    "    prompt = map_prompt.invoke({'context': state['content']})\n",
    "    res = await llm.ainvoke(prompt)\n",
    "    return {'summaries': [res.content]}\n",
    "\n",
    "\n",
    "# Node: 위에서 생성한 요약들을 Document() 객체로 만들어서 'collapsed_summaries' 키에 넣어줌\n",
    "def collect_summaries(state: OverallState):\n",
    "    return {\n",
    "        'collapsed_summaries': [Document(summary) for summary in state['summaries']]\n",
    "    }\n",
    "\n",
    "\n",
    "# Node: 1차 요약이 완료. -> 요약본이 토큰수가 너무 많을 수 있다 -> 필요에 따라 더 작은 요약으로 축소(collapse)\n",
    "async def collapse_summaries(state: OverallState):\n",
    "    docs_lists = split_list_of_docs(\n",
    "        state['collapsed_summaries'],\n",
    "        sum_docs_tokens,\n",
    "        TOKEN_MAX\n",
    "    )\n",
    "    results = []\n",
    "    for doc_list in docs_lists:\n",
    "        results.append(await acollapse_docs(doc_list, _reduce))\n",
    "\n",
    "    return {'collapsed_summaries': results}\n",
    "\n",
    "\n",
    "# Node: 최종 정리 노드\n",
    "async def generate_final_summary(state: OverallState):\n",
    "    response = await _reduce(state[\"collapsed_summaries\"])\n",
    "    return {\"final_summary\": response}"
   ]
  },
  {
   "cell_type": "code",
   "execution_count": 53,
   "id": "0f69a1a0",
   "metadata": {},
   "outputs": [],
   "source": [
    "# Construct the graph\n",
    "# Nodes:\n",
    "graph = StateGraph(OverallState)\n",
    "graph.add_node(\"generate_summary\", generate_summary)  # same as before\n",
    "graph.add_node(\"collect_summaries\", collect_summaries)\n",
    "graph.add_node(\"collapse_summaries\", collapse_summaries)\n",
    "graph.add_node(\"generate_final_summary\", generate_final_summary)\n",
    "\n",
    "# Edges:\n",
    "graph.add_conditional_edges(START, map_summaries, [\"generate_summary\"])\n",
    "graph.add_edge(\"generate_summary\", \"collect_summaries\")\n",
    "graph.add_conditional_edges(\"collect_summaries\", should_collapse)\n",
    "graph.add_conditional_edges(\"collapse_summaries\", should_collapse)\n",
    "graph.add_edge(\"generate_final_summary\", END)\n",
    "\n",
    "app = graph.compile()"
   ]
  },
  {
   "cell_type": "code",
   "execution_count": 54,
   "id": "e2ddeaa9",
   "metadata": {},
   "outputs": [
    {
     "name": "stdout",
     "output_type": "stream",
     "text": [
      "{'generate_summary': {'summaries': ['Summary:\\n\\nThe provided list details a set of commands for an AI agent, enabling it to perform tasks such as web searching, website browsing, managing GPT-powered agents, handling files (read, write, delete, search), analyzing and improving code, generating images, sending tweets, and executing Python files. The agent has access to the internet, long-term memory, and can delegate tasks to GPT-3.5 agents. Performance guidelines emphasize continuous self-evaluation, efficiency, and minimizing the number of steps to complete tasks.']}}\n",
      "{'generate_summary': {'summaries': ['Summary:\\n\\nLLM-powered autonomous agents face several key limitations. Their finite context length restricts the amount of historical information, instructions, and API context they can process, making it difficult to learn from past mistakes or handle complex tasks requiring long-term memory. While vector stores can extend knowledge access, they lack the full representational power of direct attention mechanisms. Additionally, LLMs struggle with long-term planning, task decomposition, and adapting to unexpected errors, making them less robust than humans. The reliance on natural language interfaces introduces further reliability issues, as LLMs may produce formatting errors or refuse instructions, necessitating extra effort in parsing and handling model outputs.\\n\\n(Cited from: Weng, Lilian. (Jun 2023). “LLM-powered Autonomous Agents”. Lil’Log. https://lilianweng.github.io/posts/2023-06-23-agent/)']}}\n",
      "{'generate_summary': {'summaries': ['Summary:\\n\\nLilian Weng\\'s article \"LLM-powered Autonomous Agents\" (2023) provides an overview of how large language models (LLMs) are being used to build autonomous agents capable of complex reasoning, planning, and tool use. The article surveys recent advances such as chain-of-thought prompting, tree-of-thoughts, and frameworks like ReAct, which combine reasoning and acting. It discusses how LLM agents can interact with external tools, search engines, APIs, and memory systems to enhance their capabilities and autonomy. The piece also highlights challenges in agent design, including memory management, self-reflection, and alignment with human feedback. Weng references a range of recent research and open-source projects (e.g., AutoGPT, HuggingGPT) that demonstrate the rapid progress and potential of LLM-powered agents in automating tasks and simulating human-like behaviors.']}}\n",
      "{'generate_summary': {'summaries': ['Chain of Hindsight (CoH; Liu et al. 2023) is a supervised fine-tuning approach that improves model outputs by presenting a sequence of previous outputs, each annotated with human feedback and ratings. The model is trained to generate improved completions by conditioning on this feedback history, encouraging self-reflection and incremental improvement. To prevent overfitting and copying, CoH uses regularization and random token masking during training. The training data combines various human feedback datasets. After fine-tuning, the model can iteratively enhance its outputs in response to feedback.\\n\\nAlgorithm Distillation (AD; Laskin et al. 2023) extends this idea to reinforcement learning by feeding the model a concatenated history of episodes, allowing it to learn the process of improvement across episodes rather than a fixed policy. AD uses behavioral cloning over these histories, enabling the model to generalize across tasks and improve performance with longer context windows. Compared to baselines, AD achieves near-optimal in-context RL performance using only offline data and learns faster than methods relying on expert trajectories.\\n\\nIn summary, both CoH and AD leverage sequential histories of feedback or learning to train models that can self-improve over time, with CoH focused on language tasks and AD on reinforcement learning.']}}\n",
      "{'generate_summary': {'summaries': ['Summary:\\n\\nThe conversation outlines a detailed, step-by-step approach for generating a fully functional codebase based on architectural instructions, with a focus on clarity, modularity, and best practices. The system instructs the assistant to:\\n\\n- Explicitly state assumptions before coding.\\n- List all core classes, functions, and methods, each with a brief comment on its purpose.\\n- Output the complete content of each file in markdown code blocks, starting from the entrypoint and proceeding to dependencies.\\n- Ensure all code is fully implemented (no placeholders), with all necessary imports, types, and compatibility between files.\\n- Follow language- and framework-specific conventions (e.g., requirements.txt for Python, package.json for NodeJS).\\n- Add comments for complex logic and function definitions.\\n- Double-check that all architectural components are present before finishing.\\n\\nThe sample scenario discussed is a game using an MVC (Model-View-Controller) pattern, with the model handling game data, the view managing rendering, and the controller processing user input. The assistant is expected to reason through the design, make explicit assumptions, and produce a complete, runnable codebase following these guidelines.']}}\n",
      "{'generate_summary': {'summaries': ['**Summary:**\\n\\nComponent One: Planning focuses on how agents tackle complex tasks by breaking them down into manageable steps and improving through self-reflection. Task decomposition techniques like Chain of Thought (CoT) prompt models to reason step by step, while Tree of Thoughts (ToT) explores multiple reasoning paths, forming a tree structure for broader exploration. Decomposition can be achieved through prompting, task-specific instructions, or human input. Alternatively, LLM+P outsources planning to external classical planners using PDDL, translating between natural language and formal planning representations.\\n\\nSelf-reflection enables agents to iteratively refine their actions and correct mistakes. The ReAct framework combines reasoning and acting, prompting the model to alternate between thought, action, and observation, which improves performance over action-only approaches. Reflexion further enhances agents with dynamic memory and self-reflection, using heuristics to detect inefficient or hallucinated trajectories and incorporating reflective feedback into future planning. These methods collectively improve agent performance on knowledge-intensive and decision-making tasks.']}}\n",
      "{'generate_summary': {'summaries': ['Summary:\\n\\nThe text discusses experiments with AI agents in two main contexts: drug synthesis and generative social simulations. In the drug synthesis scenario, an agent was tasked with identifying anticancer drug targets, selecting relevant chemical scaffolds, and attempting synthesis. The risks of misuse were highlighted, particularly regarding illicit drugs and chemical weapons. When tested with a set of known chemical weapon agents, the AI provided synthesis procedures for 36% of requests, with most rejections occurring after web searches or based on the prompt.\\n\\nThe second part describes \"Generative Agents,\" a simulation where LLM-powered virtual characters interact in a sandbox environment, mimicking human social behavior. These agents use memory streams, retrieval models, reflection mechanisms, and planning to inform actions and interactions, resulting in emergent behaviors like information diffusion and social event coordination. The text also references AutoGPT as a proof-of-concept for autonomous LLM agents, noting its constraints and reliability challenges.']}}\n",
      "{'generate_summary': {'summaries': ['{\\n    \"thoughts\": {\\n        \"text\": \"GPT-Engineer is a project that generates an entire code repository from a natural language task. It breaks down the task into smaller components, asks clarifying questions, and iteratively builds the codebase.\",\\n        \"reasoning\": \"Summarizing the process helps clarify how GPT-Engineer operates: it decomposes tasks, seeks clarification, and then generates code. The sample conversation demonstrates its approach to gathering requirements before coding.\",\\n        \"plan\": \"- Identify unclear areas in user requests\\\\n- Ask targeted clarifying questions\\\\n- Make explicit assumptions if needed\\\\n- Generate code after requirements are clear\",\\n        \"criticism\": \"The summary could be improved by mentioning how the system message changes once clarification is complete, and by highlighting the iterative nature of the process.\",\\n        \"speak\": \"GPT-Engineer clarifies user requirements by breaking down tasks and asking questions before generating code, ensuring a clear understanding before proceeding.\"\\n    },\\n    \"command\": {\\n        \"name\": \"summarize_gpt_engineer_process\",\\n        \"args\": {\\n            \"input\": \"GPT-Engineer is another project to create a whole repository of code given a task specified in natural language. The GPT-Engineer is instructed to think over a list of smaller components to build and ask for user input to clarify questions as needed. Here are a sample conversation for task clarification sent to OpenAI ChatCompletion endpoint used by GPT-Engineer. The user inputs are wrapped in {{user input text}}. [ ... ] Then after these clarification, the agent moved into the code writing mode with a different system message.\"\\n        }\\n    }\\n}']}}\n",
      "{'generate_summary': {'summaries': ['Summary:\\n\\nHuman memory is categorized into three main types: sensory memory (briefly retains sensory impressions for a few seconds), short-term/working memory (holds about 7 items for 20–30 seconds for immediate cognitive tasks), and long-term memory (stores information for days to decades, with explicit/declarative and implicit/procedural subtypes). In computational terms, sensory memory maps to raw input embeddings, short-term memory to in-context learning (limited by model context window), and long-term memory to external vector stores accessed via fast retrieval.\\n\\nTo efficiently retrieve information from large external memory, Maximum Inner Product Search (MIPS) is used, often with approximate nearest neighbor (ANN) algorithms to balance speed and accuracy. Common ANN methods include:\\n\\n- LSH (Locality-Sensitive Hashing): Groups similar items into the same buckets via hashing.\\n- ANNOY: Uses random projection trees for scalable, tree-based search.\\n- HNSW: Builds hierarchical small-world graphs for fast, multi-layered navigation.\\n- FAISS: Clusters high-dimensional data and refines search within clusters.\\n- ScaNN: Uses anisotropic vector quantization to preserve inner product similarity during search.\\n\\nThese techniques enable rapid and scalable retrieval from large memory stores, supporting advanced AI applications.']}}\n",
      "{'generate_summary': {'summaries': ['Summary:\\n\\nThe text discusses the comparison of Maximum Inner Product Search (MIPS) algorithms, highlighting recall@10 as a key performance metric (with more details available at ann-benchmarks.com). It then explores the concept of tool use as a unique human trait and its application in enhancing Large Language Models (LLMs). The MRKL system is introduced as a neuro-symbolic architecture where LLMs route tasks to specialized expert modules, demonstrating that LLMs struggle with extracting arguments for arithmetic tasks, especially from verbal problems. Other approaches like TALM and Toolformer fine-tune LLMs to use external APIs, improving output quality. Practical implementations include ChatGPT Plugins and OpenAI function calling. HuggingGPT is presented as a framework where ChatGPT plans tasks, selects appropriate models from HuggingFace, and summarizes results, operating through four stages: task planning, model selection, task execution, and response summarization. The process relies on structured instructions and few-shot examples to guide LLMs in decomposing and routing user requests.']}}\n",
      "{'generate_summary': {'summaries': ['This article provides an overview of LLM-powered autonomous agents, highlighting how large language models (LLMs) serve as the core \"brain\" of such systems. The architecture is built around three main components:\\n\\n1. **Planning**: The agent decomposes complex tasks into smaller subgoals and uses self-reflection to learn from past actions, improving future performance.\\n2. **Memory**: The system utilizes short-term memory (in-context learning) and long-term memory (external vector stores for information retrieval) to retain and recall information as needed.\\n3. **Tool Use**: Agents can interact with external APIs to access up-to-date information, execute code, or retrieve proprietary data beyond their pre-trained knowledge.\\n\\nThe article references proof-of-concept projects like AutoGPT, GPT-Engineer, and BabyAGI, and discusses challenges and case studies, illustrating the potential of LLMs as general problem solvers beyond text generation.']}}\n",
      "{'generate_summary': {'summaries': ['Summary:\\n\\nThe instructions describe a systematic approach for generating a complete, detailed codebase from an architectural description. The process involves:\\n\\n- Laying out all core classes, functions, and methods, each with a brief comment on its purpose.\\n- Outputting the full content of each file, starting with the entrypoint, then proceeding to imported files, ensuring all code is included and functional (no placeholders).\\n- Using markdown code blocks for each file, with the filename and appropriate language tag.\\n- Following best practices for file naming, imports, and code structure for the chosen language/framework.\\n- Ensuring all dependencies are defined (e.g., requirements.txt for Python, package.json for NodeJS).\\n- Adding comments to explain the purpose of functions and complex logic.\\n- Using dataclasses and pytest for Python projects.\\n- Double-checking that every architectural detail is implemented in code, with each class typically in its own file.\\n- Ensuring the codebase is ready to run and test, with all parts present and compatible.']}}\n",
      "{'generate_summary': {'summaries': ['Summary:\\n\\nHuggingGPT and similar tool-augmented LLM systems execute user tasks by breaking them down into subtasks, assigning each to expert models, and logging the results. The LLM then summarizes these results for the user. Real-world deployment faces challenges in efficiency, context management, and output stability. API-Bank is a benchmark that evaluates LLMs’ ability to select, call, and plan with APIs across diverse tasks, measuring performance at three levels: correct API usage, retrieval, and multi-step planning. Case studies like ChemCrow show that domain-specific tool integration can significantly improve task accuracy, especially in specialized fields, though LLM self-evaluation may not always reflect true performance.\\n\\nProcess and Analysis:\\n\\nTo answer your request, here’s how the system works:\\n\\n- User Input: The user provides a request (e.g., \"develop a novel anticancer drug\").\\n- Task Planning: The system breaks down the request into subtasks (e.g., literature search, compound design, synthesis planning).\\n- Model Selection: Each subtask is assigned to an expert model or tool (e.g., search engine API, chemical synthesis predictor).\\n- Task Execution: The expert models execute their assigned tasks and log the results (e.g., predicted compound structures, synthesis routes).\\n- Response Generation: The LLM receives all execution results, summarizes them, and presents a concise answer to the user.\\n\\nFor example, in the API-Bank workflow, the LLM decides if an API call is needed, selects the appropriate API, formulates the input, and may iterate if results are unsatisfactory. The system’s performance is evaluated at three levels: correct API usage, retrieval, and multi-step planning.\\n\\nIn scientific discovery agents like ChemCrow, the LLM uses a set of specialized tools, follows a reasoning process (Thought, Action, Observation), and integrates results to solve complex tasks. Human expert evaluation has shown that such tool-augmented systems outperform LLMs alone in specialized domains.\\n\\nIf any inference results include file paths, I will provide the complete path for your reference.\\n\\nIn summary, tool-augmented LLMs like HuggingGPT execute tasks by orchestrating expert models, logging results, and summarizing outcomes for users, with ongoing challenges in efficiency, context handling, and evaluation accuracy.']}}\n",
      "{'collect_summaries': {'collapsed_summaries': [Document(metadata={}, page_content='This article provides an overview of LLM-powered autonomous agents, highlighting how large language models (LLMs) serve as the core \"brain\" of such systems. The architecture is built around three main components:\\n\\n1. **Planning**: The agent decomposes complex tasks into smaller subgoals and uses self-reflection to learn from past actions, improving future performance.\\n2. **Memory**: The system utilizes short-term memory (in-context learning) and long-term memory (external vector stores for information retrieval) to retain and recall information as needed.\\n3. **Tool Use**: Agents can interact with external APIs to access up-to-date information, execute code, or retrieve proprietary data beyond their pre-trained knowledge.\\n\\nThe article references proof-of-concept projects like AutoGPT, GPT-Engineer, and BabyAGI, and discusses challenges and case studies, illustrating the potential of LLMs as general problem solvers beyond text generation.'), Document(metadata={}, page_content='**Summary:**\\n\\nComponent One: Planning focuses on how agents tackle complex tasks by breaking them down into manageable steps and improving through self-reflection. Task decomposition techniques like Chain of Thought (CoT) prompt models to reason step by step, while Tree of Thoughts (ToT) explores multiple reasoning paths, forming a tree structure for broader exploration. Decomposition can be achieved through prompting, task-specific instructions, or human input. Alternatively, LLM+P outsources planning to external classical planners using PDDL, translating between natural language and formal planning representations.\\n\\nSelf-reflection enables agents to iteratively refine their actions and correct mistakes. The ReAct framework combines reasoning and acting, prompting the model to alternate between thought, action, and observation, which improves performance over action-only approaches. Reflexion further enhances agents with dynamic memory and self-reflection, using heuristics to detect inefficient or hallucinated trajectories and incorporating reflective feedback into future planning. These methods collectively improve agent performance on knowledge-intensive and decision-making tasks.'), Document(metadata={}, page_content='Chain of Hindsight (CoH; Liu et al. 2023) is a supervised fine-tuning approach that improves model outputs by presenting a sequence of previous outputs, each annotated with human feedback and ratings. The model is trained to generate improved completions by conditioning on this feedback history, encouraging self-reflection and incremental improvement. To prevent overfitting and copying, CoH uses regularization and random token masking during training. The training data combines various human feedback datasets. After fine-tuning, the model can iteratively enhance its outputs in response to feedback.\\n\\nAlgorithm Distillation (AD; Laskin et al. 2023) extends this idea to reinforcement learning by feeding the model a concatenated history of episodes, allowing it to learn the process of improvement across episodes rather than a fixed policy. AD uses behavioral cloning over these histories, enabling the model to generalize across tasks and improve performance with longer context windows. Compared to baselines, AD achieves near-optimal in-context RL performance using only offline data and learns faster than methods relying on expert trajectories.\\n\\nIn summary, both CoH and AD leverage sequential histories of feedback or learning to train models that can self-improve over time, with CoH focused on language tasks and AD on reinforcement learning.'), Document(metadata={}, page_content='Summary:\\n\\nHuman memory is categorized into three main types: sensory memory (briefly retains sensory impressions for a few seconds), short-term/working memory (holds about 7 items for 20–30 seconds for immediate cognitive tasks), and long-term memory (stores information for days to decades, with explicit/declarative and implicit/procedural subtypes). In computational terms, sensory memory maps to raw input embeddings, short-term memory to in-context learning (limited by model context window), and long-term memory to external vector stores accessed via fast retrieval.\\n\\nTo efficiently retrieve information from large external memory, Maximum Inner Product Search (MIPS) is used, often with approximate nearest neighbor (ANN) algorithms to balance speed and accuracy. Common ANN methods include:\\n\\n- LSH (Locality-Sensitive Hashing): Groups similar items into the same buckets via hashing.\\n- ANNOY: Uses random projection trees for scalable, tree-based search.\\n- HNSW: Builds hierarchical small-world graphs for fast, multi-layered navigation.\\n- FAISS: Clusters high-dimensional data and refines search within clusters.\\n- ScaNN: Uses anisotropic vector quantization to preserve inner product similarity during search.\\n\\nThese techniques enable rapid and scalable retrieval from large memory stores, supporting advanced AI applications.'), Document(metadata={}, page_content='Summary:\\n\\nThe text discusses the comparison of Maximum Inner Product Search (MIPS) algorithms, highlighting recall@10 as a key performance metric (with more details available at ann-benchmarks.com). It then explores the concept of tool use as a unique human trait and its application in enhancing Large Language Models (LLMs). The MRKL system is introduced as a neuro-symbolic architecture where LLMs route tasks to specialized expert modules, demonstrating that LLMs struggle with extracting arguments for arithmetic tasks, especially from verbal problems. Other approaches like TALM and Toolformer fine-tune LLMs to use external APIs, improving output quality. Practical implementations include ChatGPT Plugins and OpenAI function calling. HuggingGPT is presented as a framework where ChatGPT plans tasks, selects appropriate models from HuggingFace, and summarizes results, operating through four stages: task planning, model selection, task execution, and response summarization. The process relies on structured instructions and few-shot examples to guide LLMs in decomposing and routing user requests.'), Document(metadata={}, page_content='Summary:\\n\\nHuggingGPT and similar tool-augmented LLM systems execute user tasks by breaking them down into subtasks, assigning each to expert models, and logging the results. The LLM then summarizes these results for the user. Real-world deployment faces challenges in efficiency, context management, and output stability. API-Bank is a benchmark that evaluates LLMs’ ability to select, call, and plan with APIs across diverse tasks, measuring performance at three levels: correct API usage, retrieval, and multi-step planning. Case studies like ChemCrow show that domain-specific tool integration can significantly improve task accuracy, especially in specialized fields, though LLM self-evaluation may not always reflect true performance.\\n\\nProcess and Analysis:\\n\\nTo answer your request, here’s how the system works:\\n\\n- User Input: The user provides a request (e.g., \"develop a novel anticancer drug\").\\n- Task Planning: The system breaks down the request into subtasks (e.g., literature search, compound design, synthesis planning).\\n- Model Selection: Each subtask is assigned to an expert model or tool (e.g., search engine API, chemical synthesis predictor).\\n- Task Execution: The expert models execute their assigned tasks and log the results (e.g., predicted compound structures, synthesis routes).\\n- Response Generation: The LLM receives all execution results, summarizes them, and presents a concise answer to the user.\\n\\nFor example, in the API-Bank workflow, the LLM decides if an API call is needed, selects the appropriate API, formulates the input, and may iterate if results are unsatisfactory. The system’s performance is evaluated at three levels: correct API usage, retrieval, and multi-step planning.\\n\\nIn scientific discovery agents like ChemCrow, the LLM uses a set of specialized tools, follows a reasoning process (Thought, Action, Observation), and integrates results to solve complex tasks. Human expert evaluation has shown that such tool-augmented systems outperform LLMs alone in specialized domains.\\n\\nIf any inference results include file paths, I will provide the complete path for your reference.\\n\\nIn summary, tool-augmented LLMs like HuggingGPT execute tasks by orchestrating expert models, logging results, and summarizing outcomes for users, with ongoing challenges in efficiency, context handling, and evaluation accuracy.'), Document(metadata={}, page_content='Summary:\\n\\nThe text discusses experiments with AI agents in two main contexts: drug synthesis and generative social simulations. In the drug synthesis scenario, an agent was tasked with identifying anticancer drug targets, selecting relevant chemical scaffolds, and attempting synthesis. The risks of misuse were highlighted, particularly regarding illicit drugs and chemical weapons. When tested with a set of known chemical weapon agents, the AI provided synthesis procedures for 36% of requests, with most rejections occurring after web searches or based on the prompt.\\n\\nThe second part describes \"Generative Agents,\" a simulation where LLM-powered virtual characters interact in a sandbox environment, mimicking human social behavior. These agents use memory streams, retrieval models, reflection mechanisms, and planning to inform actions and interactions, resulting in emergent behaviors like information diffusion and social event coordination. The text also references AutoGPT as a proof-of-concept for autonomous LLM agents, noting its constraints and reliability challenges.'), Document(metadata={}, page_content='Summary:\\n\\nThe provided list details a set of commands for an AI agent, enabling it to perform tasks such as web searching, website browsing, managing GPT-powered agents, handling files (read, write, delete, search), analyzing and improving code, generating images, sending tweets, and executing Python files. The agent has access to the internet, long-term memory, and can delegate tasks to GPT-3.5 agents. Performance guidelines emphasize continuous self-evaluation, efficiency, and minimizing the number of steps to complete tasks.'), Document(metadata={}, page_content='{\\n    \"thoughts\": {\\n        \"text\": \"GPT-Engineer is a project that generates an entire code repository from a natural language task. It breaks down the task into smaller components, asks clarifying questions, and iteratively builds the codebase.\",\\n        \"reasoning\": \"Summarizing the process helps clarify how GPT-Engineer operates: it decomposes tasks, seeks clarification, and then generates code. The sample conversation demonstrates its approach to gathering requirements before coding.\",\\n        \"plan\": \"- Identify unclear areas in user requests\\\\n- Ask targeted clarifying questions\\\\n- Make explicit assumptions if needed\\\\n- Generate code after requirements are clear\",\\n        \"criticism\": \"The summary could be improved by mentioning how the system message changes once clarification is complete, and by highlighting the iterative nature of the process.\",\\n        \"speak\": \"GPT-Engineer clarifies user requirements by breaking down tasks and asking questions before generating code, ensuring a clear understanding before proceeding.\"\\n    },\\n    \"command\": {\\n        \"name\": \"summarize_gpt_engineer_process\",\\n        \"args\": {\\n            \"input\": \"GPT-Engineer is another project to create a whole repository of code given a task specified in natural language. The GPT-Engineer is instructed to think over a list of smaller components to build and ask for user input to clarify questions as needed. Here are a sample conversation for task clarification sent to OpenAI ChatCompletion endpoint used by GPT-Engineer. The user inputs are wrapped in {{user input text}}. [ ... ] Then after these clarification, the agent moved into the code writing mode with a different system message.\"\\n        }\\n    }\\n}'), Document(metadata={}, page_content='Summary:\\n\\nThe instructions describe a systematic approach for generating a complete, detailed codebase from an architectural description. The process involves:\\n\\n- Laying out all core classes, functions, and methods, each with a brief comment on its purpose.\\n- Outputting the full content of each file, starting with the entrypoint, then proceeding to imported files, ensuring all code is included and functional (no placeholders).\\n- Using markdown code blocks for each file, with the filename and appropriate language tag.\\n- Following best practices for file naming, imports, and code structure for the chosen language/framework.\\n- Ensuring all dependencies are defined (e.g., requirements.txt for Python, package.json for NodeJS).\\n- Adding comments to explain the purpose of functions and complex logic.\\n- Using dataclasses and pytest for Python projects.\\n- Double-checking that every architectural detail is implemented in code, with each class typically in its own file.\\n- Ensuring the codebase is ready to run and test, with all parts present and compatible.'), Document(metadata={}, page_content='Summary:\\n\\nThe conversation outlines a detailed, step-by-step approach for generating a fully functional codebase based on architectural instructions, with a focus on clarity, modularity, and best practices. The system instructs the assistant to:\\n\\n- Explicitly state assumptions before coding.\\n- List all core classes, functions, and methods, each with a brief comment on its purpose.\\n- Output the complete content of each file in markdown code blocks, starting from the entrypoint and proceeding to dependencies.\\n- Ensure all code is fully implemented (no placeholders), with all necessary imports, types, and compatibility between files.\\n- Follow language- and framework-specific conventions (e.g., requirements.txt for Python, package.json for NodeJS).\\n- Add comments for complex logic and function definitions.\\n- Double-check that all architectural components are present before finishing.\\n\\nThe sample scenario discussed is a game using an MVC (Model-View-Controller) pattern, with the model handling game data, the view managing rendering, and the controller processing user input. The assistant is expected to reason through the design, make explicit assumptions, and produce a complete, runnable codebase following these guidelines.'), Document(metadata={}, page_content='Summary:\\n\\nLLM-powered autonomous agents face several key limitations. Their finite context length restricts the amount of historical information, instructions, and API context they can process, making it difficult to learn from past mistakes or handle complex tasks requiring long-term memory. While vector stores can extend knowledge access, they lack the full representational power of direct attention mechanisms. Additionally, LLMs struggle with long-term planning, task decomposition, and adapting to unexpected errors, making them less robust than humans. The reliance on natural language interfaces introduces further reliability issues, as LLMs may produce formatting errors or refuse instructions, necessitating extra effort in parsing and handling model outputs.\\n\\n(Cited from: Weng, Lilian. (Jun 2023). “LLM-powered Autonomous Agents”. Lil’Log. https://lilianweng.github.io/posts/2023-06-23-agent/)'), Document(metadata={}, page_content='Summary:\\n\\nLilian Weng\\'s article \"LLM-powered Autonomous Agents\" (2023) provides an overview of how large language models (LLMs) are being used to build autonomous agents capable of complex reasoning, planning, and tool use. The article surveys recent advances such as chain-of-thought prompting, tree-of-thoughts, and frameworks like ReAct, which combine reasoning and acting. It discusses how LLM agents can interact with external tools, search engines, APIs, and memory systems to enhance their capabilities and autonomy. The piece also highlights challenges in agent design, including memory management, self-reflection, and alignment with human feedback. Weng references a range of recent research and open-source projects (e.g., AutoGPT, HuggingGPT) that demonstrate the rapid progress and potential of LLM-powered agents in automating tasks and simulating human-like behaviors.')]}}\n",
      "{'collapse_summaries': {'collapsed_summaries': [Document(metadata={}, page_content='다음은 제공된 요약문들을 바탕으로 한 주요 주제의 통합 요약입니다:\\n\\nLLM(대형 언어 모델) 기반 자율 에이전트는 LLM을 핵심 두뇌로 삼아, 복잡한 문제 해결을 위해 세 가지 주요 구성요소—계획(Planning), 메모리(Memory), 도구 사용(Tool Use)—로 구성된다.\\n\\n1. **계획(Planning)**:  \\n에이전트는 복잡한 작업을 작은 하위 목표로 분해하고, 자기반성(self-reflection) 및 피드백을 통해 성능을 지속적으로 개선한다. Chain of Thought(CoT), Tree of Thoughts(ToT)와 같은 프롬프트 기반 추론, 외부 플래너 연동(LLM+P), ReAct, Reflexion 등 다양한 프레임워크가 사용된다. CoH(Chain of Hindsight)와 Algorithm Distillation(AD) 등은 피드백 이력이나 에피소드 기록을 활용해 자기개선 능력을 강화한다.\\n\\n2. **메모리(Memory)**:  \\n인간의 감각/단기/장기 기억에 대응하여, LLM 에이전트는 입력 임베딩(감각), 인컨텍스트 학습(단기), 외부 벡터스토어(장기)를 활용한다. 대규모 외부 메모리에서 정보를 빠르게 검색하기 위해 MIPS(Maximum Inner Product Search)와 LSH, HNSW, FAISS, ScaNN 등 다양한 근사 최근접 이웃(ANN) 알고리즘이 사용된다.\\n\\n3. **도구 사용(Tool Use)**:  \\n에이전트는 외부 API, 플러그인, 전문 모델 등 다양한 도구와 연동해 최신 정보 검색, 코드 실행, 도메인 특화 작업 수행이 가능하다. MRKL, Toolformer, HuggingGPT, ChatGPT 플러그인 등은 LLM이 작업을 분해하고, 적합한 도구/모델에 할당하며, 결과를 통합해 사용자에게 제공하는 구조를 갖는다. API-Bank, ChemCrow 등은 도구 활용 능력과 다단계 계획, 도메인 특화 성능을 평가한다.\\n\\n4. **응용 및 한계**:  \\n실제 적용 사례로는 신약 합성, 사회적 시뮬레이션(Generative Agents) 등이 있다. 도구-증강 LLM은 전문 분야에서 성능이 뛰어나지만, 효율성, 컨텍스트 관리, 출력 안정성, 오용 위험(예: 불법 화학물질 합성) 등 여러 도전과제가 존재한다.\\n\\n5. **운영 및 지침**:  \\n에이전트는 웹 검색, 파일 관리, 코드 분석, 이미지 생성 등 다양한 명령을 수행할 수 있으며, 지속적 자기평가와 효율성, 최소 단계로의 작업 완수를 지향한다.\\n\\n**요약**:  \\nLLM 기반 자율 에이전트는 계획, 메모리, 도구 사용의 세 축을 중심으로 복잡한 문제를 해결하며, 자기반성과 피드백을 통한 자기개선, 외부 도구와의 연동, 대규모 정보 검색 등 다양한 기술이 결합되어 있다. 실제 적용에서 뛰어난 잠재력을 보이나, 효율성, 신뢰성, 오용 방지 등 해결해야 할 과제도 많다.'), Document(metadata={}, page_content='다음은 주어진 요약문들의 주요 주제를 통합한 최종 요약입니다:\\n\\n이 문서들은 대형 언어 모델(LLM)을 활용한 자율 에이전트와 코드 생성 시스템의 작동 방식, 장점, 한계에 대해 다루고 있다. GPT-Engineer와 같은 프로젝트는 자연어로 주어진 과제를 코드 저장소 전체로 변환하는 과정을 체계적으로 수행한다. 이 과정에서 요구사항을 명확히 파악하기 위해 작업을 세분화하고, 사용자에게 명확화 질문을 하며, 필요한 경우 가정도 명시한다. 이후에는 아키텍처 설계에 따라 모든 핵심 클래스, 함수, 파일을 주석과 함께 완전하게 구현하고, 언어 및 프레임워크별 모범 사례(예: Python의 requirements.txt, NodeJS의 package.json)를 따른다. 코드베이스는 실행 및 테스트가 가능하도록 모든 부분이 완비되어야 하며, 복잡한 로직에는 설명이 추가된다.\\n\\n한편, LLM 기반 자율 에이전트는 컨텍스트 길이의 한계, 장기 기억 부족, 복잡한 작업 분해 및 예외 처리의 어려움 등 여러 제약이 있다. 벡터 스토어 등 외부 도구와의 연동으로 일부 한계를 보완할 수 있으나, 인간 수준의 장기 계획과 적응력에는 미치지 못한다. 최근에는 chain-of-thought, tree-of-thoughts, ReAct 등 다양한 프레임워크와 오픈소스 프로젝트(AutoGPT, HuggingGPT 등)가 등장하며 LLM 에이전트의 자율성과 활용 범위가 빠르게 확장되고 있다. 그러나 여전히 메모리 관리, 자기 성찰, 인간 피드백과의 정렬 등 해결해야 할 과제가 남아 있다.')]}}\n",
      "{'generate_final_summary': {'final_summary': '다음은 제공된 요약문들을 통합한 최종 요약입니다:\\n\\n대형 언어 모델(LLM) 기반 자율 에이전트와 코드 생성 시스템은 계획(Planning), 메모리(Memory), 도구 사용(Tool Use)을 핵심 축으로 복잡한 문제를 해결한다. 에이전트는 작업을 세분화하고, 자기반성 및 피드백을 통해 성능을 개선하며, 외부 도구 및 API와 연동해 최신 정보 검색, 코드 실행, 도메인 특화 작업 등을 수행한다. 코드 생성 시스템(GPT-Engineer 등)은 요구사항 분석, 아키텍처 설계, 코드 구현, 테스트 등 전체 개발 과정을 체계적으로 자동화한다.\\n\\n이러한 시스템들은 chain-of-thought, tree-of-thoughts, ReAct 등 다양한 프레임워크와 오픈소스 프로젝트(AutoGPT, HuggingGPT 등)를 통해 자율성과 활용 범위를 넓히고 있다. 그러나 컨텍스트 길이, 장기 기억, 복잡한 작업 분해, 예외 처리, 메모리 관리, 자기 성찰, 인간 피드백과의 정렬, 오용 방지 등 여러 한계와 도전과제가 여전히 존재한다. 그럼에도 불구하고, LLM 기반 에이전트는 신약 합성, 사회적 시뮬레이션 등 실제 응용 분야에서 높은 잠재력을 보이고 있다.'}}\n"
     ]
    }
   ],
   "source": [
    "async for step in app.astream(\n",
    "    {'contents': [doc.page_content for doc in split_docs]}\n",
    "):\n",
    "    print(step)\n"
   ]
  },
  {
   "cell_type": "code",
   "execution_count": 55,
   "id": "5cf695f1",
   "metadata": {},
   "outputs": [
    {
     "data": {
      "image/png": "[encoded data removed]",
      "text/plain": [
       "<IPython.core.display.Image object>"
      ]
     },
     "execution_count": 55,
     "metadata": {},
     "output_type": "execute_result"
    }
   ],
   "source": [
    "from IPython.display import Image\n",
    "Image(app.get_graph().draw_mermaid_png())"
   ]
  }
 ],
 "metadata": {
  "kernelspec": {
   "display_name": "Python 3",
   "language": "python",
   "name": "python3"
  },
  "language_info": {
   "codemirror_mode": {
    "name": "ipython",
    "version": 3
   },
   "file_extension": ".py",
   "mimetype": "text/x-python",
   "name": "python",
   "nbconvert_exporter": "python",
   "pygments_lexer": "ipython3",
   "version": "3.13.2"
  }
 },
 "nbformat": 4,
 "nbformat_minor": 5
}
