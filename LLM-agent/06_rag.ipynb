{
 "cells": [
  {
   "cell_type": "markdown",
   "id": "d7175d59",
   "metadata": {},
   "source": [
    "# RAG(검색-증강 생성) Retrieval-Augmented Generation\n",
    "- LLM이 외부 데이터를 컨텍스트로 활용."
   ]
  },
  {
   "cell_type": "code",
   "execution_count": null,
   "id": "bbf52189",
   "metadata": {},
   "outputs": [],
   "source": [
    "# import os\n",
    "# os.environ.update({\n",
    "#     \"OMP_NUM_THREADS\": \"1\",\n",
    "#     \"OPENBLAS_NUM_THREADS\": \"1\",\n",
    "#     \"MKL_NUM_THREADS\": \"1\",\n",
    "#     \"VECLIB_MAXIMUM_THREADS\": \"1\",\n",
    "#     \"NUMEXPR_NUM_THREADS\": \"1\",\n",
    "# })"
   ]
  },
  {
   "cell_type": "code",
   "execution_count": 2,
   "id": "9eace887",
   "metadata": {},
   "outputs": [
    {
     "data": {
      "text/plain": [
       "True"
      ]
     },
     "execution_count": 2,
     "metadata": {},
     "output_type": "execute_result"
    }
   ],
   "source": [
    "from dotenv import load_dotenv\n",
    "load_dotenv()"
   ]
  },
  {
   "cell_type": "code",
   "execution_count": 3,
   "id": "374b91d6",
   "metadata": {},
   "outputs": [],
   "source": [
    "from langchain_core.documents import Document\n",
    "\n",
    "documents = [\n",
    "    Document(\n",
    "        page_content=\"Dogs are great companions, known for their loyalty and friendliness.\",\n",
    "        metadata={\"source\": \"mammal-pets-doc\"},\n",
    "    ),\n",
    "    Document(\n",
    "        page_content=\"Cats are independent pets that often enjoy their own space.\",\n",
    "        metadata={\"source\": \"mammal-pets-doc\"},\n",
    "    ),\n",
    "    Document(\n",
    "        page_content=\"Goldfish are popular pets for beginners, requiring relatively simple care.\",\n",
    "        metadata={\"source\": \"fish-pets-doc\"},\n",
    "    ),\n",
    "    Document(\n",
    "        page_content=\"Parrots are intelligent birds capable of mimicking human speech.\",\n",
    "        metadata={\"source\": \"bird-pets-doc\"},\n",
    "    ),\n",
    "    Document(\n",
    "        page_content=\"Rabbits are social animals that need plenty of space to hop around.\",\n",
    "        metadata={\"source\": \"mammal-pets-doc\"},\n",
    "    ),\n",
    "]"
   ]
  },
  {
   "cell_type": "code",
   "execution_count": 4,
   "id": "1b0fc74d",
   "metadata": {},
   "outputs": [
    {
     "name": "stdout",
     "output_type": "stream",
     "text": [
      "Note: you may need to restart the kernel to use updated packages.\n"
     ]
    },
    {
     "name": "stderr",
     "output_type": "stream",
     "text": [
      "\n",
      "[notice] A new release of pip is available: 24.3.1 -> 25.2\n",
      "[notice] To update, run: python.exe -m pip install --upgrade pip\n"
     ]
    }
   ],
   "source": [
    "%pip install -q \"langchain_chroma>=0.1.2\" langchain_community faiss-cpu langchain"
   ]
  },
  {
   "cell_type": "code",
   "execution_count": 5,
   "id": "349c320a",
   "metadata": {},
   "outputs": [],
   "source": [
    "from langchain_openai import OpenAIEmbeddings\n",
    "from langchain_chroma import Chroma\n",
    "from langchain_community.vectorstores import FAISS\n",
    "\n",
    "# OpenAI 임베딩 모델\n",
    "embedding = OpenAIEmbeddings()\n",
    "\n",
    "# x = embedding.embed_query('오늘 점심은 배불리 먹어서 졸려')\n",
    "# print(len(x))\n",
    "\n",
    "# VectorStore 에 임베딩 후 저장(In memory)\n",
    "vectorstore = FAISS.from_documents(\n",
    "    documents,\n",
    "    embedding=embedding\n",
    ")"
   ]
  },
  {
   "cell_type": "code",
   "execution_count": 16,
   "id": "25270e97",
   "metadata": {},
   "outputs": [
    {
     "data": {
      "text/plain": [
       "[Document(id='52092506-f834-44d1-8a3d-565aece957d2', metadata={'producer': 'Hancom PDF 1.3.0.542', 'creator': 'Hwp 2018 10.0.0.13462', 'creationdate': '2023-12-08T13:28:38+09:00', 'source': './data/spri.pdf', 'file_path': './data/spri.pdf', 'total_pages': 23, 'format': 'PDF 1.4', 'title': '', 'author': 'dj', 'subject': '', 'keywords': '', 'moddate': '2023-12-08T13:28:38+09:00', 'trapped': '', 'modDate': \"D:20231208132838+09'00'\", 'creationDate': \"D:20231208132838+09'00'\", 'page': 12}, page_content='∙삼성 가우스는 라이선스나 개인정보를 침해하지 않는 안전한 데이터를 통해 학습되었으며, \\n온디바이스에서 작동하도록 설계되어 외부로 사용자의 정보가 유출되지 않는 장점을 보유\\n∙삼성전자는 삼성 가우스를 활용한 온디바이스 AI 기술도 소개했으며, 생성 AI 모델을 다양한 제품에 \\n단계적으로 탑재할 계획\\nn 삼성 가우스는 △텍스트를 생성하는 언어모델 △코드를 생성하는 코드 모델 △이미지를 생성하는 \\n이미지 모델의 3개 모델로 구성\\n∙언어 모델은 클라우드와 온디바이스 대상 다양한 모델로 구성되며, 메일 작성, 문서 요약, 번역 업무의 \\n처리를 지원\\n∙코드 모델 기반의 AI 코딩 어시스턴트 ‘코드아이(code.i)’는 대화형 인터페이스로 서비스를 제공하며 \\n사내 소프트웨어 개발에 최적화\\n∙이미지 모델은 창의적인 이미지를 생성하고 기존 이미지를 원하는 대로 바꿀 수 있도록 지원하며 \\n저해상도 이미지의 고해상도 전환도 지원'),\n",
       " Document(id='7d071ec4-96df-49bc-b1ff-cb7dfcd6fff6', metadata={'producer': 'Hancom PDF 1.3.0.542', 'creator': 'Hwp 2018 10.0.0.13462', 'creationdate': '2023-12-08T13:28:38+09:00', 'source': './data/spri.pdf', 'file_path': './data/spri.pdf', 'total_pages': 23, 'format': 'PDF 1.4', 'title': '', 'author': 'dj', 'subject': '', 'keywords': '', 'moddate': '2023-12-08T13:28:38+09:00', 'trapped': '', 'modDate': \"D:20231208132838+09'00'\", 'creationDate': \"D:20231208132838+09'00'\", 'page': 22}, page_content='홈페이지 : https://spri.kr/\\n보고서와 관련된 문의는 AI정책연구실(jayoo@spri.kr, 031-739-7352)으로 연락주시기 바랍니다.')]"
      ]
     },
     "execution_count": 16,
     "metadata": {},
     "output_type": "execute_result"
    }
   ],
   "source": [
    "vectorstore.similarity_search(\n",
    "    '초보자가 키우기 좋은 애완동물 추천해줘', k=2\n",
    ")"
   ]
  },
  {
   "cell_type": "markdown",
   "id": "4f039be9",
   "metadata": {},
   "source": [
    "## 사전처리 단계\n",
    "1. 문서 불러오기 (Loading)\n",
    "2. 텍스트 나누기 (Splitting)\n",
    "3. 숫자로 바꾸기 (Embedding)\n",
    "4. 저장하기 (VectorStore)"
   ]
  },
  {
   "cell_type": "code",
   "execution_count": 9,
   "id": "d84e6f07",
   "metadata": {},
   "outputs": [
    {
     "name": "stdout",
     "output_type": "stream",
     "text": [
      "Note: you may need to restart the kernel to use updated packages.\n"
     ]
    },
    {
     "name": "stderr",
     "output_type": "stream",
     "text": [
      "\n",
      "[notice] A new release of pip is available: 24.3.1 -> 25.2\n",
      "[notice] To update, run: python.exe -m pip install --upgrade pip\n"
     ]
    }
   ],
   "source": [
    "%pip install -q pymupdf"
   ]
  },
  {
   "cell_type": "code",
   "execution_count": null,
   "id": "423e2cda",
   "metadata": {},
   "outputs": [
    {
     "name": "stdout",
     "output_type": "stream",
     "text": [
      "23\n"
     ]
    }
   ],
   "source": [
    "# 1. Load\n",
    "from langchain_community.document_loaders import PyMuPDFLoader\n",
    "\n",
    "loader = PyMuPDFLoader('./data/spri.pdf')\n",
    "docs = loader.load()\n",
    "\n",
    "print('원본 pdf의 장 수', len(docs))"
   ]
  },
  {
   "cell_type": "code",
   "execution_count": null,
   "id": "f524eab1",
   "metadata": {},
   "outputs": [
    {
     "name": "stdout",
     "output_type": "stream",
     "text": [
      "분할 후 청크 수 72\n"
     ]
    }
   ],
   "source": [
    "# 2. Split\n",
    "from langchain_text_splitters import RecursiveCharacterTextSplitter\n",
    "# 500글자당 1 청크 / 50글자는 겹치게 나눈다.\n",
    "text_splitter = RecursiveCharacterTextSplitter(chunk_size=500, chunk_overlap=50)\n",
    "split_docs = text_splitter.split_documents(docs)\n",
    "\n",
    "# for doc in split_docs:\n",
    "#     print('----')\n",
    "\n",
    "print('분할 후 청크 수', len(split_docs))"
   ]
  },
  {
   "cell_type": "code",
   "execution_count": null,
   "id": "91baaf12",
   "metadata": {},
   "outputs": [
    {
     "data": {
      "text/plain": [
       "[Document(id='000772ab-01e8-438f-a3ef-2f3ca9656e0e', metadata={'producer': 'Hancom PDF 1.3.0.542', 'creator': 'Hwp 2018 10.0.0.13462', 'creationdate': '2023-12-08T13:28:38+09:00', 'source': './data/spri.pdf', 'file_path': './data/spri.pdf', 'total_pages': 23, 'format': 'PDF 1.4', 'title': '', 'author': 'dj', 'subject': '', 'keywords': '', 'moddate': '2023-12-08T13:28:38+09:00', 'trapped': '', 'modDate': \"D:20231208132838+09'00'\", 'creationDate': \"D:20231208132838+09'00'\", 'page': 3}, page_content='1. 정책/법제  \\n2. 기업/산업 \\n3. 기술/연구 \\n 4. 인력/교육\\n미국, 안전하고 신뢰할 수 있는 AI 개발과 사용에 관한 행정명령 발표 \\nn 미국 바이든 대통령이 ‘안전하고 신뢰할 수 있는 AI 개발과 사용에 관한 행정명령’에 서명하고 \\n광범위한 행정 조치를 명시\\nn 행정명령은 △AI의 안전과 보안 기준 마련 △개인정보보호 △형평성과 시민권 향상 △소비자 \\n보호 △노동자 지원 △혁신과 경쟁 촉진 △국제협력을 골자로 함\\nKEY Contents\\n£ 바이든 대통령, AI 행정명령 통해 안전하고 신뢰할 수 있는 AI 개발과 활용 추진\\nn 미국 바이든 대통령이 2023년 10월 30일 연방정부 차원에서 안전하고 신뢰할 수 있는 AI 개발과 \\n사용을 보장하기 위한 행정명령을 발표\\n∙행정명령은 △AI의 안전과 보안 기준 마련 △개인정보보호 △형평성과 시민권 향상 △소비자 보호 \\n△노동자 지원 △혁신과 경쟁 촉진 △국제협력에 관한 내용을 포괄'),\n",
       " Document(id='08ff967a-f2f0-4bbe-87b1-e9343e3e4b0c', metadata={'producer': 'Hancom PDF 1.3.0.542', 'creator': 'Hwp 2018 10.0.0.13462', 'creationdate': '2023-12-08T13:28:38+09:00', 'source': './data/spri.pdf', 'file_path': './data/spri.pdf', 'total_pages': 23, 'format': 'PDF 1.4', 'title': '', 'author': 'dj', 'subject': '', 'keywords': '', 'moddate': '2023-12-08T13:28:38+09:00', 'trapped': '', 'modDate': \"D:20231208132838+09'00'\", 'creationDate': \"D:20231208132838+09'00'\", 'page': 3}, page_content='공부하고 취업할 수 있도록 지원\\n☞ 출처 : The White House, Executive Order on the Safe, Secure, and Trustworthy Development and Use of \\nArtificial Intelligence (E.O. 14110), 2023.10.30.'),\n",
       " Document(id='697c8944-64f2-46a9-9043-72380d34a3d0', metadata={'producer': 'Hancom PDF 1.3.0.542', 'creator': 'Hwp 2018 10.0.0.13462', 'creationdate': '2023-12-08T13:28:38+09:00', 'source': './data/spri.pdf', 'file_path': './data/spri.pdf', 'total_pages': 23, 'format': 'PDF 1.4', 'title': '', 'author': 'dj', 'subject': '', 'keywords': '', 'moddate': '2023-12-08T13:28:38+09:00', 'trapped': '', 'modDate': \"D:20231208132838+09'00'\", 'creationDate': \"D:20231208132838+09'00'\", 'page': 4}, page_content='정보공유를 위해 ‘히로시마 AI 프로세스’를 출범**\\n∙기업의 자발적 채택을 위해 마련된 이번 행동강령은 기반모델과 생성 AI를 포함한 첨단 AI 시스템의 \\n위험 식별과 완화에 필요한 조치를 포함\\n* 주요 7개국(G7)은 미국, 일본, 독일, 영국, 프랑스, 이탈리아, 캐나다를 의미\\n** 5월 정상회의에는 한국, 호주, 베트남 등을 포함한 8개국이 초청을 받았으나, AI 국제 행동강령에는 우선 G7 국가만 포함하여 채택\\nn G7은 행동강령을 통해 아래의 조치를 제시했으며, 빠르게 발전하는 기술에 대응할 수 있도록 \\n이해관계자 협의를 통해 필요에 따라 개정할 예정\\n∙첨단 AI 시스템의 개발 과정에서 AI 수명주기 전반에 걸쳐 위험을 평가 및 완화하는 조치를 채택하고, \\n첨단 AI 시스템의 출시와 배포 이후 취약점과 오용 사고, 오용 유형을 파악해 완화\\n∙첨단 AI 시스템의 성능과 한계를 공개하고 적절하거나 부적절한 사용영역을 알리는 방법으로 투명성을 \\n보장하고 책임성을 강화'),\n",
       " Document(id='4a72a534-3266-415f-893d-1c17feadbb59', metadata={'producer': 'Hancom PDF 1.3.0.542', 'creator': 'Hwp 2018 10.0.0.13462', 'creationdate': '2023-12-08T13:28:38+09:00', 'source': './data/spri.pdf', 'file_path': './data/spri.pdf', 'total_pages': 23, 'format': 'PDF 1.4', 'title': '', 'author': 'dj', 'subject': '', 'keywords': '', 'moddate': '2023-12-08T13:28:38+09:00', 'trapped': '', 'modDate': \"D:20231208132838+09'00'\", 'creationDate': \"D:20231208132838+09'00'\", 'page': 1}, page_content='2023년 12월호\\nⅠ. 인공지능 산업 동향 브리프\\n 1. 정책/법제 \\n   ▹ 미국, 안전하고 신뢰할 수 있는 AI 개발과 사용에 관한 행정명령 발표  ························· 1\\n   ▹ G7, 히로시마 AI 프로세스를 통해 AI 기업 대상 국제 행동강령에 합의··························· 2\\n   ▹ 영국 AI 안전성 정상회의에 참가한 28개국, AI 위험에 공동 대응 선언··························· 3\\n   ▹ 미국 법원, 예술가들이 생성 AI 기업에 제기한 저작권 소송 기각····································· 4\\n   ▹ 미국 연방거래위원회, 저작권청에 소비자 보호와 경쟁 측면의 AI 의견서 제출················· 5')]"
      ]
     },
     "execution_count": 17,
     "metadata": {},
     "output_type": "execute_result"
    }
   ],
   "source": [
    "# 3. 임베딩, 4. 벡터스토어 저장\n",
    "from langchain_openai import OpenAIEmbeddings\n",
    "from langchain_community.vectorstores import FAISS\n",
    "\n",
    "embedding = OpenAIEmbeddings()\n",
    "\n",
    "vectorstore = FAISS.from_documents(documents=split_docs, embedding=embedding)\n",
    "\n",
    "# Test\n",
    "vectorstore.similarity_search(\n",
    "    '미국 대통령과 관련된 문서들 가져와봐', k=4\n",
    ")"
   ]
  },
  {
   "cell_type": "markdown",
   "id": "9d6e9ab1",
   "metadata": {},
   "source": [
    "## 검색증강 단계\n",
    "1. 사용자 질문 (Query)\n",
    "2. 검색 (Retrieve)\n",
    "3. LLM\n",
    "4. 최종 답변"
   ]
  },
  {
   "cell_type": "code",
   "execution_count": null,
   "id": "dfc4ff7c",
   "metadata": {},
   "outputs": [
    {
     "data": {
      "text/plain": [
       "'삼성전자는 자체 개발 생성 AI ‘삼성 가우스’를 공개했으며, 언어, 코드, 이미지의 3개 모델로 구성되어 온디바이스에서 작동 가능합니다. 이 AI는 메일 작성, 문서 요약, 번역, AI 코딩 어시스턴트와 이미지 생성 등 다양한 기능을 지원하며, 단계적으로 제품에 탑재될 예정입니다. 추가로, 2023년 11월 8일 열린 ‘삼성 AI 포럼’에서 처음 공개되었으며, 경쟁 제품들과의 차별성을 강조하고 있습니다.'"
      ]
     },
     "execution_count": 18,
     "metadata": {},
     "output_type": "execute_result"
    }
   ],
   "source": [
    "from langchain_openai import ChatOpenAI\n",
    "from langchain_core.prompts import PromptTemplate\n",
    "from langchain_core.runnables import RunnablePassthrough\n",
    "from langchain_core.output_parsers import StrOutputParser\n",
    "\n",
    "from langchain import hub\n",
    "\n",
    "# Prompt 세팅\n",
    "prompt = hub.pull('rlm/rag-prompt')\n",
    "\n",
    "# LLM 모델\n",
    "llm = ChatOpenAI(model='gpt-4.1-nano')\n",
    "\n",
    "# 검색기 생성(retriever 생성)\n",
    "retriever = vectorstore.as_retriever()\n",
    "\n",
    "chain = (\n",
    "    {'context': retriever, 'question': RunnablePassthrough()}\n",
    "    | prompt\n",
    "    | llm\n",
    "    | StrOutputParser()\n",
    ")\n",
    "\n",
    "chain.invoke('삼성전자 관련 소식 다 가져와')"
   ]
  },
  {
   "cell_type": "code",
   "execution_count": 25,
   "id": "5b000535",
   "metadata": {},
   "outputs": [
    {
     "name": "stdout",
     "output_type": "stream",
     "text": [
      "원본 pdf의 장 수 445\n"
     ]
    }
   ],
   "source": [
    "# 관심있는 데이터소스로 RAG\n",
    "\n",
    "loader = PyMuPDFLoader('./data/SQLP.pdf')\n",
    "sqlp_doc = loader.load()\n",
    "\n",
    "print('원본 pdf의 장 수', len(sqlp_doc))"
   ]
  },
  {
   "cell_type": "code",
   "execution_count": 31,
   "id": "ad03a6d1",
   "metadata": {},
   "outputs": [
    {
     "name": "stdout",
     "output_type": "stream",
     "text": [
      "분할 후 청크 수 548\n"
     ]
    }
   ],
   "source": [
    "text_splitter = RecursiveCharacterTextSplitter(chunk_size=1000, chunk_overlap=100)\n",
    "split_sqlp = text_splitter.split_documents(sqlp_doc)\n",
    "\n",
    "print('분할 후 청크 수', len(split_sqlp))"
   ]
  },
  {
   "cell_type": "code",
   "execution_count": 32,
   "id": "066888ac",
   "metadata": {},
   "outputs": [
    {
     "data": {
      "text/plain": [
       "[Document(id='6a9b1d8b-0a8e-4665-ad94-eb5ea9075a3c', metadata={'producer': 'macOS 버전 15.5(빌드 24F74) Quartz PDFContext', 'creator': '', 'creationdate': \"D:20250806012743Z00'00'\", 'source': './data/SQLP.pdf', 'file_path': './data/SQLP.pdf', 'total_pages': 445, 'format': 'PDF 1.4', 'title': '', 'author': '', 'subject': '', 'keywords': '', 'moddate': \"D:20250806012743Z00'00'\", 'trapped': '', 'modDate': \"D:20250806012743Z00'00'\", 'creationDate': \"D:20250806012743Z00'00'\", 'page': 81}, page_content='제장데이터모델과성능\\n2\\n데이터자격검정\\nKdata\\n- 79 -\\nwww.dataq.or.kr\\n제절반정규화와성능\\n3\\n반정규화를통한성능향상전략\\n1.\\n가\\n반정규화의정의\\n.\\n반정규화\\n역정규화\\n용어는조금다르게표현되어도그의미는동일하다\\n여기에서반\\n(=\\n)\\n.\\n정규화는\\n반\\n의의미가아닌한자로반대하다의의미를가진\\n의의미이다\\n영어로\\n‘\\n(Half)’\\n‘\\n’\\n.\\n反\\n는\\n이다\\n비정규화는아예정규화를수행하지않은모델을지칭할때사\\nDe-Normalization\\n.\\n용한다.\\n반정규화를정의하면정규화된엔터티\\n속성\\n관계에대해시스템의성능향상과개발\\n,\\n,\\n과운영\\n의단순화를위해중복\\n통합\\n분리등을수행하는데\\n(Development)\\n(Maintenance)\\n,\\n,\\n이터모델링의기법을의미한다\\n협의의반정규화는데이터를중복하여성능을향상시키기\\n.\\n위한기법이라고정의할수있고좀더넓은의미의반정규화는성능을향상시키기위해정\\n규화된데이터모델에서중복통합\\n분리등을수행하는모든과정을의미한다\\n,\\n,\\n.\\n데이터무결성이깨질수있는위험을무릅쓰고데이터를중복하여반정규화를적용하는\\n이유는데이터를조회할때디스크\\n량이많아서성능이저하되거나경로가너무멀어조\\nI/O\\n인으로인한성능저하가예상되거나칼럼을계산하여읽을때성능이저하될것이예상되는\\n경우반정규화를수행하게된다.\\n기본적으로정규화는입력수정삭제에대한성능을향상시킬뿐만아니라조회에대해\\n/\\n/\\n서도성능을향상시키는역할을한다\\n그러나정규화만을수행하면엔터티의갯수가증가하\\n.\\n고관계가많아져일부여러개의조인이걸려야만데이터를가져오는경우가있다\\n이러한\\n.\\n경우업무적으로조회에대한처리성능이중요하다고판단될때부분적으로반정규화를고\\n려하게되는것이다\\n또한정규화의함수적종속관계는위반하지않지만데이터의중복성을\\n.\\n증가시켜야만데이터조회의성능을향상시키는경우가있다\\n이러한경우반정규화를통해\\n.\\n서성능을향상시킬수있게되는것이다.\\n프로젝트에서는설계단계에서반정규화를적용하게되는데반정규화를기술적으로수행\\n하지않는경우에는다음과같은현상이발생된다.'),\n",
       " Document(id='2e1efa55-fb17-4294-bde1-7fdc1d22abbc', metadata={'producer': 'macOS 버전 15.5(빌드 24F74) Quartz PDFContext', 'creator': '', 'creationdate': \"D:20250806012743Z00'00'\", 'source': './data/SQLP.pdf', 'file_path': './data/SQLP.pdf', 'total_pages': 445, 'format': 'PDF 1.4', 'title': '', 'author': '', 'subject': '', 'keywords': '', 'moddate': \"D:20250806012743Z00'00'\", 'trapped': '', 'modDate': \"D:20250806012743Z00'00'\", 'creationDate': \"D:20250806012743Z00'00'\", 'page': 69}, page_content='정규화를적용하도록한다\\n반정규화는테이블\\n속성\\n관계에대해포괄적인반정규화의방\\n.\\n,\\n,\\n법을\\n적용해야\\n한다\\n또한\\n대량\\n데이터가\\n처리되는\\n이력모델에\\n대해\\n성능고려를\\n하고\\n.\\n의순서가인덱스특성에따라성능에영향을미치는영향도가크기때문에반드시\\nPK/FK\\n를성능이우수한순서대로칼럼의순서를조정해야한다\\nPK/FK\\n.\\n전체적으로성능에대한충분한고려가되었는지를데이터모델검토를통해다시한번\\n확인하도록한다\\n데이터모델검토시에일반적인데이터모델규칙만을검증하지말고충\\n.\\n분하게성능이고려되었는지를체크리스트에포함하여검증하도록한다.'),\n",
       " Document(id='2e81aabf-849e-4d28-afe1-229f0ac49a15', metadata={'producer': 'macOS 버전 15.5(빌드 24F74) Quartz PDFContext', 'creator': '', 'creationdate': \"D:20250806012743Z00'00'\", 'source': './data/SQLP.pdf', 'file_path': './data/SQLP.pdf', 'total_pages': 445, 'format': 'PDF 1.4', 'title': '', 'author': '', 'subject': '', 'keywords': '', 'moddate': \"D:20250806012743Z00'00'\", 'trapped': '', 'modDate': \"D:20250806012743Z00'00'\", 'creationDate': \"D:20250806012743Z00'00'\", 'page': 1}, page_content='- 목\\n차-\\n과목\\n데이터모델링의이해\\n1\\n제장데이터모델링의이해\\n제절데이터모델의이해\\n제절엔터티\\n제절속성\\n제절관계\\n제절식별자\\n제장데이터모델과성능\\n제절성능데이터모델링의개요\\n제절정규화와성능\\n제절반정규화와성능\\n제절대량데이터에따른성능\\n제절데이터베이스구조와성능\\n제절분산데이터베이스와성능\\n과목\\n기본및활용\\n2 SQL\\n제장\\n기본\\n제절관계형데이터베이스개요\\n제절\\n제절\\n제절\\n제절\\n절\\n제절함수\\n제절\\n절\\n제절\\n절\\n제절조인'),\n",
       " Document(id='91c2329a-8b76-4ab3-992f-b74caad0e377', metadata={'producer': 'macOS 버전 15.5(빌드 24F74) Quartz PDFContext', 'creator': '', 'creationdate': \"D:20250806012743Z00'00'\", 'source': './data/SQLP.pdf', 'file_path': './data/SQLP.pdf', 'total_pages': 445, 'format': 'PDF 1.4', 'title': '', 'author': '', 'subject': '', 'keywords': '', 'moddate': \"D:20250806012743Z00'00'\", 'trapped': '', 'modDate': \"D:20250806012743Z00'00'\", 'creationDate': \"D:20250806012743Z00'00'\", 'page': 74}, page_content='제장데이터모델과성능\\n2\\n데이터자격검정\\nKdata\\n- 72 -\\nwww.dataq.or.kr\\n대량의데이터에서조인조건이되는대상을찾기위해인라인뷰를사용하기때문에성\\n능이저하된다\\n이를정규화하려면복합식별자중에서일반속성이주식별자속성중일부에\\n.\\n만종속관계를가지고있으므로\\n차정규화의대상이된다\\n차정규화를적용하면\\n그림\\n2\\n. 2\\n[\\n과같은모델이된다\\n-2-7]\\n.\\nⅠ\\n차정규화를적용하여매각일자를\\n로하고매각시간과매각장소는일반속성이되었\\n2\\nPK\\n다\\n정규화를적용했기때문에매각일자를\\n로사용하는매각일자별매각내역과도관계가\\n.\\nPK\\n연결된다\\n따라서업무흐름에따른적확한데이터모델링표기도가능해지고\\n드라이빙이\\n.\\n,\\n된테이블이\\n천건의매각기일테이블이되므로성능도향상된다\\n5\\n.'),\n",
       " Document(id='733dee55-bf3c-4f57-9a1c-cbb4fadc4d6d', metadata={'producer': 'macOS 버전 15.5(빌드 24F74) Quartz PDFContext', 'creator': '', 'creationdate': \"D:20250806012743Z00'00'\", 'source': './data/SQLP.pdf', 'file_path': './data/SQLP.pdf', 'total_pages': 445, 'format': 'PDF 1.4', 'title': '', 'author': '', 'subject': '', 'keywords': '', 'moddate': \"D:20250806012743Z00'00'\", 'trapped': '', 'modDate': \"D:20250806012743Z00'00'\", 'creationDate': \"D:20250806012743Z00'00'\", 'page': 84}, page_content='제장데이터모델과성능\\n2\\n데이터자격검정\\nKdata\\n- 82 -\\nwww.dataq.or.kr\\n•\\n반정규화를적용한다.\\n반정규화를적용하기이전에사전에충분히성능에대한고려가이루어져서반정규화를\\n적용해야겠다는판단이들었다면이때반정규화의세가지규칙을고려하여반정규화를적\\n용하도록한다\\n반정규화를하는대상으로는테이블\\n속성\\n관계에대해적용할수있으며\\n.\\n,\\n,\\n꼭테이블과속성\\n관계에대해중복으로가져가는방법만이반정규화가아니고테이블\\n속\\n,\\n,\\n성\\n관계를추가할수도있고분할할수도있으며제거할수도있다\\n,\\n.\\n성능을향상시킬수있는포괄적인방법을적용하여반정규화를적용하는것이전문화된\\n반정규화의기법임을기억할필요가있다.\\n반정규화의기법\\n2.\\n넓은의미에서반정규화를고려할때성능을향상시키기위한반정규화는여러가지가\\n나타날수있다.\\n가\\n테이블반정규화\\n.'),\n",
       " Document(id='dd4f390b-50d9-41ea-8110-e4f3e189d75c', metadata={'producer': 'macOS 버전 15.5(빌드 24F74) Quartz PDFContext', 'creator': '', 'creationdate': \"D:20250806012743Z00'00'\", 'source': './data/SQLP.pdf', 'file_path': './data/SQLP.pdf', 'total_pages': 445, 'format': 'PDF 1.4', 'title': '', 'author': '', 'subject': '', 'keywords': '', 'moddate': \"D:20250806012743Z00'00'\", 'trapped': '', 'modDate': \"D:20250806012743Z00'00'\", 'creationDate': \"D:20250806012743Z00'00'\", 'page': 70}, page_content='제장데이터모델과성능\\n2\\n데이터자격검정\\nKdata\\n- 68 -\\nwww.dataq.or.kr\\n제절정규화와성능\\n2\\n정규화를통한성능향상전략\\n1.\\n데이터모델링을하면서정규화를하는것은기본적으로데이터에대한중복성을제거하\\n여주고데이터가관심사별로처리되는경우가많기때문에성능이향상되는특징을가지고\\n있다\\n물론엔터티가계속발생되므로\\n문장에서조인이많이발생하여이로인한성능\\n.\\nSQL\\n저하가나타나는경우도있지만이런부분은사례별로유의하여반정규화를적용하는전략\\n이필요하다.\\n정규화를수행하면항상조회성능이저하되어나타날까?\\n데이터처리의성능이무엇인지정확히구분하여인식할필요가있다\\n데이터베이스에서\\n.\\n데이터를처리할때성능이라고하면조회성능과입력수정삭제성능의두부류로구분된\\n/\\n/\\n다\\n이두가지성능이모두우수하면좋겠지만데이터모델을구성하는방식에따라두성\\n.\\n능이\\n되어나타나는경우가많이있다\\nTrade-Off\\n.\\n정규화를수행한다는것은데이터를결정하는결정자에의해함수적종속을가지고있는\\n일반속성을의존자로하여입력수정삭제이상을제거하는것이다\\n데이터의중복속성을\\n/\\n/\\n.\\n제거하고결정자에의해동일한의미의일반속성이하나의테이블로집약되므로한테이블\\n의데이터용량이최소화되는효과가있다\\n따라서정규화된테이블은데이터를처리할때\\n.\\n속도가빨라질수도있고느려질수도있는특성이있다.\\n그림\\n을보면정규화수행모델은데이터를입력수정삭제할때일반적으로\\n[\\n-2-3]\\n/\\n/\\nⅠ\\n반정규화된테이블에비해처리성능이향상된다\\n단데이터를조회할때에는처리조건에\\n.\\n따라조회성능이향상될수도있고저하될수도있다.\\n따라서일반적으로정규화가잘되어있으면입력수정삭제의성능이향상되고반정규\\n/\\n/\\n화를많이하면조회의성능이향상된다고인식될수있다\\n그러나데이터모델링을할때\\n.\\n반정규화만이조회성능을향상시킨다는고정관념은탈피되어야한다\\n정규화를해서성능\\n.\\n이저하되기는커녕정규화를해야만성능이향상되는경우가아주많이나타나기때문이다.'),\n",
       " Document(id='9a60d28e-086d-407a-b6a9-f08d3182e643', metadata={'producer': 'macOS 버전 15.5(빌드 24F74) Quartz PDFContext', 'creator': '', 'creationdate': \"D:20250806012743Z00'00'\", 'source': './data/SQLP.pdf', 'file_path': './data/SQLP.pdf', 'total_pages': 445, 'format': 'PDF 1.4', 'title': '', 'author': '', 'subject': '', 'keywords': '', 'moddate': \"D:20250806012743Z00'00'\", 'trapped': '', 'modDate': \"D:20250806012743Z00'00'\", 'creationDate': \"D:20250806012743Z00'00'\", 'page': 10}, page_content='‘\\n’\\n.\\n이단계에서수행하는또한가지중요한활동은정규화이다\\n정규화는논리데이터모델\\n.\\n상세화과정의대표적인활동으로\\n논리데이터모델의일관성을확보하고중복을제거하여\\n,\\n속성들이가장적절한엔터티에배치되도록함으로써보다신뢰성있는데이터구조를얻는데\\n목적이있다\\n논리데이터모델의상세화는식별자확정\\n정규화\\n관계해소\\n참조무\\n.\\n,\\n, M:M\\n,\\n결성규칙정의등을들수있으며\\n추가적으로이력관리에대한전략을정의하여이를논\\n,\\n리데이터모델에반영함으로써데이터모델링을완료하게된다.\\n다\\n물리적데이터모델링\\n.\\n(Physical Data Modeling)\\n데이터베이스설계과정의세번째단계인물리데이터모델링은논리데이터모델이데\\n이터저장소로서어떻게컴퓨터하드웨어에표현될것인가를다룬다\\n데이터가물리적으로\\n.\\n컴퓨터에어떻게저장될것인가에대한정의를물리적스키마라고한다\\n이단계에서결정\\n.\\n되는것은테이블\\n칼럼등으로표현되는물리적인저장구조와사용될저장장치\\n자료를\\n,\\n,\\n추출하기위해사용될접근방법등이있다\\n계층적데이터베이스관리시스템환경에서는\\n.\\n데이터베이스관리자가물리적스키마를설계하고구현하기위해서보다많은시간을투자\\n하여야한다.\\n실질적인현실프로젝트에서는개념적데이터모델링논리적데이터모델링물리적데이\\n터모델링으로수행하는경우는드물며개념적데이터모델링과논리적데이터모델을한꺼'),\n",
       " Document(id='a7ef80a6-6bec-46d7-ba2a-dd0208ebae86', metadata={'producer': 'macOS 버전 15.5(빌드 24F74) Quartz PDFContext', 'creator': '', 'creationdate': \"D:20250806012743Z00'00'\", 'source': './data/SQLP.pdf', 'file_path': './data/SQLP.pdf', 'total_pages': 445, 'format': 'PDF 1.4', 'title': '', 'author': '', 'subject': '', 'keywords': '', 'moddate': \"D:20250806012743Z00'00'\", 'trapped': '', 'modDate': \"D:20250806012743Z00'00'\", 'creationDate': \"D:20250806012743Z00'00'\", 'page': 42}, page_content='제장데이터모델링의이해\\n1\\n데이터자격검정\\nKdata\\n- 40 -\\nwww.dataq.or.kr\\n•\\n속성의이름을부여할때는현업에서사용하는이름을부여하는것이가장중요하\\n다\\n아무리일반적인용어라할지라도그업무에서사용되지않으면속성의명칭\\n.\\n으로사용하지않는것이좋다.\\n•\\n일반적으로는서술식의속성명은사용하지말아야한다\\n명사형을이용하고수식\\n.\\n어가많이붙지않도록유의하여작성한다\\n수식어가많으면의미파악이힘들고\\n.\\n상세설계단계에서물리속성으로전환하는데명확한의미파악이어렵게된다\\n소\\n.\\n유격도사용하지않는다.\\n•\\n공용화되지않은업무에서사용하지않는약어는사용하지않는것이좋다\\n지나\\n.\\n치게약어를많이사용하면업무분석자내에서도의사소통이제약을받으며시스\\n템을운영할때도많은불편을초래할수있다.\\n•\\n가능하면모든속성의이름은유일하게작성하는것이좋다\\n물론대량의속성을\\n.\\n정의하는경우유일하게작성하는것이어려울수도있지만이렇게하는것이나\\n중에데이터에대한흐름을파악하고데이터의정합성을유지하는데큰도움이된\\n다\\n또한반정규화테이블통합\\n분리\\n칼럼의중복등를적용할때속성명의충돌\\n.\\n(\\n,\\n,\\n)\\n을해결하여안정적으로반정규화를적용할수있게된다\\n(Conflict)\\n.'),\n",
       " Document(id='efd18648-45bf-45a0-a190-6212f5036bca', metadata={'producer': 'macOS 버전 15.5(빌드 24F74) Quartz PDFContext', 'creator': '', 'creationdate': \"D:20250806012743Z00'00'\", 'source': './data/SQLP.pdf', 'file_path': './data/SQLP.pdf', 'total_pages': 445, 'format': 'PDF 1.4', 'title': '', 'author': '', 'subject': '', 'keywords': '', 'moddate': \"D:20250806012743Z00'00'\", 'trapped': '', 'modDate': \"D:20250806012743Z00'00'\", 'creationDate': \"D:20250806012743Z00'00'\", 'page': 4}, page_content='제장데이터모델링의이해\\n1\\n데이터자격검정\\nKdata\\n- 2 -\\nwww.dataq.or.kr\\n제절데이터모델의이해\\n1\\n모델링의이해\\n1.\\n가\\n모델링의정의\\n.\\n인류의가장보편적인특징이면서욕구중의하나는의사소통을하면서항상그에대한\\n기록을남기는것이다\\n어떤현상에대해기록하고남겨자신스스로또는다른사람에게\\n.\\n적절한의미를주기위해고대부터기록의문화는발전해왔다고할수있다\\n모델이라고\\n.\\n하는것은모형\\n축소형\\n의의미로서사람이살아가면서나타날수있는다양\\n(\\n),\\n(\\n)\\n模型\\n縮小型\\n한현상에대해서일정한표기법에의해표현해놓은모형이라고할수있다\\n이역시사람\\n.\\n이어떤목적을달성하기위해커뮤니케이션의효율성을극대화한고급화된표현방법으로\\n설명될수있다.\\n사람이살아가면서나타날수있는다양한현상은사람\\n사물\\n개념등에의해발생된다\\n,\\n,\\n고할수있으며모델링은이것을표기법에의해규칙을가지고표기하는것자체를의미한\\n다\\n즉모델을만들어가는일자체를모델링으로정의할수있다\\n.\\n.\\n다음은모델링에대한다양한정의를보여준다.\\n사전\\n1) Webster\\n•\\n가설적또는일정양식에맞춘표현(a hypothetical or stylized representation)\\n•\\n어떤것에대한예비표현으로그로부터최종대상이구축되도록하는계획으로서\\n기여하는것\\n복잡한\\n현실세계를단순화시켜표현하는것이다\\n모델이란사물또는사건에관\\n2)\\n‘\\n’\\n. 3)\\n한양상\\n이나관점\\n을연관된사람이나그룹을위하여명확하게\\n(Aspect)\\n(Perspective)\\n하는것이다\\n모델이란현실세계의추상화된반영이다\\n. 4)\\n.'),\n",
       " Document(id='2b908df6-7e1a-4de6-9a2b-c44234dd8c41', metadata={'producer': 'macOS 버전 15.5(빌드 24F74) Quartz PDFContext', 'creator': '', 'creationdate': \"D:20250806012743Z00'00'\", 'source': './data/SQLP.pdf', 'file_path': './data/SQLP.pdf', 'total_pages': 445, 'format': 'PDF 1.4', 'title': '', 'author': '', 'subject': '', 'keywords': '', 'moddate': \"D:20250806012743Z00'00'\", 'trapped': '', 'modDate': \"D:20250806012743Z00'00'\", 'creationDate': \"D:20250806012743Z00'00'\", 'page': 16}, page_content='제장데이터모델링의이해\\n1\\n데이터자격검정\\nKdata\\n- 14 -\\nwww.dataq.or.kr\\n세상의모든사람\\n사물\\n개념등은어떤것\\n어떤것간의관계\\n성격의구분을통해서분\\n,\\n,\\n,\\n,\\n류할수있다\\n바로이러한원리\\n즉자연계에존재하는모든유형의정보들을세가지관\\n.\\n,\\n점의접근방법을통해모델링을진행하는것이다.\\n나\\n단수와집합복수의명명\\n.\\n(\\n)\\n데이터모델링에서는이세가지개념에대해서단수와복수의개념을분명하게구분하\\n고있고실제로데이터모델링을할때많이활용되는용어이다.\\n어떤것의전체를지칭하는것을영문으로\\n의복수의의미를가\\nEntity Set, Entity Type\\n지는\\n이나\\n을포함하여표현하기도한다\\n그래서엔터티타입으로표현하기도하는\\nSet\\nType\\n.\\n데실제실무현장에서는엔터티로짧게명명한다\\n즉엔터티를어떤것에대한집합을명\\n.\\n명하여지칭한다\\n어떤것에대한개별지칭으로엔터티가단수명사로서단어의의미가있\\n.\\n지만\\n엔터티를집합개념으로사용하는경우에는개별요소에대해서는인스턴스어커런스를\\n,\\n/\\n단수의개념으로사용하여부른다\\n관계\\n도이를복수로통칭하여관계로표현\\n.\\n(Relationship)\\n하고관계에포함된개별연관성을패어링이라고부르기도한다\\n그러나패어링이라는용어\\n.\\n는실제데이터모델링을할때는잘사용하지않으며그냥일반적으로단수든복수든관계\\n라고표현하는경우가많다\\n어떤것이가지는성격\\n에대한집합개념이속성이고\\n.\\n(Attribute)\\n그안에개별값들을속성값으로구분하여복수와단수의개념으로구분할수있다.\\n본가이드에서는현장통용성을반영하여국내외적으로가장범용적으로명명되고있는\\n용어인엔터티를집합의개념으로지칭하고인스턴스를단수의개념으로명명하도록한다.\\n데이터모델의핵심요소인이세가지를이용하여일정한표기법에의해데이터모델을만\\n들어낼수있다\\n다음은다양한표기법에의해생성되는데이터모델의표기법을설명한\\n.\\n다.')]"
      ]
     },
     "execution_count": 32,
     "metadata": {},
     "output_type": "execute_result"
    }
   ],
   "source": [
    "embedding = OpenAIEmbeddings()\n",
    "\n",
    "vectorstore = FAISS.from_documents(documents=split_sqlp, embedding=embedding)\n",
    "\n",
    "# Test\n",
    "vectorstore.similarity_search(\n",
    "    '정규화 관련 개념들 가져와봐', k=10\n",
    ")"
   ]
  },
  {
   "cell_type": "code",
   "execution_count": 33,
   "id": "b61e088a",
   "metadata": {},
   "outputs": [
    {
     "data": {
      "text/plain": [
       "'제2정규화는 데이터베이스 설계에서 부분 함수 종속을 제거하여 데이터 중복을 최소화하는 과정입니다. 이를 통해 데이터 무결성을 높이고 저장 공간을 효율적으로 사용할 수 있습니다. 그러나 성능 향상이나 목표에 따라 반정규화와 함께 고려하기도 합니다.'"
      ]
     },
     "execution_count": 33,
     "metadata": {},
     "output_type": "execute_result"
    }
   ],
   "source": [
    "# Prompt 세팅\n",
    "prompt = hub.pull('rlm/rag-prompt')\n",
    "\n",
    "# LLM 모델\n",
    "llm = ChatOpenAI(model='gpt-4.1-nano')\n",
    "\n",
    "# 검색기 생성(retriever 생성)\n",
    "retriever = vectorstore.as_retriever()\n",
    "\n",
    "chain = (\n",
    "    {'context': retriever, 'question': RunnablePassthrough()}\n",
    "    | prompt\n",
    "    | llm\n",
    "    | StrOutputParser()\n",
    ")\n",
    "\n",
    "chain.invoke('제2정규화에 대한 개념 설명해줘')"
   ]
  },
  {
   "cell_type": "code",
   "execution_count": 34,
   "id": "010896e1",
   "metadata": {},
   "outputs": [
    {
     "name": "stderr",
     "output_type": "stream",
     "text": [
      "C:\\Users\\배성우\\AppData\\Local\\Temp\\ipykernel_15824\\3050205485.py:56: LangChainDeprecationWarning: Please see the migration guide at: https://python.langchain.com/docs/versions/migrating_memory/\n",
      "  memory = ConversationBufferMemory(\n"
     ]
    }
   ],
   "source": [
    "# Agent + RAG\n",
    "from langchain.agents import create_openai_tools_agent, AgentExecutor\n",
    "from langchain_core.prompts import ChatPromptTemplate, MessagesPlaceholder\n",
    "from langchain.memory import ConversationBufferMemory\n",
    "from langchain_tavily import TavilySearch\n",
    "from datetime import datetime\n",
    "# RAG 관련\n",
    "from langchain_community.document_loaders import PyMuPDFLoader\n",
    "from langchain.text_splitter import RecursiveCharacterTextSplitter\n",
    "from langchain_openai import ChatOpenAI, OpenAIEmbeddings\n",
    "from langchain_community.vectorstores import FAISS\n",
    "from langchain.tools.retriever import create_retriever_tool\n",
    "\n",
    "today = datetime.today().strftime('%Y-%m-%d')\n",
    "\n",
    "llm = ChatOpenAI(model='gpt-4.1-nano')\n",
    "\n",
    "search_tool = TavilySearch(\n",
    "    max_results=5,\n",
    "    topic='general'\n",
    ")\n",
    "\n",
    "loader = PyMuPDFLoader('./data/spri.pdf')\n",
    "docs = loader.load()\n",
    "splitter = RecursiveCharacterTextSplitter(chunk_size=500, chunk_overlap=50)\n",
    "split_docs = splitter.split_documents(docs)\n",
    "embedding = OpenAIEmbeddings()\n",
    "vectorstore = FAISS.from_documents(split_docs, embedding=embedding)\n",
    "retriever = vectorstore.as_retriever()\n",
    "\n",
    "rag_tool = create_retriever_tool(\n",
    "    retriever,\n",
    "    name='pdf_search',\n",
    "    description='PDF 문서에서 질문과 관련된 내용을 검색합니다.'  # Agent가 언제 이 tool을 쓸지 알게됨\n",
    ")\n",
    "\n",
    "text = f\"\"\"\n",
    "너는 웹 검색이 가능하고, 2023년 12월 인공지능 산업 최신동향 정보를 담은 pdf 를 검색할 수 있는 어시스턴트야.\n",
    "\n",
    "- 사용자가 PDF 문서와 관련된 질문(ex. '이 pdf에서', '문서내용', '파일에서)을 하면 반드시 'pdf_search' 도구를 써야해\n",
    "- 사용자 질문이 팩트체크를 필요로 하고, 최신성이 필요하다 판단되면 web_search를 실행해야해\n",
    "- 사용자가 일반적인 질문을 하고, 최신성이나 팩트체크가 필요없으면 그냥 답변해\n",
    "- 뭔가 확실하지 않으면 pdf_search 와 web_search를 모두 실행해서 답변을 생성해\n",
    "\n",
    "오늘은 {today} 야.\n",
    "\"\"\"\n",
    "\n",
    "\n",
    "prompt = ChatPromptTemplate.from_messages([\n",
    "    ('system', text),\n",
    "    MessagesPlaceholder(variable_name='chat_history'),\n",
    "    ('human', '{input}'),\n",
    "    MessagesPlaceholder(variable_name='agent_scratchpad')  # 도구(검색) 호출때 필요함\n",
    "])\n",
    "\n",
    "memory = ConversationBufferMemory(\n",
    "    return_messages=True,\n",
    "    memory_key='chat_history'\n",
    ")\n",
    "\n",
    "agent = create_openai_tools_agent(\n",
    "    llm=llm,\n",
    "    tools=[search_tool, rag_tool],\n",
    "    prompt=prompt,\n",
    ")\n",
    "\n",
    "agent_executor = AgentExecutor(\n",
    "    agent=agent,\n",
    "    memory=memory, \n",
    "    tools=[search_tool, rag_tool],\n",
    "    verbose=True)"
   ]
  },
  {
   "cell_type": "code",
   "execution_count": 35,
   "id": "3a3587a1",
   "metadata": {},
   "outputs": [
    {
     "name": "stdout",
     "output_type": "stream",
     "text": [
      "\n",
      "\n",
      "\u001b[1m> Entering new AgentExecutor chain...\u001b[0m\n",
      "\u001b[32;1m\u001b[1;3m\n",
      "Invoking: `tavily_search` with `{'query': '2023년 이후 인공지능 산업 및 산학동향 최신 정보', 'search_depth': 'advanced', 'time_range': 'year'}`\n",
      "\n",
      "\n",
      "\u001b[0m\u001b[36;1m\u001b[1;3m{'query': '2023년 이후 인공지능 산업 및 산학동향 최신 정보', 'follow_up_questions': None, 'answer': None, 'images': [], 'results': [{'url': 'https://ettrends.etri.re.kr/ettrends/212/0905212008/', 'title': '인공지능 분야 산업·기술 동향 및 이슈', 'content': 'D. Pinto, \"NVIDIA Announces Project GR00T Foundation Model for Humanoid Robots and Major Isaac Robotics Platform Update,\" NVIDIA Newsroon, Mar. 18, 2024. \\n\\nSamsung, \"온디바이스AI.\" \\n\\n임양섭, \"멀티모달 AI 경쟁과 다가오는 AGI,\" IITPICT SPOT ISSUE ICT 산업동향, SPOT 2024-02, 2024, pp. 1-21.\\n\\nM.R. Morris et al., \"Levels of AGI for Operationalizing Progress on the Path to AGI,\" Proceedings of ICML, 2024. \\n\\nForbes, \"OpenAI’s 5 Levels of ‘Super AI’(AGI To Outperform Human Capability),\" July 16, 2024. [...] Marketsandmarkets, \"Artificial Intelligence (AI) Market,\" May. 2024.\\n\\nGartner, \"Gartner Top 10 Strategic Technology Trends for 2025,\" Oct. 21, 2024.\\n\\nStanford University Human-Centered Artificial Intelligence, \"Artificial Intelligence Index Report 2024,\" Apr. 2024.\\n\\nFinancial Times, \"Big Tech groups say their $100bn AI spending spree is just beginning,\" Aug. 2, 2024.\\n\\nAI타임스, \"메타, 첫 멀티모달모델 ‘라마 3.2’ 출시… \"오픈소스로 폐쇄형 잡을 것\",\" 2024. 9. 26.\\n\\nAI타임스, \"네이버 \"멀티모달 모바일 AI 검색, 내년으로 출시 연기\",\" 2024. 11. 8. [...] 인공지능(AI: Artificial Intelligence) 산업은 생성형 AI의 등장 이후 빠르게 성장하고 있으며, 최근 출시된 각종 AI 서비스는 실생활에 적용되며 그 영역을 확장해 나가고 있다. 전 세계 인공지능 시장 규모는 2023년 기준 2,146억 달러에 달하며, 2030년 1조 3,391억 달러로 연평균 35.7% 성장할 것으로 전망된다. Gartner는 2025년 10대 전략 기술 트렌드에서 “에이전트 AI(Agentic AI)”, “AI 거버넌스 플랫폼(AI Governance Platform)” 등을 주요 트렌드로 꼽았으며, 몇 해 전부터 AI를 주요 기술 트렌드로 다루고 있기도 하다. 또한, 최근 기계학습(Machine Learning)의 기반을 구축한 존 홉필드 프린스턴대학교 교수와 제프리 힌턴 토론토대학교 교수의 노벨 물리학상 수상, 그리고 AI 모델로 단백질 구조를 예측하는 알파폴드(AlphaFold)를 개발한 데미스 허사비스 딥마인드 최고경영자와 존 점퍼', 'score': 0.8190992, 'raw_content': None}, {'url': 'https://www.comworld.co.kr/news/articleView.html?idxno=51644', 'title': '[시장동향] SW·AI·데이터 업계 “인력, 해외진출, 정부지원 등 ...', 'content': '과학기술정보통신부와 소프트웨어정책연구소의 ‘2024 인공지능산업 실태조사’에 따르면, 2024년 국내 인공지능(AI) 시장은 6조 3,000억 원에 달하는 것으로 나타났다. AI 응용 소프트웨어(챗봇, 자동화 등)가 2조 6,700억 원으로 전체 AI 사업 매출에서 가장 큰 비중을 차지했다. 이어 △AI 구축·관리 및 정보 서비스(컨설팅, 클라우드 등) 1조 8,700억 원 △AI 시스템 소프트웨어(머신러닝 플랫폼, 추론 엔진 등) 1조 4,600억 원 △AI 연산 처리 부품·장치(NPU 등) 3,000억 원 순이었다.\\n\\n매출 증가율 역시 응용 SW(14.3%), 구축·관리 서비스(13.1%), 시스템 SW(9.6%), 연산 부품(8.4%) 순으로, 응용 서비스 분야의 고성장세가 두드러졌다. [...] ‘2024 인공지능산업 실태조사’에 따르면, 균형있는 발전을 위한 전략으로 △수도권·비수도권 등 권역별로 AI 특화 클러스터를 조성해 지역·기업 간 역량 격차를 해소하고, R&D·사업화·인재 양성의 선순환 구조를 마련하기 위한 ‘중소기업 중심 AI 클러스터 조성’ △현장 수요에 맞춘 AI·데이터 실무 교육, 경력전환·재교육 프로그램을 강화해 인력 미스매치를 해소하기 위한 ‘실무형 인재 리스킬링 확대’ △중소·벤처기업의 AI 개발·학습 부담을 줄일 수 있도록 공공 GPU·클라우드 인프라를 확충하고, 저비용·고효율의 연산 환경을 제공하는 ‘공공 GPU 인프라 설계’ △AI 신뢰성·안정성 확보를 위한 가이드라인·프레임워크 도입, 전담조직 운영, 모델 검증·데이터 품질 관리 등 윤리·책임성 기반의 생태계 구축을 위한 ‘AI 윤리·신뢰성 기준 강화’ 등을 주문했다. 이 외에도 투자유치 다각화, 데이터 거래시장 활성화, 글로벌 협업 네트워크 구축, AI 특허·표준화 경쟁력 강화 등에 대한 [...] 보고서는 “기술 발전 속도에 비해 연구개발 및 사업화 자금 확보가 어렵고, 초기 투자 대비 수익성 불확실성, 글로벌 시장과의 경쟁 심화, 데이터·인프라 비용 부담, 법·윤리 규제 등 복합적 장애물에 직면해 있다”고 해석했다.\\n\\n개발자 부족률 57.6%…데이터 분석가·운영관리자도 공급난\\n\\n2024년 6월 기준 국내 AI 산업 종사자는 5만 4,000명으로 전년 대비 소폭 증가했으나, AI 개발자 부족률이 57.6%에 달하는 등 심각한 인력난을 겪고 있었다. 직군별로는 △AI 개발자(39,368명) △프로젝트 관리자(4,649명) △데이터 가공·처리 종사자(2,801명) △AI 컨설턴트(2,741명) △데이터 분석가(2,493명) △시스템 운영·관리자(1,987명) 순으로 나타났다.', 'score': 0.8095324, 'raw_content': None}, {'url': 'https://spri.kr/search/result?s_tags=%EC%9D%B8%EA%B3%B5%EC%A7%80%EB%8A%A5', 'title': '인공지능', 'content': '+ 2023년\\n  + 인공지능\\n  + 산업동향\\n + 이슈리포트\\n  + 한상열\\n\\n  + 2024.03.11\\n  + 10418\\n\\n  메타버스의 진화 : 공간컴퓨팅과 AI융합\\n\\n  공간컴퓨팅과 AI의 메타버스 융합은 현재 메타버스 한계를 극복하고 새로운 발전 기회를 제공할 것으로 보인다. (후략)\\n\\n  + 메타버스\\n  + 공간컴퓨팅\\n  + 인공지능\\n  + AI\\n  + XR\\n + 이슈리포트\\n  + 봉강호\\n  + 조지연\\n\\n  + 2024.03.11\\n  + 16088\\n\\n  인공지능 기술에 대한 중소기업의 인식 및 수요 조사분석\\n\\n  미국과 중국 간의 AI 기술패권 경쟁이 격화됨에 따라 주요 선진국들은 자립적 AI 기술생태계 확보의 중요성을 인식하고, 집중 투자 및 정책적 노력 강화를 추진하고 있다.(후략)\\n\\n  + 인공지능\\n  + AI\\n  + 기술수요\\n  + 중소기업\\n  + 신뢰성\\n + 이슈리포트\\n  + 유재흥\\n  + 안성원\\n  + 안미소\\n  + 노재원 [...] + 인공지능\\n  + AI\\n + AI 브리프\\n  + 유재흥\\n  + 이지수\\n\\n  + 2023.08.16\\n  + 4608\\n\\n  [[AI Brief 스페셜] 인공지능(AI) 반도체 산업 동향](/posts/view/23631?code=AI-Brief)\\n\\n  1. 개요 2. 글로벌 반도체 기업 3. 글로벌 IT 기업 4. 국내외 스타트업 동향 5. 요약 및 시사점\\n\\n  + AI Brief\\n  + 인공지능\\n  + 반도체\\n + 이슈리포트\\n  + 유재흥\\n  + 안성원\\n  + 김정민\\n  + 안미소\\n  + 장진철\\n  + 봉강호\\n  + 노재원\\n\\n  + 2023.06.08\\n  + 16610\\n\\n  생성AI의 부상과 산업의 변화 [...] + 해외 우수 인재\\n  + 디지털 인재\\n  + 인공지능 인재 유치\\n  + 비자 제도\\n + [[정보센터] 인공지능산업실태조사](/posts?code=stat_sw_ai_reports)\\n  + 봉강호\\n  + 안미소\\n  + 안성원\\n  + 김예진\\n\\n  + 2025.04.30\\n  + 6382\\n\\n  2024년 인공지능산업 실태조사\\n\\n  ※ 국내 GPU 현황은 시점 현행화와 정밀한 조사를 거쳐 추후 별도 게시 예정\\n  1장 조사개요\\n  01 조사개요\\n  02 주요 용어 해설\\n  03 모집단 정의\\n  04 모수 추정\\n  2장 조사결과\\n  01 일반 현황\\n  02 인공지능 기술 및 사업현황\\n  03 매출 현황\\n  04 해외수출 현황\\n  04 인력 현황\\n  05 투자 및 개발 현황\\n  06 애로사항 및 건의사항\\n  3장 부록\\n  01 주요 주관식 문항정리\\n  02 통계표\\n  03 조사표', 'score': 0.77792513, 'raw_content': None}, {'url': 'https://nia.or.kr/common/board/Download.do?bcIdx=28237&cbIdx=82618&fileNo=1', 'title': '[PDF] 투자 규모를 중심으로 본 주요국 AI 정책 동향 - 한국지능정보사회진흥원', 'content': \"1) businesstimes.com(2025.1.16.),  \\n\\ntrols-advanced-chips-curb-flow-china 투자 규모를 중심으로 본 주요국 AI 정책 동향 \\n\\n10 \\n\\n4 정책명 인공지능 산업사슬 발전지원 행동계획 (持人工智能 产业链发展行动方案)\\n\\n투자규모 1조 위안 (190 조 원) 기간 ’25~’30 구분 인프라 인재양성 AI 전환 \\n\\n○ 중앙정부 소유의 국유 은행인 중국은행은 5년간 AI 산업 사슬 전반 각종 주체에 1조 위안의 특별 종합 금융 \\n\\n지원을 제공할 계획임을 발표 (’25.1.23.) \\n\\n- 국가 산업 발전을 위해 과학기술금융 분야에서 지속적인 지원을 이뤄왔으며 , ’24 년의 경우 10 만 개 이상의 \\n\\n기술 기반 기업을 지원하며 1조 9,100 억 위안의 기술 금융 대출을 제공 \\n\\n○ 본 행동계획은 크게 ① 국가 과학기술 자립 실현 ② AI 요소 공급 지원 ③ AI 기술 혁신 촉진 ④ AI 시나리오 [...] 구조 , 기술 수준 , 정책 환경 등에 따라 맞춤형 전략을 수립 ·추진하는 추세 \\n\\n· (인프라 구축 ) IDC 는 글로벌 AI 인프라 시장이 ’23 년 500 억 달러에서 ’28 년 2,000 억 달러를 돌파할 것으로 \\n\\n전망하며 , 고성능 AI 의 안정적인 운용을 위한 인프라 중요성이 강요되어 대규모 자본이 투자되는 중\\n\\n· (인재양성 ) Stanford HAI 는 윤리성 ·전문성을 갖춘 고급 AI 인재 양성을 위한 교육 과정 확대를 언급 \\n\\n※ K-12 CS 교육 (컴퓨터 과학 ·공학 교육 ) 국가 2/3 시행 , 전 세계 대학 AI 중심 학위 프로그램 3배 증가 (’17 →’23) \\n\\n· (AI 전환 ) 한국리서치가 수행한 ‘인공지능 인식조사 ’ 결과에 따르면 ’24 년부터 대중의 AI 체감도가 크게 상승 \\n\\n※ 실생활에서의 AI 기술 발전 체감도 : (’20) 64% → (’21) 67% → (’23) 69% → (’24) 78% [...] 9. Builtin(’25.2.11.), The Stargate Project: Inside the American AI Industry’s $500B Infrastructure Bet \\n\\n \\n\\n10. NAIRR TF(’23.1.), Strengthening and Democratizing the U.S. Artificial Intelligence Innovation Ecosystem: An Implementation \\n\\nPlan for a National Artificial Intelligence Research Resource \\n\\n11. NITRD&NAIIO(’24.11.), SUPPLEMENT TO THE PRESIDENT'S FY2025 BUDGET \\n\\n12. NIA(’24.9.), 미국의 인공지능 (AI) 정책 ․전략 현황과 변화 방향\", 'score': 0.7343678, 'raw_content': None}, {'url': 'http://www.itdaily.kr/news/articleView.html?idxno=232711', 'title': '[초점] 안정기 접어든 국내 AI 산업, 2024년 6.3조원 시장 형성', 'content': '## 상단영역\\n\\n## 본문영역\\n\\n[초점] 안정기 접어든 국내 AI 산업, 2024년 6.3조원 시장 형성\\n\\n스크롤 이동 상태바\\n\\n### [초점] 안정기 접어든 국내 AI 산업, 2024년 6.3조원 시장 형성\\n\\n 기자명\\n  박재현 기자\\n 입력 2025.05.02 16:53\\n 댓글 0\\n\\n#### B2B AI 기업 주도 성장…인력난 및 해외진출 과제 산적\\n\\n[아이티데일리] 2024년 국내 인공지능(AI) 기업들의 총 매출이 6조 3,009억 원을 기록했다. 2023년 기록한 5조 6,991억 원보다 12.5%(7,018억 원) 늘어난 수치다. 2021년 이후 3년간의 성장률 추이를 보면, 2021년~2022년 72%, 2022년~2023년 30%, 2023~2024년 12.5%로 성장세가 완만해지면서 과도기에서 안정기로 접어들었음을 보여준다. 이와 동시에 인력 부족과 해외 진출에 어려움을 겪는 기업도 상당한 것으로 나타났다. [...] 과학기술정보통신부 산하 소프트웨어정책연구소(SPRi)는 ‘한국 인공지능(AI) 산업 실태조사’를 발표하며 이 같은 내용을 소개했다.\\n\\nAI 산업 총매출, 6.3조…AI 응용 SW가 주도\\n\\n2024년 국내 AI 산업 전체 매출은 6조 3,009억 원으로, 2023년 5조 6,991억 원 대비 7,018억 원(12.5%) 증가했다. 2021년(2조 5,000억 원) 이후 3년 연속 72%, 30%, 12.5% 성장률을 기록하며 고성장을 거듭했다.\\n\\nAI 산업 실태조사에 따르면, 2024년 AI 사업 분야별로는 ‘AI 응용 SW’가 2조 6,682억 원(42.4%)로 전체 매출의 절반 가까이 차지했다. 이 분야에는 챗봇, 제조·생산 자동화 시스템 등 실무 적용 솔루션 기업들이 포진해 있다. 기업들의 디지털 전환 수요가 확대되면서 매출 역시 크게 늘어난 것으로 조사됐다. [...] 2024년 상반기까지 외부 투자 유치 실적은 404건, 8,892억 원으로, 전년(667건, 1조 9,300억 원) 대비 건수와 금액 모두 감소했다. 평균 투자 유치 금액도 2023년 45억 원에서 2024년 21억 원으로 줄었다. 이는 투자 시장의 불확실성과 AI 기업의 수익화 구조 미흡, 글로벌 경쟁력 부족 등이 복합적으로 작용한 결과로 풀이된다.\\n\\n기술 개발 열기는 특허 출원 현황에서 확인할 수 있었다. 2024년 6월 기준 누적 AI 관련 특허 출원 건수는 11,314건으로, 2022년(3,090건), 2023년(7,431건) 대비 빠르게 증가했다. 하지만 중소 AI 기업의 상당수는 투자 대비 수익성, 수익화 모델의 부재, 글로벌 시장 진출의 어려움 등 한계를 호소했다.', 'score': 0.6932451, 'raw_content': None}], 'response_time': 2.04, 'request_id': '7eaf86aa-d0b3-487f-9080-31f9c5f98038'}\u001b[0m\u001b[32;1m\u001b[1;3m2023년 이후 인공지능 산업은 빠른 성장과 함께 다양한 발전 동향이 이어지고 있습니다. 최신 자료에 따르면, 글로벌 인공지능 시장 규모는 2023년 기준 2,146억 달러에 달하며, 2030년에는 약 1조 3,391억 달러로 연평균 35.7%의 성장률을 기록할 것으로 예상됩니다. 특히 생성형 인공지능(GPT 등)의 발전이 산업 전반에 큰 영향을 미치고 있으며, 주요 기업들은 대규모 투자를 지속하고 있습니다.\n",
      "\n",
      "국내 상황도 긍정적입니다. 2024년 국내 인공지능 시장은 약 6조 3,000억 원 규모로 성장하였으며, AI 응용 소프트웨어가 시장의 절반 이상을 차지하는 등 실생활과 산업현장에서 적극 활용되고 있습니다. 다만, 인력 부족이 큰 과제로 남아 있으며, 인재 양성과 글로벌 시장 진출 지원이 중요한 이슈로 부각되고 있습니다.\n",
      "\n",
      "또한, 각국 정부와 기업들은 AI 기술 생태계 자립화와 인프라 확충, 윤리·책임성 확보를 위한 정책을 추진하고 있으며, 산업적·기술적 혁신이 지속되고 있음을 알 수 있습니다. \n",
      "\n",
      "더 구체적인 최신 사례와 정책 동향은 관련 자료를 참고하시면 도움이 될 것입니다.\u001b[0m\n",
      "\n",
      "\u001b[1m> Finished chain.\u001b[0m\n"
     ]
    },
    {
     "data": {
      "text/plain": [
       "{'input': '방금 말한 내용들 2023년 기준인데, 요즘엔 어떻게 됐대?',\n",
       " 'chat_history': [HumanMessage(content='방금 말한 내용들 2023년 기준인데, 요즘엔 어떻게 됐대?', additional_kwargs={}, response_metadata={}),\n",
       "  AIMessage(content='2023년 이후 인공지능 산업은 빠른 성장과 함께 다양한 발전 동향이 이어지고 있습니다. 최신 자료에 따르면, 글로벌 인공지능 시장 규모는 2023년 기준 2,146억 달러에 달하며, 2030년에는 약 1조 3,391억 달러로 연평균 35.7%의 성장률을 기록할 것으로 예상됩니다. 특히 생성형 인공지능(GPT 등)의 발전이 산업 전반에 큰 영향을 미치고 있으며, 주요 기업들은 대규모 투자를 지속하고 있습니다.\\n\\n국내 상황도 긍정적입니다. 2024년 국내 인공지능 시장은 약 6조 3,000억 원 규모로 성장하였으며, AI 응용 소프트웨어가 시장의 절반 이상을 차지하는 등 실생활과 산업현장에서 적극 활용되고 있습니다. 다만, 인력 부족이 큰 과제로 남아 있으며, 인재 양성과 글로벌 시장 진출 지원이 중요한 이슈로 부각되고 있습니다.\\n\\n또한, 각국 정부와 기업들은 AI 기술 생태계 자립화와 인프라 확충, 윤리·책임성 확보를 위한 정책을 추진하고 있으며, 산업적·기술적 혁신이 지속되고 있음을 알 수 있습니다. \\n\\n더 구체적인 최신 사례와 정책 동향은 관련 자료를 참고하시면 도움이 될 것입니다.', additional_kwargs={}, response_metadata={})],\n",
       " 'output': '2023년 이후 인공지능 산업은 빠른 성장과 함께 다양한 발전 동향이 이어지고 있습니다. 최신 자료에 따르면, 글로벌 인공지능 시장 규모는 2023년 기준 2,146억 달러에 달하며, 2030년에는 약 1조 3,391억 달러로 연평균 35.7%의 성장률을 기록할 것으로 예상됩니다. 특히 생성형 인공지능(GPT 등)의 발전이 산업 전반에 큰 영향을 미치고 있으며, 주요 기업들은 대규모 투자를 지속하고 있습니다.\\n\\n국내 상황도 긍정적입니다. 2024년 국내 인공지능 시장은 약 6조 3,000억 원 규모로 성장하였으며, AI 응용 소프트웨어가 시장의 절반 이상을 차지하는 등 실생활과 산업현장에서 적극 활용되고 있습니다. 다만, 인력 부족이 큰 과제로 남아 있으며, 인재 양성과 글로벌 시장 진출 지원이 중요한 이슈로 부각되고 있습니다.\\n\\n또한, 각국 정부와 기업들은 AI 기술 생태계 자립화와 인프라 확충, 윤리·책임성 확보를 위한 정책을 추진하고 있으며, 산업적·기술적 혁신이 지속되고 있음을 알 수 있습니다. \\n\\n더 구체적인 최신 사례와 정책 동향은 관련 자료를 참고하시면 도움이 될 것입니다.'}"
      ]
     },
     "execution_count": 35,
     "metadata": {},
     "output_type": "execute_result"
    }
   ],
   "source": [
    "agent_executor.invoke({'input': '방금 말한 내용들 2023년 기준인데, 요즘엔 어떻게 됐대?'})"
   ]
  }
 ],
 "metadata": {
  "kernelspec": {
   "display_name": "Python 3",
   "language": "python",
   "name": "python3"
  },
  "language_info": {
   "codemirror_mode": {
    "name": "ipython",
    "version": 3
   },
   "file_extension": ".py",
   "mimetype": "text/x-python",
   "name": "python",
   "nbconvert_exporter": "python",
   "pygments_lexer": "ipython3",
   "version": "3.13.2"
  }
 },
 "nbformat": 4,
 "nbformat_minor": 5
}
