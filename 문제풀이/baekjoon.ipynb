{
 "cells": [
  {
   "cell_type": "code",
   "execution_count": null,
   "id": "33a3d220",
   "metadata": {},
   "outputs": [],
   "source": [
    "# 1000\n",
    "a = input().split()\n",
    "print(int(a[0])+int(a[1]))"
   ]
  },
  {
   "cell_type": "code",
   "execution_count": null,
   "id": "41596bb9",
   "metadata": {},
   "outputs": [],
   "source": [
    "# 1001\n",
    "a = input().split()\n",
    "print(int(a[0])-int(a[1]))"
   ]
  },
  {
   "cell_type": "code",
   "execution_count": 1,
   "id": "4f36ff55",
   "metadata": {},
   "outputs": [
    {
     "name": "stdout",
     "output_type": "stream",
     "text": [
      "Hello World!\n"
     ]
    }
   ],
   "source": [
    "# 2557\n",
    "print('Hello World!')"
   ]
  },
  {
   "cell_type": "code",
   "execution_count": 4,
   "id": "b4a89033",
   "metadata": {},
   "outputs": [
    {
     "name": "stdout",
     "output_type": "stream",
     "text": [
      "2\n"
     ]
    }
   ],
   "source": [
    "# 10998\n",
    "x = input().split()\n",
    "print(int(x[0]) * int(x[1]))"
   ]
  },
  {
   "cell_type": "code",
   "execution_count": 5,
   "id": "4fd79997",
   "metadata": {},
   "outputs": [
    {
     "name": "stdout",
     "output_type": "stream",
     "text": [
      "0.3333333333333333\n"
     ]
    }
   ],
   "source": [
    "# 1008\n",
    "x = input().split()\n",
    "print(int(x[0]) / int(x[1]))"
   ]
  },
  {
   "cell_type": "code",
   "execution_count": 7,
   "id": "df205583",
   "metadata": {},
   "outputs": [
    {
     "name": "stdout",
     "output_type": "stream",
     "text": [
      "10\n",
      "4\n",
      "21\n",
      "2\n",
      "1\n"
     ]
    }
   ],
   "source": [
    "# 10869\n",
    "x = input().split()\n",
    "print(int(x[0]) + int(x[1]))\n",
    "print(int(x[0]) - int(x[1]))\n",
    "print(int(x[0]) * int(x[1]))\n",
    "print(int(x[0]) // int(x[1]))\n",
    "print(int(x[0]) % int(x[1]))"
   ]
  },
  {
   "cell_type": "code",
   "execution_count": 27,
   "id": "631da04c",
   "metadata": {},
   "outputs": [
    {
     "name": "stdout",
     "output_type": "stream",
     "text": [
      "7931\n"
     ]
    }
   ],
   "source": [
    "# 11382\n",
    "x = input().split()\n",
    "print(int(x[0])+int(x[1])+int(x[2]))"
   ]
  },
  {
   "cell_type": "code",
   "execution_count": 8,
   "id": "d5325ba1",
   "metadata": {},
   "outputs": [
    {
     "name": "stdout",
     "output_type": "stream",
     "text": [
      "joonas??!\n"
     ]
    }
   ],
   "source": [
    "# 10926\n",
    "name = input()\n",
    "print(str(name) + '??!')"
   ]
  },
  {
   "cell_type": "code",
   "execution_count": null,
   "id": "99bdb772",
   "metadata": {},
   "outputs": [
    {
     "name": "stdout",
     "output_type": "stream",
     "text": [
      "1998\n"
     ]
    }
   ],
   "source": [
    "# 18108\n",
    "\n",
    "year = int(input())\n",
    "print(year - 543)"
   ]
  },
  {
   "cell_type": "code",
   "execution_count": 26,
   "id": "6f5684c9",
   "metadata": {},
   "outputs": [
    {
     "name": "stdout",
     "output_type": "stream",
     "text": [
      "|\\_/|\n",
      "|q p|   /}\n",
      "( 0 )\"\"\"\\\n",
      "|\"^\"`    |\n",
      "||_/=\\\\__|\n"
     ]
    }
   ],
   "source": [
    "# 10172\n",
    "dog = '|\\\\_/|\\n|q p|   /}\\n( 0 )\"\"\"\\\\\\n|\"^\"`    |\\n||_/=\\\\\\\\__|'\n",
    "print(dog)"
   ]
  },
  {
   "cell_type": "code",
   "execution_count": 6,
   "id": "8891df19",
   "metadata": {},
   "outputs": [
    {
     "name": "stdout",
     "output_type": "stream",
     "text": [
      "r\n"
     ]
    }
   ],
   "source": [
    "# 27866\n",
    "\n",
    "S = input()\n",
    "i = int(input())\n",
    "print(S[i-1])"
   ]
  },
  {
   "cell_type": "code",
   "execution_count": null,
   "id": "53659ec5",
   "metadata": {},
   "outputs": [
    {
     "data": {
      "text/plain": [
       "8"
      ]
     },
     "execution_count": 8,
     "metadata": {},
     "output_type": "execute_result"
    }
   ],
   "source": [
    "# 2743\n",
    "w = input()\n",
    "print(len(w))"
   ]
  },
  {
   "cell_type": "code",
   "execution_count": 12,
   "id": "96dff3ad",
   "metadata": {},
   "outputs": [
    {
     "name": "stdout",
     "output_type": "stream",
     "text": [
      "ae\n",
      "oo\n",
      "ab\n"
     ]
    }
   ],
   "source": [
    "# 9086\n",
    "num = int(input())\n",
    "\n",
    "for n in range(num):\n",
    "    w = input()\n",
    "    print(w[0] + w[-1])"
   ]
  },
  {
   "cell_type": "code",
   "execution_count": null,
   "id": "7365415f",
   "metadata": {},
   "outputs": [
    {
     "name": "stdout",
     "output_type": "stream",
     "text": [
      "         ,r'\"7\n",
      "r`-_   ,'  ,/\n",
      " \\. \". L_r'\n",
      "   `~\\/\n",
      "      |\n",
      "      |\n"
     ]
    },
    {
     "name": "stderr",
     "output_type": "stream",
     "text": [
      "<>:2: SyntaxWarning: invalid escape sequence '\\.'\n",
      "<>:2: SyntaxWarning: invalid escape sequence '\\.'\n",
      "C:\\Users\\배성우\\AppData\\Local\\Temp\\ipykernel_23544\\4218889690.py:2: SyntaxWarning: invalid escape sequence '\\.'\n",
      "  sesac = '''         ,r'\"7\\nr`-_   ,'  ,/\\n \\. \". L_r'\\n   `~\\/\\n      |\\n      |'''\n"
     ]
    }
   ],
   "source": [
    "# 25083(제출 완료)\n",
    "sesac = '''         ,r'\"7\\nr`-_   ,'  ,/\\n \\. \". L_r'\\n   `~\\/\\n      |\\n      |'''\n",
    "print(sesac)"
   ]
  },
  {
   "cell_type": "code",
   "execution_count": null,
   "id": "0628c716",
   "metadata": {},
   "outputs": [
    {
     "name": "stdout",
     "output_type": "stream",
     "text": [
      "\\    /\\\n",
      " )  ( ')\n",
      "(  /  )\n",
      " \\(__)|\n"
     ]
    },
    {
     "name": "stderr",
     "output_type": "stream",
     "text": [
      "<>:2: SyntaxWarning: invalid escape sequence '\\ '\n",
      "<>:2: SyntaxWarning: invalid escape sequence '\\ '\n",
      "C:\\Users\\배성우\\AppData\\Local\\Temp\\ipykernel_23544\\2605402452.py:2: SyntaxWarning: invalid escape sequence '\\ '\n",
      "  cat = '''\\    /\\\\\\n )  ( ')\\n(  /  )\\n \\(__)|'''\n"
     ]
    }
   ],
   "source": [
    "# 10171(제출 완료)\n",
    "cat = '''\\    /\\\\\\n )  ( ')\\n(  /  )\\n \\(__)|'''\n",
    "print(cat)"
   ]
  },
  {
   "cell_type": "code",
   "execution_count": 1,
   "id": "a2cf31b1",
   "metadata": {},
   "outputs": [
    {
     "name": "stdout",
     "output_type": "stream",
     "text": [
      "10\n",
      "0\n"
     ]
    }
   ],
   "source": [
    "# 1271\n",
    "x = input().split()\n",
    "print(int(x[0]) // int(x[1]))\n",
    "print(int(x[0]) % int(x[1]))"
   ]
  },
  {
   "cell_type": "code",
   "execution_count": null,
   "id": "4989d8f5",
   "metadata": {},
   "outputs": [
    {
     "ename": "NameError",
     "evalue": "name 'now' is not defined",
     "output_type": "error",
     "traceback": [
      "\u001b[31m---------------------------------------------------------------------------\u001b[39m",
      "\u001b[31mNameError\u001b[39m                                 Traceback (most recent call last)",
      "\u001b[36mCell\u001b[39m\u001b[36m \u001b[39m\u001b[32mIn[18]\u001b[39m\u001b[32m, line 3\u001b[39m\n\u001b[32m      1\u001b[39m \u001b[38;5;66;03m# 10699\u001b[39;00m\n\u001b[32m----> \u001b[39m\u001b[32m3\u001b[39m \u001b[38;5;28mprint\u001b[39m(\u001b[43mnow\u001b[49m)\n",
      "\u001b[31mNameError\u001b[39m: name 'now' is not defined"
     ]
    }
   ],
   "source": [
    "# 10699\n",
    "now = today \n",
    "print(now)"
   ]
  }
 ],
 "metadata": {
  "kernelspec": {
   "display_name": "Python 3",
   "language": "python",
   "name": "python3"
  },
  "language_info": {
   "codemirror_mode": {
    "name": "ipython",
    "version": 3
   },
   "file_extension": ".py",
   "mimetype": "text/x-python",
   "name": "python",
   "nbconvert_exporter": "python",
   "pygments_lexer": "ipython3",
   "version": "3.13.2"
  }
 },
 "nbformat": 4,
 "nbformat_minor": 5
}
