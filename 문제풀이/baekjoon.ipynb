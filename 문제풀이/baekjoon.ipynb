{
 "cells": [
  {
   "cell_type": "code",
   "execution_count": null,
   "id": "33a3d220",
   "metadata": {},
   "outputs": [],
   "source": [
    "# 1000\n",
    "a = input().split()\n",
    "print(int(a[0])+int(a[1]))"
   ]
  },
  {
   "cell_type": "code",
   "execution_count": null,
   "id": "41596bb9",
   "metadata": {},
   "outputs": [],
   "source": [
    "# 1001\n",
    "a = input().split()\n",
    "print(int(a[0])-int(a[1]))"
   ]
  },
  {
   "cell_type": "code",
   "execution_count": 1,
   "id": "4f36ff55",
   "metadata": {},
   "outputs": [
    {
     "name": "stdout",
     "output_type": "stream",
     "text": [
      "Hello World!\n"
     ]
    }
   ],
   "source": [
    "# 2557\n",
    "print('Hello World!')"
   ]
  },
  {
   "cell_type": "code",
   "execution_count": 4,
   "id": "b4a89033",
   "metadata": {},
   "outputs": [
    {
     "name": "stdout",
     "output_type": "stream",
     "text": [
      "2\n"
     ]
    }
   ],
   "source": [
    "# 10998\n",
    "x = input().split()\n",
    "print(int(x[0]) * int(x[1]))"
   ]
  },
  {
   "cell_type": "code",
   "execution_count": 5,
   "id": "4fd79997",
   "metadata": {},
   "outputs": [
    {
     "name": "stdout",
     "output_type": "stream",
     "text": [
      "0.3333333333333333\n"
     ]
    }
   ],
   "source": [
    "# 1008\n",
    "x = input().split()\n",
    "print(int(x[0]) / int(x[1]))"
   ]
  },
  {
   "cell_type": "code",
   "execution_count": 7,
   "id": "df205583",
   "metadata": {},
   "outputs": [
    {
     "name": "stdout",
     "output_type": "stream",
     "text": [
      "10\n",
      "4\n",
      "21\n",
      "2\n",
      "1\n"
     ]
    }
   ],
   "source": [
    "# 10869\n",
    "x = input().split()\n",
    "print(int(x[0]) + int(x[1]))\n",
    "print(int(x[0]) - int(x[1]))\n",
    "print(int(x[0]) * int(x[1]))\n",
    "print(int(x[0]) // int(x[1]))\n",
    "print(int(x[0]) % int(x[1]))"
   ]
  },
  {
   "cell_type": "code",
   "execution_count": 27,
   "id": "631da04c",
   "metadata": {},
   "outputs": [
    {
     "name": "stdout",
     "output_type": "stream",
     "text": [
      "7931\n"
     ]
    }
   ],
   "source": [
    "# 11382\n",
    "x = input().split()\n",
    "print(int(x[0])+int(x[1])+int(x[2]))"
   ]
  },
  {
   "cell_type": "code",
   "execution_count": 8,
   "id": "d5325ba1",
   "metadata": {},
   "outputs": [
    {
     "name": "stdout",
     "output_type": "stream",
     "text": [
      "joonas??!\n"
     ]
    }
   ],
   "source": [
    "# 10926\n",
    "name = input()\n",
    "print(str(name) + '??!')"
   ]
  },
  {
   "cell_type": "code",
   "execution_count": null,
   "id": "99bdb772",
   "metadata": {},
   "outputs": [
    {
     "name": "stdout",
     "output_type": "stream",
     "text": [
      "1998\n"
     ]
    }
   ],
   "source": [
    "# 18108\n",
    "\n",
    "year = int(input())\n",
    "print(year - 543)"
   ]
  },
  {
   "cell_type": "code",
   "execution_count": 26,
   "id": "6f5684c9",
   "metadata": {},
   "outputs": [
    {
     "name": "stdout",
     "output_type": "stream",
     "text": [
      "|\\_/|\n",
      "|q p|   /}\n",
      "( 0 )\"\"\"\\\n",
      "|\"^\"`    |\n",
      "||_/=\\\\__|\n"
     ]
    }
   ],
   "source": [
    "# 10172\n",
    "dog = '|\\\\_/|\\n|q p|   /}\\n( 0 )\"\"\"\\\\\\n|\"^\"`    |\\n||_/=\\\\\\\\__|'\n",
    "print(dog)"
   ]
  },
  {
   "cell_type": "code",
   "execution_count": 6,
   "id": "8891df19",
   "metadata": {},
   "outputs": [
    {
     "name": "stdout",
     "output_type": "stream",
     "text": [
      "r\n"
     ]
    }
   ],
   "source": [
    "# 27866\n",
    "\n",
    "S = input()\n",
    "i = int(input())\n",
    "print(S[i-1])"
   ]
  },
  {
   "cell_type": "code",
   "execution_count": null,
   "id": "53659ec5",
   "metadata": {},
   "outputs": [
    {
     "data": {
      "text/plain": [
       "8"
      ]
     },
     "execution_count": 8,
     "metadata": {},
     "output_type": "execute_result"
    }
   ],
   "source": [
    "# 2743\n",
    "w = input()\n",
    "print(len(w))"
   ]
  },
  {
   "cell_type": "code",
   "execution_count": 12,
   "id": "96dff3ad",
   "metadata": {},
   "outputs": [
    {
     "name": "stdout",
     "output_type": "stream",
     "text": [
      "ae\n",
      "oo\n",
      "ab\n"
     ]
    }
   ],
   "source": [
    "# 9086\n",
    "num = int(input())\n",
    "\n",
    "for n in range(num):\n",
    "    w = input()\n",
    "    print(w[0] + w[-1])"
   ]
  },
  {
   "cell_type": "code",
   "execution_count": null,
   "id": "7365415f",
   "metadata": {},
   "outputs": [
    {
     "name": "stdout",
     "output_type": "stream",
     "text": [
      "         ,r'\"7\n",
      "r`-_   ,'  ,/\n",
      " \\. \". L_r'\n",
      "   `~\\/\n",
      "      |\n",
      "      |\n"
     ]
    },
    {
     "name": "stderr",
     "output_type": "stream",
     "text": [
      "<>:2: SyntaxWarning: invalid escape sequence '\\.'\n",
      "<>:2: SyntaxWarning: invalid escape sequence '\\.'\n",
      "C:\\Users\\배성우\\AppData\\Local\\Temp\\ipykernel_23544\\4218889690.py:2: SyntaxWarning: invalid escape sequence '\\.'\n",
      "  sesac = '''         ,r'\"7\\nr`-_   ,'  ,/\\n \\. \". L_r'\\n   `~\\/\\n      |\\n      |'''\n"
     ]
    }
   ],
   "source": [
    "# 25083(제출 완료)\n",
    "sesac = '''         ,r'\"7\\nr`-_   ,'  ,/\\n \\. \". L_r'\\n   `~\\/\\n      |\\n      |'''\n",
    "print(sesac)"
   ]
  },
  {
   "cell_type": "code",
   "execution_count": null,
   "id": "0628c716",
   "metadata": {},
   "outputs": [
    {
     "name": "stdout",
     "output_type": "stream",
     "text": [
      "\\    /\\\n",
      " )  ( ')\n",
      "(  /  )\n",
      " \\(__)|\n"
     ]
    },
    {
     "name": "stderr",
     "output_type": "stream",
     "text": [
      "<>:2: SyntaxWarning: invalid escape sequence '\\ '\n",
      "<>:2: SyntaxWarning: invalid escape sequence '\\ '\n",
      "C:\\Users\\배성우\\AppData\\Local\\Temp\\ipykernel_23544\\2605402452.py:2: SyntaxWarning: invalid escape sequence '\\ '\n",
      "  cat = '''\\    /\\\\\\n )  ( ')\\n(  /  )\\n \\(__)|'''\n"
     ]
    }
   ],
   "source": [
    "# 10171(제출 완료)\n",
    "cat = '''\\    /\\\\\\n )  ( ')\\n(  /  )\\n \\(__)|'''\n",
    "print(cat)"
   ]
  },
  {
   "cell_type": "code",
   "execution_count": null,
   "id": "a2cf31b1",
   "metadata": {},
   "outputs": [
    {
     "name": "stdout",
     "output_type": "stream",
     "text": [
      "10\n",
      "0\n"
     ]
    }
   ],
   "source": [
    "# 1271(제출 완료)\n",
    "x = input().split()\n",
    "print(int(x[0]) // int(x[1]))\n",
    "print(int(x[0]) % int(x[1]))"
   ]
  },
  {
   "cell_type": "code",
   "execution_count": null,
   "id": "0600ff33",
   "metadata": {},
   "outputs": [
    {
     "name": "stdout",
     "output_type": "stream",
     "text": [
      "==\n"
     ]
    }
   ],
   "source": [
    "# 1330(제출 완료)\n",
    "x = input().split()\n",
    "\n",
    "if x[0] > x[1]:\n",
    "    print(\">\")\n",
    "elif x[0] < x[1]:\n",
    "    print(\"<\")\n",
    "else:\n",
    "    print(\"==\")    "
   ]
  },
  {
   "cell_type": "code",
   "execution_count": 7,
   "id": "789b9a18",
   "metadata": {},
   "outputs": [
    {
     "name": "stdout",
     "output_type": "stream",
     "text": [
      "\n",
      "(___)\n",
      "(o o)____/\n",
      " @@      \\\n",
      "  \\ ____,/\n",
      "  //   //\n",
      " ^^   ^^\n",
      "\n"
     ]
    },
    {
     "name": "stderr",
     "output_type": "stream",
     "text": [
      "<>:2: SyntaxWarning: invalid escape sequence '\\ '\n",
      "<>:2: SyntaxWarning: invalid escape sequence '\\ '\n",
      "C:\\Users\\배성우\\AppData\\Local\\Temp\\ipykernel_12056\\276501079.py:2: SyntaxWarning: invalid escape sequence '\\ '\n",
      "  cow = \"\"\"\n"
     ]
    }
   ],
   "source": [
    "# 1809\n",
    "cow = \"\"\"\n",
    "(___)\\n(o o)____/\\n @@      \\\\\\n  \\ ____,/\\n  //   //\\n ^^   ^^\n",
    "\"\"\"\n",
    "print(cow)"
   ]
  },
  {
   "cell_type": "code",
   "execution_count": 9,
   "id": "12c6140a",
   "metadata": {},
   "outputs": [
    {
     "name": "stdout",
     "output_type": "stream",
     "text": [
      "0\n",
      "2\n",
      "-1\n"
     ]
    }
   ],
   "source": [
    "# 2338\n",
    "a = int(input())\n",
    "b = int(input())\n",
    "\n",
    "print(a+b)\n",
    "print(a-b)\n",
    "print(a*b)"
   ]
  },
  {
   "cell_type": "code",
   "execution_count": 12,
   "id": "e136aee8",
   "metadata": {},
   "outputs": [
    {
     "name": "stdout",
     "output_type": "stream",
     "text": [
      "\n",
      "  ___  ___  ___\n",
      "  | |__| |__| |\n",
      "  |           |\n",
      "   \\_________/\n",
      "    \\_______/\n",
      "     |     |\n",
      "     |     |\n",
      "     |     |\n",
      "     |     |\n",
      "     |_____|\n",
      "  __/       \\__\n",
      " /             \\\n",
      "/_______________\\\n",
      "\n"
     ]
    },
    {
     "name": "stderr",
     "output_type": "stream",
     "text": [
      "<>:2: SyntaxWarning: invalid escape sequence '\\_'\n",
      "<>:2: SyntaxWarning: invalid escape sequence '\\_'\n",
      "C:\\Users\\배성우\\AppData\\Local\\Temp\\ipykernel_12056\\3513188676.py:2: SyntaxWarning: invalid escape sequence '\\_'\n",
      "  rook = '''\n"
     ]
    }
   ],
   "source": [
    "# 2393\n",
    "rook = '''\n",
    "  ___  ___  ___\\n  | |__| |__| |\\n  |           |\\n   \\_________/\\n    \\_______/\\n     |     |\\n     |     |\\n     |     |\\n     |     |\\n     |_____|\\n  __/       \\__\\n /             \\\\\\n/_______________\\\\\n",
    "'''\n",
    "print(rook)"
   ]
  },
  {
   "cell_type": "code",
   "execution_count": 14,
   "id": "1905a03a",
   "metadata": {},
   "outputs": [
    {
     "data": {
      "text/plain": [
       "7"
      ]
     },
     "execution_count": 14,
     "metadata": {},
     "output_type": "execute_result"
    }
   ],
   "source": [
    "# 2420\n",
    "x = input().split()\n",
    "abs(int(x[0])-int(x[1]))"
   ]
  },
  {
   "cell_type": "code",
   "execution_count": null,
   "id": "8e863afe",
   "metadata": {},
   "outputs": [
    {
     "name": "stdout",
     "output_type": "stream",
     "text": [
      "*\n",
      "**\n"
     ]
    }
   ],
   "source": [
    "# 2438(제출완료)\n",
    "x = int(input())\n",
    "\n",
    "for n in range(x):\n",
    "    print('*' * (n+1))"
   ]
  },
  {
   "cell_type": "markdown",
   "id": "8c401b0f",
   "metadata": {},
   "source": [
    "연도가 주어졌을 때, 윤년이면 1, 아니면 0을 출력하는 프로그램을 작성하시오.\n",
    "\n",
    "윤년은 연도가 4의 배수이면서, 100의 배수가 아닐 때 또는 400의 배수일 때이다.\n",
    "\n",
    "예를 들어, 2012년은 4의 배수이면서 100의 배수가 아니라서 윤년이다. 1900년은 100의 배수이고 400의 배수는 아니기 때문에 윤년이 아니다. 하지만, 2000년은 400의 배수이기 때문에 윤년이다."
   ]
  },
  {
   "cell_type": "code",
   "execution_count": null,
   "id": "bcc56319",
   "metadata": {},
   "outputs": [],
   "source": [
    "# 2753 \n",
    "\n",
    "year = int(input())\n",
    "\n",
    "if year % 4 == 0:\n",
    "    if year % 100 != 0:\n",
    "        if year % 400 == 0:\n",
    "            print(1)\n",
    "else:\n",
    "    print(0)"
   ]
  },
  {
   "cell_type": "code",
   "execution_count": null,
   "id": "636b7f69",
   "metadata": {},
   "outputs": [
    {
     "name": "stdout",
     "output_type": "stream",
     "text": [
      "1\n",
      "1\n",
      "0\n",
      "0\n"
     ]
    }
   ],
   "source": [
    "# 10430(제출완료)\n",
    "x = input().split()\n",
    "\n",
    "a = int(x[0]) \n",
    "b = int(x[1])\n",
    "c = int(x[2])\n",
    "\n",
    "print((a+b) % c)\n",
    "print(((a%c) + (b%c)) % c)\n",
    "print((a*b)%c)\n",
    "print(((a%c) * (b%c)) % c)"
   ]
  },
  {
   "cell_type": "code",
   "execution_count": null,
   "id": "51d4df03",
   "metadata": {},
   "outputs": [],
   "source": [
    "# 2739\n",
    "dan = int(input())\n",
    "\n",
    "for i in range(1, 10):\n",
    "    print(f'{dan} * {i} = {dan*i}')"
   ]
  },
  {
   "cell_type": "code",
   "execution_count": null,
   "id": "d907a7bd",
   "metadata": {},
   "outputs": [],
   "source": [
    "# 10813\n",
    "N, M = map(int, input().split())\n",
    "\n",
    "basket = [i for i in range(1, N+1)]\n",
    "\n",
    "for _ in range(M):\n",
    "    i, j = map(input().split())\n",
    "    i -= 1\n",
    "    j -= 1\n",
    "\n",
    "    basket[i], basket[j] = basket[j], basket[i]\n",
    "\n",
    "\n",
    "print(*basket) # *가 리스트를 벗겨줌"
   ]
  }
 ],
 "metadata": {
  "kernelspec": {
   "display_name": "Python 3",
   "language": "python",
   "name": "python3"
  },
  "language_info": {
   "codemirror_mode": {
    "name": "ipython",
    "version": 3
   },
   "file_extension": ".py",
   "mimetype": "text/x-python",
   "name": "python",
   "nbconvert_exporter": "python",
   "pygments_lexer": "ipython3",
   "version": "3.13.2"
  }
 },
 "nbformat": 4,
 "nbformat_minor": 5
}
