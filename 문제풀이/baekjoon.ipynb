{
 "cells": [
  {
   "cell_type": "code",
   "execution_count": null,
   "id": "33a3d220",
   "metadata": {},
   "outputs": [],
   "source": [
    "# 1000\n",
    "a = input().split()\n",
    "print(int(a[0])+int(a[1]))"
   ]
  },
  {
   "cell_type": "code",
   "execution_count": null,
   "id": "41596bb9",
   "metadata": {},
   "outputs": [],
   "source": [
    "# 1001\n",
    "a = input().split()\n",
    "print(int(a[0])-int(a[1]))"
   ]
  },
  {
   "cell_type": "code",
   "execution_count": 1,
   "id": "4f36ff55",
   "metadata": {},
   "outputs": [
    {
     "name": "stdout",
     "output_type": "stream",
     "text": [
      "Hello World!\n"
     ]
    }
   ],
   "source": [
    "# 2557\n",
    "print('Hello World!')"
   ]
  },
  {
   "cell_type": "code",
   "execution_count": 4,
   "id": "b4a89033",
   "metadata": {},
   "outputs": [
    {
     "name": "stdout",
     "output_type": "stream",
     "text": [
      "2\n"
     ]
    }
   ],
   "source": [
    "# 10998\n",
    "x = input().split()\n",
    "print(int(x[0]) * int(x[1]))"
   ]
  },
  {
   "cell_type": "code",
   "execution_count": 5,
   "id": "4fd79997",
   "metadata": {},
   "outputs": [
    {
     "name": "stdout",
     "output_type": "stream",
     "text": [
      "0.3333333333333333\n"
     ]
    }
   ],
   "source": [
    "# 1008\n",
    "x = input().split()\n",
    "print(int(x[0]) / int(x[1]))"
   ]
  },
  {
   "cell_type": "code",
   "execution_count": 7,
   "id": "df205583",
   "metadata": {},
   "outputs": [
    {
     "name": "stdout",
     "output_type": "stream",
     "text": [
      "10\n",
      "4\n",
      "21\n",
      "2\n",
      "1\n"
     ]
    }
   ],
   "source": [
    "# 10869\n",
    "x = input().split()\n",
    "print(int(x[0]) + int(x[1]))\n",
    "print(int(x[0]) - int(x[1]))\n",
    "print(int(x[0]) * int(x[1]))\n",
    "print(int(x[0]) // int(x[1]))\n",
    "print(int(x[0]) % int(x[1]))"
   ]
  },
  {
   "cell_type": "code",
   "execution_count": 27,
   "id": "631da04c",
   "metadata": {},
   "outputs": [
    {
     "name": "stdout",
     "output_type": "stream",
     "text": [
      "7931\n"
     ]
    }
   ],
   "source": [
    "# 11382\n",
    "x = input().split()\n",
    "print(int(x[0])+int(x[1])+int(x[2]))"
   ]
  },
  {
   "cell_type": "code",
   "execution_count": 8,
   "id": "d5325ba1",
   "metadata": {},
   "outputs": [
    {
     "name": "stdout",
     "output_type": "stream",
     "text": [
      "joonas??!\n"
     ]
    }
   ],
   "source": [
    "# 10926\n",
    "name = input()\n",
    "print(str(name) + '??!')"
   ]
  },
  {
   "cell_type": "code",
   "execution_count": null,
   "id": "99bdb772",
   "metadata": {},
   "outputs": [
    {
     "name": "stdout",
     "output_type": "stream",
     "text": [
      "1998\n"
     ]
    }
   ],
   "source": [
    "# 18108\n",
    "\n",
    "year = int(input())\n",
    "print(year - 543)"
   ]
  },
  {
   "cell_type": "code",
   "execution_count": 26,
   "id": "6f5684c9",
   "metadata": {},
   "outputs": [
    {
     "name": "stdout",
     "output_type": "stream",
     "text": [
      "|\\_/|\n",
      "|q p|   /}\n",
      "( 0 )\"\"\"\\\n",
      "|\"^\"`    |\n",
      "||_/=\\\\__|\n"
     ]
    }
   ],
   "source": [
    "# 10172\n",
    "dog = '|\\\\_/|\\n|q p|   /}\\n( 0 )\"\"\"\\\\\\n|\"^\"`    |\\n||_/=\\\\\\\\__|'\n",
    "print(dog)"
   ]
  },
  {
   "cell_type": "code",
   "execution_count": null,
   "id": "8891df19",
   "metadata": {},
   "outputs": [],
   "source": []
  }
 ],
 "metadata": {
  "kernelspec": {
   "display_name": "Python 3",
   "language": "python",
   "name": "python3"
  },
  "language_info": {
   "codemirror_mode": {
    "name": "ipython",
    "version": 3
   },
   "file_extension": ".py",
   "mimetype": "text/x-python",
   "name": "python",
   "nbconvert_exporter": "python",
   "pygments_lexer": "ipython3",
   "version": "3.13.2"
  }
 },
 "nbformat": 4,
 "nbformat_minor": 5
}
