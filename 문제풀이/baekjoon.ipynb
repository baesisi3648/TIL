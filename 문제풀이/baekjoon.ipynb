{
 "cells": [
  {
   "cell_type": "code",
   "execution_count": null,
   "id": "33a3d220",
   "metadata": {},
   "outputs": [],
   "source": [
    "# 1000\n",
    "a = input().split()\n",
    "print(int(a[0])+int(a[1]))"
   ]
  },
  {
   "cell_type": "code",
   "execution_count": null,
   "id": "41596bb9",
   "metadata": {},
   "outputs": [],
   "source": [
    "# 1001\n",
    "a = input().split()\n",
    "print(int(a[0])-int(a[1]))"
   ]
  }
 ],
 "metadata": {
  "language_info": {
   "name": "python"
  }
 },
 "nbformat": 4,
 "nbformat_minor": 5
}
