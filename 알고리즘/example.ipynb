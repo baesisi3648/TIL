{
 "cells": [
  {
   "cell_type": "code",
   "execution_count": null,
   "id": "40ae55f9",
   "metadata": {},
   "outputs": [],
   "source": [
    "users = {\n",
    "\t'total_user': 3,\n",
    "\t'information': [\n",
    "\t\t\t{'name': 'ken', 'age':20, 'license':True},\n",
    "\t\t\t{'name': 'jun', 'age':7, 'license':False},\n",
    "\t\t\t{'name': 'alex', 'age':30, 'license':False}\n",
    "\t]\n",
    "}"
   ]
  },
  {
   "cell_type": "code",
   "execution_count": 20,
   "id": "f3e2d2ae",
   "metadata": {},
   "outputs": [
    {
     "data": {
      "text/plain": [
       "19.0"
      ]
     },
     "execution_count": 20,
     "metadata": {},
     "output_type": "execute_result"
    }
   ],
   "source": [
    "ages = []\n",
    "for n in range(3):\n",
    "    num = users['information'][n]['age']\n",
    "    ages.append(num)\n",
    "\n",
    "sum(ages) / len(ages)\n"
   ]
  },
  {
   "cell_type": "code",
   "execution_count": 22,
   "id": "75b66212",
   "metadata": {},
   "outputs": [
    {
     "name": "stdout",
     "output_type": "stream",
     "text": [
      "19.0\n"
     ]
    }
   ],
   "source": [
    "a = b = 0\n",
    "for i in users['information']:\n",
    "    a += i['age']\n",
    "    b += 1\n",
    "\n",
    "print(a/b)"
   ]
  },
  {
   "cell_type": "code",
   "execution_count": null,
   "id": "f236af7c",
   "metadata": {},
   "outputs": [
    {
     "name": "stdout",
     "output_type": "stream",
     "text": [
      "{3: 5, 1: 2, 2: 3, 77: 1}\n"
     ]
    }
   ],
   "source": [
    "gems = [3, 3, 1, 2, 3, 2, 2, 3, 3, 1, 77]\n",
    "\n",
    "grades = {}\n",
    "for gem in gems:\n",
    "    if gem in grades:\n",
    "        grades[gem] += 1\n",
    "    else:\n",
    "        grades[gem] = 1\n",
    "\n",
    "print(grades)      "
   ]
  },
  {
   "cell_type": "code",
   "execution_count": 42,
   "id": "5d044a92",
   "metadata": {},
   "outputs": [
    {
     "name": "stdout",
     "output_type": "stream",
     "text": [
      "{3: 5, 1: 2, 2: 3, 77: 1}\n"
     ]
    }
   ],
   "source": [
    "gems = [3, 3, 1, 2, 3, 2, 2, 3, 3, 1, 77]\n",
    "\n",
    "grades = {}\n",
    "for gem in gems:\n",
    "    grades[gem] = grades.get(gem, 0) + 1 # gem이 없으면 0을 반환\n",
    "\n",
    "print(grades)"
   ]
  },
  {
   "cell_type": "code",
   "execution_count": null,
   "id": "e07e2931",
   "metadata": {},
   "outputs": [
    {
     "data": {
      "text/plain": [
       "{1, 2, 3}"
      ]
     },
     "execution_count": 41,
     "metadata": {},
     "output_type": "execute_result"
    }
   ],
   "source": [
    "numbers = [1,2,3,2,1]\n",
    "\n",
    "set(numbers)\n",
    "\n",
    "def solution(numbers):\n",
    "    for i in set(numbers):\n",
    "        if numbers.count(i) == 1:\n",
    "            return i"
   ]
  }
 ],
 "metadata": {
  "kernelspec": {
   "display_name": "Python 3",
   "language": "python",
   "name": "python3"
  },
  "language_info": {
   "codemirror_mode": {
    "name": "ipython",
    "version": 3
   },
   "file_extension": ".py",
   "mimetype": "text/x-python",
   "name": "python",
   "nbconvert_exporter": "python",
   "pygments_lexer": "ipython3",
   "version": "3.13.2"
  }
 },
 "nbformat": 4,
 "nbformat_minor": 5
}
